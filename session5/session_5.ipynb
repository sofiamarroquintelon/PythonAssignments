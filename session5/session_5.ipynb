{
 "cells": [
  {
   "cell_type": "markdown",
   "id": "24b98369-c7ba-450b-a8b5-e34319000695",
   "metadata": {
    "slideshow": {
     "slide_type": "slide"
    },
    "tags": []
   },
   "source": [
    "# Python for Data Science\n",
    "## Session 5 \n",
    "### Basic Libraries II"
   ]
  },
  {
   "cell_type": "markdown",
   "id": "3ace1343-d73d-466d-aa07-56febbb7cbf1",
   "metadata": {
    "slideshow": {
     "slide_type": "skip"
    },
    "tags": []
   },
   "source": [
    "---"
   ]
  },
  {
   "cell_type": "markdown",
   "id": "c5ffee69-5d4d-4f1c-9ed7-083afbc931ec",
   "metadata": {
    "slideshow": {
     "slide_type": "slide"
    },
    "tags": []
   },
   "source": [
    "## Outline\n",
    "\n",
    "1. Json, pickle and parquet formats\n",
    "\n",
    "2. Re library\n",
    "\n",
    "3. Time and Datetime libraries"
   ]
  },
  {
   "cell_type": "markdown",
   "id": "aba315f4-e9bf-4a66-b3d3-593037c3ca70",
   "metadata": {
    "slideshow": {
     "slide_type": "skip"
    },
    "tags": []
   },
   "source": [
    "---"
   ]
  },
  {
   "cell_type": "markdown",
   "id": "8ed45dcb-2cf5-4bfa-ba6e-5da25c59757c",
   "metadata": {
    "slideshow": {
     "slide_type": "slide"
    },
    "tags": []
   },
   "source": [
    "## Basic Libraries II\n",
    "\n",
    "Before starting working with different formats, let's see how we can create and read text files using Python buil-in function called **open**. "
   ]
  },
  {
   "cell_type": "code",
   "execution_count": 1,
   "id": "5f7ccded",
   "metadata": {
    "slideshow": {
     "slide_type": "subslide"
    }
   },
   "outputs": [],
   "source": [
    "# Open and write down a file\n",
    "f = open('text_file.txt', 'w')\n",
    "f.write('Hello')\n",
    "f.write('\\n') #new line \"\\\"\n",
    "f.write('Bye')\n",
    "f.close()"
   ]
  },
  {
   "cell_type": "code",
   "execution_count": 2,
   "id": "116186a1",
   "metadata": {
    "slideshow": {
     "slide_type": "subslide"
    }
   },
   "outputs": [
    {
     "name": "stdout",
     "output_type": "stream",
     "text": [
      "Hello\n",
      "Bye\n"
     ]
    }
   ],
   "source": [
    "# Open and read content of a file\n",
    "f = open('text_file.txt', 'r')\n",
    "content = f.read()\n",
    "f.close()\n",
    "print(content)"
   ]
  },
  {
   "cell_type": "code",
   "execution_count": 3,
   "id": "5d60bcc2",
   "metadata": {
    "slideshow": {
     "slide_type": "subslide"
    }
   },
   "outputs": [
    {
     "name": "stdout",
     "output_type": "stream",
     "text": [
      "Line 0: Hello\n",
      "Line 1: Bye\n"
     ]
    }
   ],
   "source": [
    "# We can also simply split lines by using\n",
    "f = open('text_file.txt', 'r')\n",
    "lines = f.read().splitlines()\n",
    "f.close()\n",
    "# loop over the lines\n",
    "for idx, line in enumerate(lines): # enumerate provides returns the index and element\n",
    "    print(f'Line {idx}: {line}')"
   ]
  },
  {
   "cell_type": "code",
   "execution_count": 4,
   "id": "ef202e60",
   "metadata": {
    "slideshow": {
     "slide_type": "subslide"
    }
   },
   "outputs": [],
   "source": [
    "# Let's create a CSV (comma separated values) file\n",
    "header = \"Name,Age,Grade\\n\"\n",
    "rows = [\n",
    "    \"Jaume,30,8.9\\n\",\n",
    "    \"Francisco,25,7.1\\n\",\n",
    "    \"Elena,35,9.2\\n\"\n",
    "]"
   ]
  },
  {
   "cell_type": "code",
   "execution_count": 5,
   "id": "f4d4930e",
   "metadata": {
    "slideshow": {
     "slide_type": "subslide"
    }
   },
   "outputs": [],
   "source": [
    "with open(\"grades.csv\", \"w\") as f:\n",
    "    f.write(header) # Write the header\n",
    "    \n",
    "    # Write each row of data\n",
    "    for row in rows:\n",
    "        f.write(row)"
   ]
  },
  {
   "cell_type": "code",
   "execution_count": 6,
   "id": "35de8a4b",
   "metadata": {
    "slideshow": {
     "slide_type": "subslide"
    }
   },
   "outputs": [
    {
     "name": "stdout",
     "output_type": "stream",
     "text": [
      "['Name', 'Age', 'Grade']\n"
     ]
    },
    {
     "data": {
      "text/plain": [
       "{'students': [{'Name': 'Jaume', 'Age': '30', 'Grade': '8.9'},\n",
       "  {'Name': 'Francisco', 'Age': '25', 'Grade': '7.1'},\n",
       "  {'Name': 'Elena', 'Age': '35', 'Grade': '9.2'}]}"
      ]
     },
     "execution_count": 6,
     "metadata": {},
     "output_type": "execute_result"
    }
   ],
   "source": [
    "with open(\"grades.csv\", \"r\") as f:\n",
    "    lines = f.read().splitlines()\n",
    "    \n",
    "header = lines.pop(0)\n",
    "header = header.split(',')\n",
    "\n",
    "print(header)\n",
    "\n",
    "grades = {'students': []}\n",
    "# create dictionary\n",
    "for line in lines:\n",
    "    student_dict = {}\n",
    "    values = line.split(',')\n",
    "    for idx, column in enumerate(header):\n",
    "        student_dict[column] = values[idx]\n",
    "    grades['students'].append(student_dict)\n",
    "    \n",
    "grades"
   ]
  },
  {
   "cell_type": "markdown",
   "id": "35dc1a74",
   "metadata": {
    "slideshow": {
     "slide_type": "slide"
    },
    "tags": []
   },
   "source": [
    "## Basic Libraries II\n",
    "\n",
    "Another useful statement is **with**. It helps handling properly the resources within its reach, by closing them after its execution. It also makes the code more readable and maintainable."
   ]
  },
  {
   "cell_type": "code",
   "execution_count": 7,
   "id": "474a10ea",
   "metadata": {
    "slideshow": {
     "slide_type": "subslide"
    }
   },
   "outputs": [
    {
     "name": "stdout",
     "output_type": "stream",
     "text": [
      "['Hello', 'Bye']\n"
     ]
    }
   ],
   "source": [
    "with open('text_file.txt', 'r') as f: # we don't have to close the open file, f.close()\n",
    "    lines = f.read().splitlines()\n",
    "    \n",
    "print(lines)"
   ]
  },
  {
   "cell_type": "markdown",
   "id": "557f7645",
   "metadata": {
    "slideshow": {
     "slide_type": "slide"
    },
    "tags": []
   },
   "source": [
    "## Basic Libraries II\n",
    "\n",
    "JavaScript Object Notation (JSON) is a text-based format used for data storing and data interchange across different platforms and languages.\n",
    "\n",
    "Same as dictionaries, data is represented as key-value pairs. "
   ]
  },
  {
   "cell_type": "markdown",
   "id": "9e3e215c",
   "metadata": {
    "slideshow": {
     "slide_type": "slide"
    },
    "tags": []
   },
   "source": [
    "## Basic Libraries II\n",
    "\n",
    "JavaScript Object Notation (JSON) is a text-based format used for data storing and data interchange across different platforms and languages.\n",
    "\n",
    "Same as dictionaries, data is represented as key-value pairs. "
   ]
  },
  {
   "cell_type": "code",
   "execution_count": 8,
   "id": "a85baeee",
   "metadata": {
    "slideshow": {
     "slide_type": "fragment"
    }
   },
   "outputs": [
    {
     "data": {
      "text/plain": [
       "{'students': [{'name': 'Amelie', 'age': 35}, {'name': 'Edgar', 'age': 32}]}"
      ]
     },
     "execution_count": 8,
     "metadata": {},
     "output_type": "execute_result"
    }
   ],
   "source": [
    "{\n",
    "    \"students\": [\n",
    "        {\n",
    "            \"name\": \"Amelie\",\n",
    "            \"age\": 35\n",
    "        },\n",
    "        {\n",
    "            \"name\": \"Edgar\",\n",
    "            \"age\": 32\n",
    "        }\n",
    "    ]\n",
    "}"
   ]
  },
  {
   "cell_type": "code",
   "execution_count": 9,
   "id": "03372288",
   "metadata": {
    "slideshow": {
     "slide_type": "subslide"
    }
   },
   "outputs": [
    {
     "data": {
      "text/plain": [
       "[{'name': 'Amelie', 'age': 35}, {'name': 'Edgar', 'age': 32}]"
      ]
     },
     "execution_count": 9,
     "metadata": {},
     "output_type": "execute_result"
    }
   ],
   "source": [
    "# other valid formats\n",
    "[\n",
    "    {\n",
    "        \"name\": \"Amelie\",\n",
    "        \"age\": 35\n",
    "    },\n",
    "    {\n",
    "        \"name\": \"Edgar\",\n",
    "        \"age\": 32\n",
    "    }\n",
    "]"
   ]
  },
  {
   "cell_type": "code",
   "execution_count": 10,
   "id": "21363512",
   "metadata": {
    "slideshow": {
     "slide_type": "subslide"
    }
   },
   "outputs": [
    {
     "data": {
      "text/plain": [
       "['Amelie', 137, True, None, {'age': 35}, [10, 12, 13]]"
      ]
     },
     "execution_count": 10,
     "metadata": {},
     "output_type": "execute_result"
    }
   ],
   "source": [
    "# other valid formats\n",
    "[\n",
    "    \"Amelie\",\n",
    "    137,\n",
    "    True, # within the json file True is equivalent to true\n",
    "    None, # within the json file None is equivalent to null\n",
    "    {\"age\": 35},\n",
    "    [10, 12, 13]\n",
    "]"
   ]
  },
  {
   "cell_type": "markdown",
   "id": "2d4f9fc6",
   "metadata": {
    "slideshow": {
     "slide_type": "slide"
    }
   },
   "source": [
    "## Basic Libraries II\n",
    "\n",
    "To read and write down json files and manipulate them, we have the built-in json library within Python."
   ]
  },
  {
   "cell_type": "code",
   "execution_count": 11,
   "id": "550d6310",
   "metadata": {
    "slideshow": {
     "slide_type": "subslide"
    }
   },
   "outputs": [],
   "source": [
    "import json\n",
    "data = {\n",
    "    \"students\": [\n",
    "        {\n",
    "            \"name\": \"Amelie\",\n",
    "            \"age\": 35,\n",
    "            \"scolarship\": True\n",
    "        },\n",
    "        {\n",
    "            \"name\": \"Edgar\",\n",
    "            \"age\": 32,\n",
    "            \"scolarship\": None\n",
    "        }\n",
    "    ]\n",
    "}\n",
    "\n",
    "with open('json_example.json', 'w') as f: # write down json\n",
    "    json.dump(data, f) "
   ]
  },
  {
   "cell_type": "code",
   "execution_count": 12,
   "id": "6094e3cf",
   "metadata": {
    "slideshow": {
     "slide_type": "subslide"
    }
   },
   "outputs": [
    {
     "name": "stdout",
     "output_type": "stream",
     "text": [
      "{'students': [{'name': 'Amelie', 'age': 35, 'scolarship': True}, {'name': 'Edgar', 'age': 32, 'scolarship': None}]}\n"
     ]
    }
   ],
   "source": [
    "with open('json_example.json', 'r') as f:\n",
    "    json_data = json.load(f)\n",
    "    \n",
    "print(json_data)"
   ]
  },
  {
   "cell_type": "code",
   "execution_count": 13,
   "id": "c70da614",
   "metadata": {},
   "outputs": [
    {
     "name": "stdout",
     "output_type": "stream",
     "text": [
      "Requirement already satisfied: numpy in /opt/anaconda3/envs/mi_entorno/lib/python3.12/site-packages (2.1.2)\n",
      "Note: you may need to restart the kernel to use updated packages.\n"
     ]
    }
   ],
   "source": [
    "pip install numpy\n"
   ]
  },
  {
   "cell_type": "markdown",
   "id": "c8ad57c3",
   "metadata": {
    "slideshow": {
     "slide_type": "slide"
    },
    "tags": []
   },
   "source": [
    "## Basic Libraries II\n",
    "\n",
    "Similar to JSON, Python includes a Pickle library. However, in contrast to the JSON format, Pickle is a Python-specific serialization format. The Pickle library provides tools to serialize Python objects, which involves transforming them into a stream of bytes. It also allows you to read these byte streams by deserializing them, transforming them back into their original Python objects.\n",
    "\n",
    "In contrast to the JSON format, the binary format is usually more compact and, therefore, more efficient."
   ]
  },
  {
   "cell_type": "code",
   "execution_count": 14,
   "id": "5ab37f4f",
   "metadata": {
    "slideshow": {
     "slide_type": "subslide"
    }
   },
   "outputs": [
    {
     "name": "stdout",
     "output_type": "stream",
     "text": [
      "[0.40391131 0.47186222 0.48141398 0.89403334 0.25093387 0.49981874\n",
      " 0.21250853 0.56821854 0.03058725 0.450136  ]\n"
     ]
    }
   ],
   "source": [
    "import numpy as np\n",
    "data = np.random.rand(10)\n",
    "\n",
    "import pickle #python specific file format. serielize python objects (transform it in a non read) use case: \n",
    "\n",
    "# Serializing (dumping) the object\n",
    "with open('data.pkl', 'wb') as f:\n",
    "    pickle.dump(data, f)\n",
    "\n",
    "# Deserializing (loading) the object\n",
    "with open('data.pkl', 'rb') as f:\n",
    "    loaded_data = pickle.load(f)\n",
    "\n",
    "print(loaded_data)"
   ]
  },
  {
   "cell_type": "markdown",
   "id": "502f8a2f",
   "metadata": {
    "slideshow": {
     "slide_type": "subslide"
    }
   },
   "source": [
    "## Basic Libraries II\n",
    "\n",
    "**IMPORTANT**: Be extremely carefull when loading pickled data from untrusted sources. Pickles can execute arbitrary code."
   ]
  },
  {
   "cell_type": "markdown",
   "id": "f5826f2d",
   "metadata": {
    "slideshow": {
     "slide_type": "slide"
    },
    "tags": []
   },
   "source": [
    "## Basic Libraries II\n",
    "\n",
    "To work with **Parquet** files, you need either the **pyarrow** or **pandas** library. Parquet is a columnar storage format, meaning that each row represents a sample, and each column represents an attribute. This is a powerful format commonly used as a standard in platforms like **Hugging Face**."
   ]
  },
  {
   "cell_type": "code",
   "execution_count": 15,
   "id": "72fce0ca",
   "metadata": {
    "slideshow": {
     "slide_type": "subslide"
    }
   },
   "outputs": [
    {
     "name": "stdout",
     "output_type": "stream",
     "text": [
      "Requirement already satisfied: pandas in /opt/anaconda3/envs/mi_entorno/lib/python3.12/site-packages (2.2.3)\n",
      "Requirement already satisfied: numpy>=1.26.0 in /opt/anaconda3/envs/mi_entorno/lib/python3.12/site-packages (from pandas) (2.1.2)\n",
      "Requirement already satisfied: python-dateutil>=2.8.2 in /opt/anaconda3/envs/mi_entorno/lib/python3.12/site-packages (from pandas) (2.9.0)\n",
      "Requirement already satisfied: pytz>=2020.1 in /opt/anaconda3/envs/mi_entorno/lib/python3.12/site-packages (from pandas) (2024.2)\n",
      "Requirement already satisfied: tzdata>=2022.7 in /opt/anaconda3/envs/mi_entorno/lib/python3.12/site-packages (from pandas) (2024.2)\n",
      "Requirement already satisfied: six>=1.5 in /opt/anaconda3/envs/mi_entorno/lib/python3.12/site-packages (from python-dateutil>=2.8.2->pandas) (1.16.0)\n",
      "Requirement already satisfied: pyarrow in /opt/anaconda3/envs/mi_entorno/lib/python3.12/site-packages (17.0.0)\n",
      "Requirement already satisfied: numpy>=1.16.6 in /opt/anaconda3/envs/mi_entorno/lib/python3.12/site-packages (from pyarrow) (2.1.2)\n",
      "      name  age\n",
      "0    Alice   25\n",
      "1      Bob   30\n",
      "2  Charlie   35\n"
     ]
    }
   ],
   "source": [
    "import pandas as pd # if it is not working, simply uncomment the following line\n",
    "!pip install pandas\n",
    "!pip install pyarrow\n",
    "\n",
    "# Creating a DataFrame\n",
    "df = pd.DataFrame({\n",
    "    'name': ['Alice', 'Bob', 'Charlie'],\n",
    "    'age': [25, 30, 35]\n",
    "})\n",
    "\n",
    "\n",
    "# Writing DataFrame to Parquet file with Pandas\n",
    "df.to_parquet('data.parquet')\n",
    "\n",
    "# Reading DataFrame from Parquet file with Pandas\n",
    "df_loaded = pd.read_parquet('data.parquet')\n",
    "\n",
    "print(df_loaded)"
   ]
  },
  {
   "cell_type": "markdown",
   "id": "004bb3cc",
   "metadata": {
    "slideshow": {
     "slide_type": "slide"
    },
    "tags": []
   },
   "source": [
    "## Basic Libraries II\n",
    "\n",
    "When working with text, one of the most powerful tools is regular expressions, aka **regex**. With regex, you can perform complex pattern matching using wildcards and other special characters. Let's see how we could have handled session's four exercise:"
   ]
  },
  {
   "cell_type": "code",
   "execution_count": 16,
   "id": "0746e487",
   "metadata": {
    "slideshow": {
     "slide_type": "subslide"
    }
   },
   "outputs": [
    {
     "name": "stdout",
     "output_type": "stream",
     "text": [
      "['if', 'if']\n"
     ]
    }
   ],
   "source": [
    "import re\n",
    "\n",
    "data = \"What a wonderful life if we could play more time.\"\n",
    "\n",
    "# Regex pattern to find 'if'\n",
    "pattern = 'if'\n",
    "\n",
    "# Search for the pattern\n",
    "matches = re.findall(pattern, data)\n",
    "\n",
    "print(matches) "
   ]
  },
  {
   "cell_type": "markdown",
   "id": "cef1d4ba",
   "metadata": {
    "slideshow": {
     "slide_type": "slide"
    },
    "tags": []
   },
   "source": [
    "## Basic Libraries II\n",
    "\n",
    "Let's see how we could have handled session's four exercise:"
   ]
  },
  {
   "cell_type": "code",
   "execution_count": 17,
   "id": "37e73afc",
   "metadata": {
    "slideshow": {
     "slide_type": "subslide"
    }
   },
   "outputs": [
    {
     "name": "stdout",
     "output_type": "stream",
     "text": [
      "Date: 20240102; Time: 185527; SN: 27; ver: 1_1_10; region: SATL-2KM-11N_740_3850\n",
      "Date: 20240623; Time: 193704; SN: 27; ver: 1_7_0; region: SATL-2KM-11N_566_3734\n",
      "Date: 20240402; Time: 184757; SN: 24; ver: 1_2_0; region: SATL-2KM-11N_488_3638\n",
      "Date: 20240423; Time: 190101; SN: 26; ver: 1_5_0; region: SATL-2KM-11N_418_3872\n",
      "Date: 20240201; Time: 075140; SN: 26; ver: 1_1_10; region: SATL-2KM-39N_558_2794\n",
      "Date: 20240222; Time: 074151; SN: 26; ver: 1_1_10; region: SATL-2KM-39N_560_2794\n",
      "Date: 20240101; Time: 174301; SN: 33; ver: 1_1_10; region: SATL-2KM-11N_404_3770\n",
      "Date: 20240218; Time: 180121; SN: 33; ver: 1_1_10; region: SATL-2KM-10N_568_4176\n",
      "Date: 20240101; Time: 192856; SN: 24; ver: 1_1_10; region: SATL-2KM-10N_552_4164\n",
      "Date: 20240402; Time: 184757; SN: 24; ver: 1_2_0; region: SATL-2KM-11N_486_3630\n",
      "Date: 20240102; Time: 185954; SN: 24; ver: 1_1_10; region: SATL-2KM-11N_414_3786\n",
      "Date: 20240213; Time: 212524; SN: 29; ver: 1_1_10; region: SATL-2KM-11N_542_3750\n",
      "Date: 20240222; Time: 074155; SN: 26; ver: 1_1_10; region: SATL-2KM-39N_556_2794\n",
      "Date: 20240603; Time: 215226; SN: 28; ver: 1_6_0; region: SATL-2KM-11N_248_4068\n",
      "Date: 20240104; Time: 220339; SN: 31; ver: 1_1_10; region: SATL-2KM-10N_556_4178\n",
      "Date: 20240603; Time: 215348; SN: 28; ver: 1_6_0; region: SATL-2KM-11N_346_3786\n",
      "Date: 20240616; Time: 213053; SN: 30; ver: 1_7_0; region: SATL-2KM-11N_460_3792\n",
      "Date: 20240115; Time: 213834; SN: 28; ver: 1_1_10; region: SATL-2KM-11N_376_3722\n",
      "Date: 20240222; Time: 074155; SN: 26; ver: 1_1_10; region: SATL-2KM-39N_562_2794\n",
      "Date: 20240322; Time: 212516; SN: 28; ver: 1_2_0; region: SATL-2KM-11N_502_3600\n",
      "Date: 20240126; Time: 173752; SN: 33; ver: 1_1_10; region: SATL-2KM-11N_386_3722\n",
      "Date: 20240317; Time: 221229; SN: 31; ver: 1_2_0; region: SATL-2KM-10N_556_4176\n",
      "Date: 20240506; Time: 192008; SN: 26; ver: 1_5_0; region: SATL-2KM-10N_562_4178\n",
      "Date: 20240222; Time: 074151; SN: 26; ver: 1_1_10; region: SATL-2KM-39N_560_2796\n",
      "Date: 20240220; Time: 190455; SN: 27; ver: 1_1_10; region: SATL-2KM-11N_718_3608\n",
      "Date: 20240101; Time: 174301; SN: 33; ver: 1_1_10; region: SATL-2KM-11N_404_3772\n",
      "Date: 20240423; Time: 190101; SN: 26; ver: 1_5_0; region: SATL-2KM-11N_418_3864\n",
      "Date: 20240521; Time: 052621; SN: 43; ver: 1_6_0; region: SATL-2KM-51N_730_4342\n",
      "Date: 20240508; Time: 194502; SN: 27; ver: 1_5_0; region: SATL-2KM-11N_264_4022\n",
      "Date: 20240519; Time: 191838; SN: 27; ver: 1_5_0; region: SATL-2KM-11N_718_3608\n",
      "Date: 20240130; Time: 173903; SN: 33; ver: 1_1_10; region: SATL-2KM-11N_366_3756\n",
      "Date: 20240611; Time: 025943; SN: 26; ver: 1_7_0; region: SATL-2KM-51N_748_4366\n",
      "Date: 20240401; Time: 221819; SN: 31; ver: 1_2_0; region: SATL-2KM-10N_602_4148\n",
      "Date: 20240316; Time: 191451; SN: 26; ver: 1_2_0; region: SATL-2KM-11N_380_3764\n",
      "Date: 20240528; Time: 191448; SN: 24; ver: 1_6_0; region: SATL-2KM-11N_248_4068\n",
      "Date: 20240612; Time: 185400; SN: 24; ver: 1_7_0; region: SATL-2KM-11N_574_3714\n",
      "Date: 20240509; Time: 193206; SN: 26; ver: 1_5_0; region: SATL-2KM-10N_562_4196\n",
      "Date: 20240324; Time: 180232; SN: 33; ver: 1_2_0; region: SATL-2KM-10N_554_4172\n",
      "Date: 20240423; Time: 190101; SN: 26; ver: 1_5_0; region: SATL-2KM-11N_418_3860\n",
      "Date: 20240127; Time: 190620; SN: 27; ver: 1_1_10; region: SATL-2KM-11N_500_3600\n",
      "Date: 20240619; Time: 185757; SN: 24; ver: 1_7_0; region: SATL-2KM-11N_528_3700\n",
      "Date: 20240203; Time: 173953; SN: 33; ver: 1_1_10; region: SATL-2KM-11N_368_3756\n",
      "Date: 20240222; Time: 074256; SN: 26; ver: 1_1_10; region: SATL-2KM-39N_564_2790\n",
      "Date: 20240619; Time: 052401; SN: 30; ver: 1_7_0; region: SATL-2KM-52N_368_4336\n",
      "Date: 20240101; Time: 192856; SN: 24; ver: 1_1_10; region: SATL-2KM-10N_552_4162\n",
      "Date: 20240616; Time: 213047; SN: 30; ver: 1_7_0; region: SATL-2KM-11N_464_3830\n",
      "Date: 20240402; Time: 184757; SN: 24; ver: 1_2_0; region: SATL-2KM-11N_486_3636\n",
      "Date: 20240222; Time: 074155; SN: 26; ver: 1_1_10; region: SATL-2KM-39N_556_2792\n",
      "Date: 20240616; Time: 102144; SN: 28; ver: 1_7_0; region: SATL-2KM-39N_560_2792\n",
      "Date: 20240201; Time: 075143; SN: 26; ver: 1_1_10; region: SATL-2KM-39N_556_2792\n",
      "Date: 20240223; Time: 025420; SN: 24; ver: 1_1_10; region: SATL-2KM-51N_686_4422\n",
      "Date: 20240516; Time: 211630; SN: 28; ver: 1_5_0; region: SATL-2KM-11N_716_3848\n",
      "Date: 20240317; Time: 215115; SN: 28; ver: 1_2_0; region: SATL-2KM-10N_554_4162\n",
      "Date: 20240325; Time: 173936; SN: 33; ver: 1_2_0; region: SATL-2KM-11N_378_3722\n",
      "Date: 20240228; Time: 213951; SN: 29; ver: 1_1_10; region: SATL-2KM-11N_248_4068\n",
      "Date: 20240222; Time: 074155; SN: 26; ver: 1_1_10; region: SATL-2KM-39N_562_2792\n",
      "Date: 20240617; Time: 052859; SN: 29; ver: 1_7_0; region: SATL-2KM-51N_730_4348\n",
      "Date: 20240608; Time: 214614; SN: 29; ver: 1_7_0; region: SATL-2KM-11N_248_4068\n",
      "Date: 20240304; Time: 212824; SN: 30; ver: 1_2_0; region: SATL-2KM-11N_378_3722\n",
      "Date: 20240617; Time: 211350; SN: 29; ver: 1_7_0; region: SATL-2KM-11N_724_3614\n",
      "Date: 20240127; Time: 190620; SN: 27; ver: 1_1_10; region: SATL-2KM-11N_500_3602\n",
      "Date: 20240423; Time: 190101; SN: 26; ver: 1_5_0; region: SATL-2KM-11N_418_3862\n",
      "Date: 20240606; Time: 180251; SN: 33; ver: 1_7_0; region: SATL-2KM-10N_556_4180\n",
      "Date: 20240613; Time: 214203; SN: 43; ver: 1_7_0; region: SATL-2KM-11N_384_3750\n",
      "Date: 20240314; Time: 220020; SN: 30; ver: 1_2_0; region: SATL-2KM-10N_544_4186\n",
      "Date: 20240611; Time: 025943; SN: 26; ver: 1_7_0; region: SATL-2KM-51N_748_4364\n",
      "Date: 20240322; Time: 184801; SN: 24; ver: 1_2_0; region: SATL-2KM-11N_500_3632\n",
      "Date: 20240616; Time: 081345; SN: 27; ver: 1_7_0; region: SATL-2KM-39N_562_2794\n",
      "Date: 20240308; Time: 211248; SN: 29; ver: 1_2_0; region: SATL-2KM-11N_718_3640\n",
      "Date: 20240101; Time: 192856; SN: 24; ver: 1_1_10; region: SATL-2KM-10N_554_4162\n",
      "Date: 20240428; Time: 215426; SN: 43; ver: 1_5_0; region: SATL-2KM-10N_630_4264\n",
      "Date: 20240427; Time: 221308; SN: 31; ver: 1_5_0; region: SATL-2KM-10N_722_3848\n",
      "Date: 20240201; Time: 075140; SN: 26; ver: 1_1_10; region: SATL-2KM-39N_560_2792\n",
      "Date: 20240514; Time: 052716; SN: 43; ver: 1_5_0; region: SATL-2KM-51N_730_4342\n",
      "Date: 20240213; Time: 212524; SN: 29; ver: 1_1_10; region: SATL-2KM-11N_544_3742\n",
      "Date: 20240609; Time: 214259; SN: 30; ver: 1_7_0; region: SATL-2KM-11N_262_4052\n",
      "Date: 20240604; Time: 214955; SN: 29; ver: 1_7_0; region: SATL-2KM-10N_594_4136\n",
      "Date: 20240423; Time: 190101; SN: 26; ver: 1_5_0; region: SATL-2KM-11N_414_3862\n",
      "Date: 20240213; Time: 212524; SN: 29; ver: 1_1_10; region: SATL-2KM-11N_540_3748\n",
      "Date: 20240613; Time: 192217; SN: 26; ver: 1_7_0; region: SATL-2KM-10N_560_4178\n",
      "Date: 20240101; Time: 213601; SN: 31; ver: 1_1_10; region: SATL-2KM-11N_392_3740\n",
      "Date: 20240317; Time: 215115; SN: 28; ver: 1_2_0; region: SATL-2KM-10N_552_4162\n",
      "Date: 20240401; Time: 032415; SN: 27; ver: 1_2_0; region: SATL-2KM-51N_688_4420\n",
      "Date: 20240503; Time: 214759; SN: 28; ver: 1_5_0; region: SATL-2KM-11N_376_3724\n",
      "Date: 20240519; Time: 184534; SN: 24; ver: 1_5_0; region: SATL-2KM-11N_658_3700\n",
      "Date: 20240615; Time: 173631; SN: 33; ver: 1_7_0; region: SATL-2KM-11N_546_3742\n",
      "Date: 20240314; Time: 220020; SN: 30; ver: 1_2_0; region: SATL-2KM-10N_550_4202\n",
      "Date: 20240219; Time: 214312; SN: 28; ver: 1_1_10; region: SATL-2KM-11N_252_3954\n",
      "Date: 20240101; Time: 213601; SN: 31; ver: 1_1_10; region: SATL-2KM-11N_392_3742\n",
      "Date: 20240623; Time: 215120; SN: 29; ver: 1_7_0; region: SATL-2KM-10N_596_4134\n",
      "Date: 20240128; Time: 213258; SN: 29; ver: 1_1_10; region: SATL-2KM-11N_418_3864\n",
      "Date: 20240612; Time: 185400; SN: 24; ver: 1_7_0; region: SATL-2KM-11N_576_3720\n",
      "Date: 20240612; Time: 053829; SN: 28; ver: 1_7_0; region: SATL-2KM-51N_686_4422\n",
      "Date: 20240521; Time: 101252; SN: 43; ver: 1_6_0; region: SATL-2KM-39N_556_2792\n",
      "Date: 20240616; Time: 102144; SN: 28; ver: 1_7_0; region: SATL-2KM-39N_558_2794\n",
      "Date: 20240616; Time: 081345; SN: 27; ver: 1_7_0; region: SATL-2KM-39N_562_2792\n",
      "Date: 20240428; Time: 215426; SN: 43; ver: 1_5_0; region: SATL-2KM-10N_630_4262\n",
      "Date: 20240201; Time: 075140; SN: 26; ver: 1_1_10; region: SATL-2KM-39N_560_2794\n",
      "Date: 20240428; Time: 215426; SN: 43; ver: 1_5_0; region: SATL-2KM-10N_634_4282\n",
      "Date: 20240216; Time: 213630; SN: 31; ver: 1_1_10; region: SATL-2KM-11N_418_3724\n",
      "Date: 20240616; Time: 213047; SN: 30; ver: 1_7_0; region: SATL-2KM-11N_466_3828\n",
      "Date: 20240619; Time: 215556; SN: 29; ver: 1_7_0; region: SATL-2KM-10N_742_4460\n",
      "Date: 20240317; Time: 215115; SN: 28; ver: 1_2_0; region: SATL-2KM-10N_552_4164\n",
      "Date: 20240222; Time: 074151; SN: 26; ver: 1_1_10; region: SATL-2KM-39N_558_2796\n",
      "Date: 20240510; Time: 191914; SN: 27; ver: 1_5_0; region: SATL-2KM-11N_712_3566\n",
      "Date: 20240528; Time: 191604; SN: 24; ver: 1_6_0; region: SATL-2KM-11N_344_3836\n",
      "Date: 20240611; Time: 215323; SN: 30; ver: 1_7_0; region: SATL-2KM-10N_702_3948\n",
      "Date: 20240613; Time: 053340; SN: 29; ver: 1_7_0; region: SATL-2KM-51N_728_4342\n",
      "Date: 20240612; Time: 185419; SN: 24; ver: 1_7_0; region: SATL-2KM-11N_554_3610\n",
      "Date: 20240201; Time: 075140; SN: 26; ver: 1_1_10; region: SATL-2KM-39N_560_2796\n",
      "Date: 20240208; Time: 184650; SN: 24; ver: 1_1_10; region: SATL-2KM-11N_624_3632\n",
      "Date: 20240128; Time: 213258; SN: 29; ver: 1_1_10; region: SATL-2KM-11N_418_3862\n",
      "Date: 20240214; Time: 184340; SN: 24; ver: 1_1_10; region: SATL-2KM-11N_688_3630\n",
      "Date: 20240509; Time: 212336; SN: 29; ver: 1_5_0; region: SATL-2KM-11N_706_3778\n",
      "Date: 20240508; Time: 194502; SN: 27; ver: 1_5_0; region: SATL-2KM-11N_262_4022\n",
      "Date: 20240130; Time: 215036; SN: 31; ver: 1_1_10; region: SATL-2KM-11N_366_3756\n",
      "Date: 20240212; Time: 213506; SN: 31; ver: 1_1_10; region: SATL-2KM-11N_408_3712\n",
      "Date: 20240519; Time: 214917; SN: 31; ver: 1_5_0; region: SATL-2KM-11N_500_3600\n",
      "Date: 20240612; Time: 053829; SN: 28; ver: 1_7_0; region: SATL-2KM-51N_688_4420\n",
      "Date: 20240222; Time: 074155; SN: 26; ver: 1_1_10; region: SATL-2KM-39N_560_2792\n",
      "Date: 20240616; Time: 213047; SN: 30; ver: 1_7_0; region: SATL-2KM-11N_466_3826\n",
      "Date: 20240612; Time: 185400; SN: 24; ver: 1_7_0; region: SATL-2KM-11N_578_3722\n",
      "Date: 20240610; Time: 191018; SN: 26; ver: 1_7_0; region: SATL-2KM-11N_384_3750\n",
      "Date: 20240401; Time: 175918; SN: 33; ver: 1_2_0; region: SATL-2KM-10N_542_4168\n",
      "Date: 20240127; Time: 190620; SN: 27; ver: 1_1_10; region: SATL-2KM-11N_502_3602\n",
      "Date: 20240513; Time: 212022; SN: 29; ver: 1_5_0; region: SATL-2KM-11N_630_3742\n",
      "Date: 20240222; Time: 212250; SN: 30; ver: 1_1_10; region: SATL-2KM-11N_382_3722\n",
      "Date: 20240127; Time: 190620; SN: 27; ver: 1_1_10; region: SATL-2KM-11N_502_3600\n",
      "Date: 20240308; Time: 191212; SN: 27; ver: 1_2_0; region: SATL-2KM-11N_506_3614\n",
      "Date: 20240613; Time: 053340; SN: 29; ver: 1_7_0; region: SATL-2KM-51N_730_4342\n",
      "Date: 20240516; Time: 190328; SN: 24; ver: 1_5_0; region: SATL-2KM-11N_262_4052\n",
      "Date: 20240221; Time: 190608; SN: 26; ver: 1_1_10; region: SATL-2KM-11N_380_3764\n",
      "Date: 20240209; Time: 212744; SN: 29; ver: 1_1_10; region: SATL-2KM-11N_380_3722\n",
      "Date: 20240519; Time: 214917; SN: 31; ver: 1_5_0; region: SATL-2KM-11N_500_3602\n",
      "Date: 20240616; Time: 102144; SN: 28; ver: 1_7_0; region: SATL-2KM-39N_556_2794\n",
      "Date: 20240618; Time: 215539; SN: 31; ver: 1_7_0; region: SATL-2KM-11N_452_3740\n",
      "Date: 20240623; Time: 215102; SN: 43; ver: 1_7_0; region: SATL-2KM-11N_384_3750\n",
      "Date: 20240521; Time: 101252; SN: 43; ver: 1_6_0; region: SATL-2KM-39N_558_2796\n",
      "Date: 20240607; Time: 200250; SN: 27; ver: 1_7_0; region: SATL-2KM-10N_554_4172\n",
      "Date: 20240426; Time: 215224; SN: 29; ver: 1_5_0; region: SATL-2KM-11N_244_3818\n",
      "Date: 20240510; Time: 191908; SN: 27; ver: 1_5_0; region: SATL-2KM-11N_718_3608\n",
      "Date: 20240222; Time: 074151; SN: 26; ver: 1_1_10; region: SATL-2KM-39N_556_2794\n",
      "Date: 20240618; Time: 215539; SN: 31; ver: 1_7_0; region: SATL-2KM-11N_458_3756\n",
      "Date: 20240602; Time: 215203; SN: 30; ver: 1_6_0; region: SATL-2KM-10N_714_3948\n",
      "Date: 20240130; Time: 173903; SN: 33; ver: 1_1_10; region: SATL-2KM-11N_360_3748\n",
      "Date: 20240202; Time: 191114; SN: 27; ver: 1_1_10; region: SATL-2KM-11N_718_3608\n",
      "Date: 20240401; Time: 175918; SN: 33; ver: 1_2_0; region: SATL-2KM-10N_546_4206\n",
      "Date: 20240202; Time: 184725; SN: 24; ver: 1_1_10; region: SATL-2KM-11N_624_3630\n",
      "Date: 20240130; Time: 173903; SN: 33; ver: 1_1_10; region: SATL-2KM-11N_364_3754\n",
      "Date: 20240222; Time: 074151; SN: 26; ver: 1_1_10; region: SATL-2KM-39N_562_2794\n",
      "Date: 20240519; Time: 214917; SN: 31; ver: 1_5_0; region: SATL-2KM-11N_500_3598\n",
      "Date: 20240101; Time: 213601; SN: 31; ver: 1_1_10; region: SATL-2KM-11N_396_3752\n",
      "Date: 20240224; Time: 214855; SN: 30; ver: 1_1_10; region: SATL-2KM-10N_552_4162\n",
      "Date: 20240227; Time: 214218; SN: 30; ver: 1_1_10; region: SATL-2KM-10N_562_4170\n",
      "Date: 20240321; Time: 220846; SN: 31; ver: 1_2_0; region: SATL-2KM-10N_560_4178\n",
      "Date: 20240112; Time: 192510; SN: 27; ver: 1_1_10; region: SATL-2KM-11N_386_3750\n",
      "Date: 20240617; Time: 184443; SN: 24; ver: 1_7_0; region: SATL-2KM-11N_702_3566\n",
      "Date: 20240201; Time: 075140; SN: 26; ver: 1_1_10; region: SATL-2KM-39N_556_2794\n",
      "Date: 20240115; Time: 213834; SN: 28; ver: 1_1_10; region: SATL-2KM-11N_380_3724\n",
      "Date: 20240524; Time: 213504; SN: 29; ver: 1_6_0; region: SATL-2KM-11N_380_3724\n",
      "Date: 20240402; Time: 215427; SN: 31; ver: 1_2_0; region: SATL-2KM-11N_502_3600\n",
      "Date: 20240506; Time: 213507; SN: 43; ver: 1_5_0; region: SATL-2KM-11N_384_3750\n",
      "Date: 20240222; Time: 074155; SN: 26; ver: 1_1_10; region: SATL-2KM-39N_558_2794\n",
      "Date: 20240602; Time: 215203; SN: 30; ver: 1_6_0; region: SATL-2KM-10N_712_3948\n",
      "Date: 20240110; Time: 192002; SN: 27; ver: 1_1_10; region: SATL-2KM-11N_380_3728\n",
      "Date: 20240211; Time: 211057; SN: 30; ver: 1_1_10; region: SATL-2KM-11N_700_3690\n",
      "Date: 20240428; Time: 215557; SN: 43; ver: 1_5_0; region: SATL-2KM-10N_726_3862\n",
      "Date: 20240616; Time: 081345; SN: 27; ver: 1_7_0; region: SATL-2KM-39N_560_2792\n",
      "Date: 20240616; Time: 213047; SN: 30; ver: 1_7_0; region: SATL-2KM-11N_464_3828\n",
      "Date: 20240423; Time: 190101; SN: 26; ver: 1_5_0; region: SATL-2KM-11N_416_3864\n",
      "Date: 20240201; Time: 075140; SN: 26; ver: 1_1_10; region: SATL-2KM-39N_562_2794\n",
      "Date: 20240618; Time: 193146; SN: 27; ver: 1_7_0; region: SATL-2KM-11N_530_3682\n",
      "Date: 20240201; Time: 075143; SN: 26; ver: 1_1_10; region: SATL-2KM-39N_562_2788\n",
      "Date: 20240224; Time: 214855; SN: 30; ver: 1_1_10; region: SATL-2KM-10N_554_4162\n",
      "Date: 20240402; Time: 184757; SN: 24; ver: 1_2_0; region: SATL-2KM-11N_490_3638\n",
      "Date: 20240203; Time: 173953; SN: 33; ver: 1_1_10; region: SATL-2KM-11N_366_3756\n",
      "Date: 20240614; Time: 221436; SN: 31; ver: 1_7_0; region: SATL-2KM-10N_558_4184\n",
      "Date: 20240428; Time: 191026; SN: 24; ver: 1_5_0; region: SATL-2KM-11N_380_3722\n",
      "Date: 20240605; Time: 212717; SN: 29; ver: 1_7_0; region: SATL-2KM-11N_718_3608\n",
      "Date: 20240201; Time: 075140; SN: 26; ver: 1_1_10; region: SATL-2KM-39N_556_2792\n",
      "Date: 20240520; Time: 194539; SN: 27; ver: 1_5_0; region: SATL-2KM-10N_638_4280\n",
      "Date: 20240401; Time: 175925; SN: 33; ver: 1_2_0; region: SATL-2KM-10N_542_4168\n",
      "Date: 20240322; Time: 184801; SN: 24; ver: 1_2_0; region: SATL-2KM-11N_502_3632\n",
      "Date: 20240402; Time: 215421; SN: 31; ver: 1_2_0; region: SATL-2KM-11N_500_3632\n",
      "Date: 20240609; Time: 191744; SN: 24; ver: 1_7_0; region: SATL-2KM-10N_564_4194\n",
      "Date: 20240102; Time: 185605; SN: 27; ver: 1_1_10; region: SATL-2KM-11N_690_3572\n",
      "Date: 20240520; Time: 194539; SN: 27; ver: 1_5_0; region: SATL-2KM-10N_638_4282\n",
      "Date: 20240616; Time: 081345; SN: 27; ver: 1_7_0; region: SATL-2KM-39N_560_2794\n",
      "Date: 20240524; Time: 213504; SN: 29; ver: 1_6_0; region: SATL-2KM-11N_378_3724\n",
      "Date: 20240423; Time: 190101; SN: 26; ver: 1_5_0; region: SATL-2KM-11N_416_3862\n",
      "Date: 20240201; Time: 075140; SN: 26; ver: 1_1_10; region: SATL-2KM-39N_562_2792\n",
      "Date: 20240609; Time: 191959; SN: 27; ver: 1_7_0; region: SATL-2KM-11N_702_3540\n",
      "Date: 20240507; Time: 191326; SN: 27; ver: 1_5_0; region: SATL-2KM-11N_718_3608\n",
      "Date: 20240321; Time: 190819; SN: 27; ver: 1_2_0; region: SATL-2KM-11N_714_3632\n"
     ]
    }
   ],
   "source": [
    "import re\n",
    "import glob\n",
    "import os\n",
    "\n",
    "# Regex pattern, r in front of strings tell python to treat them as raw strings\n",
    "# we do this so slashes don't get interpret as scaping symbol\n",
    "pattern = r'(\\d{8})_(\\d{6})_SN(\\d+)_QUICKVIEW_VISUAL_([\\d_]+)_([A-Za-z0-9\\-_.]+)\\.txt' \n",
    "\n",
    "annotations = glob.glob('session_4/annotations/*.txt')\n",
    "\n",
    "for annotation in annotations:\n",
    "\n",
    "    # extract the file name\n",
    "    filename = os.path.basename(annotation)\n",
    "    \n",
    "    # Search and extract values\n",
    "    match = re.match(pattern, filename)\n",
    "    if match:\n",
    "        date, time, satellite_number, version, unique_region = match.groups()\n",
    "        print(f\"Date: {date}; Time: {time}; SN: {satellite_number}; ver: {version}; region: {unique_region}\")"
   ]
  },
  {
   "cell_type": "code",
   "execution_count": 18,
   "id": "6b9fc572",
   "metadata": {
    "slideshow": {
     "slide_type": "subslide"
    }
   },
   "outputs": [
    {
     "name": "stderr",
     "output_type": "stream",
     "text": [
      "<>:3: SyntaxWarning: invalid escape sequence '\\d'\n",
      "<>:3: SyntaxWarning: invalid escape sequence '\\d'\n",
      "/var/folders/hh/vl18f5dd1358npbd_8b21jp40000gn/T/ipykernel_7416/3290297269.py:3: SyntaxWarning: invalid escape sequence '\\d'\n",
      "  '''\n"
     ]
    },
    {
     "data": {
      "text/plain": [
       "'(\\\\d{8})_(\\\\d{6})_SN(\\\\d+)_QUICKVIEW_VISUAL_([\\\\d_]+)_([A-Za-z0-9\\\\-_.]+)\\\\.txt'"
      ]
     },
     "execution_count": 18,
     "metadata": {},
     "output_type": "execute_result"
    }
   ],
   "source": [
    "pattern = r'(\\d{8})_(\\d{6})_SN(\\d+)_QUICKVIEW_VISUAL_([\\d_]+)_([A-Za-z0-9\\-_.]+)\\.txt'\n",
    "\n",
    "'''\n",
    "(\\d{8}): Captures 8 digits (YYYYMMDD).\n",
    "_(\\d{6}): Captures 6 digits (HHMMSS).\n",
    "_SN(\\d+): Captures one or more digits.\n",
    "_QUICKVIEW_VISUAL_([\\d_]+): Captures digits and underscores.\n",
    "_([A-Za-z0-9\\-_.]+): Captures letters, numbers, hyphens (-), underscores (_), and dots (.).\n",
    "\\.txt: Makes sure that the filename ends with .txt.\n",
    "'''\n",
    "pattern"
   ]
  },
  {
   "cell_type": "markdown",
   "id": "24c2d658",
   "metadata": {
    "slideshow": {
     "slide_type": "slide"
    },
    "tags": []
   },
   "source": [
    "## Basic Libraries II\n",
    "\n",
    "**Time** and **Datetime** are other two Python built-in libraries used in plenty of pipelines involving time measurements, timestamp creation and dates manipulation."
   ]
  },
  {
   "cell_type": "code",
   "execution_count": 19,
   "id": "1a90b193",
   "metadata": {
    "slideshow": {
     "slide_type": "subslide"
    }
   },
   "outputs": [],
   "source": [
    "import time"
   ]
  },
  {
   "cell_type": "code",
   "execution_count": 20,
   "id": "9d51166e",
   "metadata": {
    "slideshow": {
     "slide_type": "fragment"
    }
   },
   "outputs": [
    {
     "name": "stdout",
     "output_type": "stream",
     "text": [
      "1730228264.890017\n"
     ]
    }
   ],
   "source": [
    "# Get current timestamp= generate time stamp when specific part of the code was created\n",
    "t = time.time() \n",
    "print(t) #seconds that have passed "
   ]
  },
  {
   "cell_type": "code",
   "execution_count": 21,
   "id": "dd05bf5d",
   "metadata": {
    "slideshow": {
     "slide_type": "fragment"
    }
   },
   "outputs": [],
   "source": [
    "time.sleep(1) # wait 1 second(s)/ telling the systems to stop 1 second without doing anything"
   ]
  },
  {
   "cell_type": "code",
   "execution_count": 22,
   "id": "32d7f7e7",
   "metadata": {
    "slideshow": {
     "slide_type": "fragment"
    }
   },
   "outputs": [
    {
     "name": "stdout",
     "output_type": "stream",
     "text": [
      "2024-10-29 19:57:45\n"
     ]
    }
   ],
   "source": [
    "# Formatting time, localtime where the code is run\n",
    "formatted_time = time.strftime(\"%Y-%m-%d %H:%M:%S\", time.localtime()) \n",
    "print(formatted_time)"
   ]
  },
  {
   "cell_type": "code",
   "execution_count": 23,
   "id": "4ec76a98",
   "metadata": {
    "slideshow": {
     "slide_type": "subslide"
    }
   },
   "outputs": [
    {
     "name": "stdout",
     "output_type": "stream",
     "text": [
      "2024-10-29 19:57:45.986471\n",
      "2024-10-29 19:57:45\n",
      "2024-10-17 21:00:00\n",
      "2024-11-05 19:57:45.986471\n"
     ]
    }
   ],
   "source": [
    "from datetime import datetime, timedelta\n",
    "\n",
    "# method now() gives us the current date and time\n",
    "now = datetime.now()\n",
    "print(now)\n",
    "\n",
    "# Similar to the strftime function in time, we can it from datetime\n",
    "formatted_now = now.strftime(\"%Y-%m-%d %H:%M:%S\")\n",
    "print(formatted_now)\n",
    "\n",
    "# Parsing a string to a datetime object\n",
    "parsed_date = datetime.strptime(\"2024-10-17 21:00:00\", \"%Y-%m-%d %H:%M:%S\")\n",
    "print(parsed_date)\n",
    "\n",
    "# Adding a week using days with timedelta\n",
    "future_date = now + timedelta(days=7)\n",
    "print(future_date)"
   ]
  },
  {
   "cell_type": "code",
   "execution_count": 24,
   "id": "adc567b3",
   "metadata": {
    "slideshow": {
     "slide_type": "subslide"
    }
   },
   "outputs": [
    {
     "data": {
      "text/plain": [
       "(2024, 10, 17, 21)"
      ]
     },
     "execution_count": 24,
     "metadata": {},
     "output_type": "execute_result"
    }
   ],
   "source": [
    "parsed_date.year, parsed_date.month, parsed_date.day, parsed_date.hour"
   ]
  },
  {
   "cell_type": "markdown",
   "id": "0fc70e0c",
   "metadata": {
    "slideshow": {
     "slide_type": "slide"
    }
   },
   "source": [
    "## Basic Libraries II\n",
    "\n",
    "Let's now try to use them to order the annotations by date"
   ]
  },
  {
   "cell_type": "code",
   "execution_count": 25,
   "id": "bc5ffd12",
   "metadata": {
    "slideshow": {
     "slide_type": "subslide"
    }
   },
   "outputs": [
    {
     "name": "stdout",
     "output_type": "stream",
     "text": [
      "Datetime Object: 2024-01-02 18:55:27\n",
      "Datetime Object: 2024-06-23 19:37:04\n",
      "Datetime Object: 2024-04-02 18:47:57\n",
      "Datetime Object: 2024-04-23 19:01:01\n",
      "Datetime Object: 2024-02-01 07:51:40\n",
      "Datetime Object: 2024-02-22 07:41:51\n",
      "Datetime Object: 2024-01-01 17:43:01\n",
      "Datetime Object: 2024-02-18 18:01:21\n",
      "Datetime Object: 2024-01-01 19:28:56\n",
      "Datetime Object: 2024-04-02 18:47:57\n",
      "Datetime Object: 2024-01-02 18:59:54\n",
      "Datetime Object: 2024-02-13 21:25:24\n",
      "Datetime Object: 2024-02-22 07:41:55\n",
      "Datetime Object: 2024-06-03 21:52:26\n",
      "Datetime Object: 2024-01-04 22:03:39\n",
      "Datetime Object: 2024-06-03 21:53:48\n",
      "Datetime Object: 2024-06-16 21:30:53\n",
      "Datetime Object: 2024-01-15 21:38:34\n",
      "Datetime Object: 2024-02-22 07:41:55\n",
      "Datetime Object: 2024-03-22 21:25:16\n",
      "Datetime Object: 2024-01-26 17:37:52\n",
      "Datetime Object: 2024-03-17 22:12:29\n",
      "Datetime Object: 2024-05-06 19:20:08\n",
      "Datetime Object: 2024-02-22 07:41:51\n",
      "Datetime Object: 2024-02-20 19:04:55\n",
      "Datetime Object: 2024-01-01 17:43:01\n",
      "Datetime Object: 2024-04-23 19:01:01\n",
      "Datetime Object: 2024-05-21 05:26:21\n",
      "Datetime Object: 2024-05-08 19:45:02\n",
      "Datetime Object: 2024-05-19 19:18:38\n",
      "Datetime Object: 2024-01-30 17:39:03\n",
      "Datetime Object: 2024-06-11 02:59:43\n",
      "Datetime Object: 2024-04-01 22:18:19\n",
      "Datetime Object: 2024-03-16 19:14:51\n",
      "Datetime Object: 2024-05-28 19:14:48\n",
      "Datetime Object: 2024-06-12 18:54:00\n",
      "Datetime Object: 2024-05-09 19:32:06\n",
      "Datetime Object: 2024-03-24 18:02:32\n",
      "Datetime Object: 2024-04-23 19:01:01\n",
      "Datetime Object: 2024-01-27 19:06:20\n",
      "Datetime Object: 2024-06-19 18:57:57\n",
      "Datetime Object: 2024-02-03 17:39:53\n",
      "Datetime Object: 2024-02-22 07:42:56\n",
      "Datetime Object: 2024-06-19 05:24:01\n",
      "Datetime Object: 2024-01-01 19:28:56\n",
      "Datetime Object: 2024-06-16 21:30:47\n",
      "Datetime Object: 2024-04-02 18:47:57\n",
      "Datetime Object: 2024-02-22 07:41:55\n",
      "Datetime Object: 2024-06-16 10:21:44\n",
      "Datetime Object: 2024-02-01 07:51:43\n",
      "Datetime Object: 2024-02-23 02:54:20\n",
      "Datetime Object: 2024-05-16 21:16:30\n",
      "Datetime Object: 2024-03-17 21:51:15\n",
      "Datetime Object: 2024-03-25 17:39:36\n",
      "Datetime Object: 2024-02-28 21:39:51\n",
      "Datetime Object: 2024-02-22 07:41:55\n",
      "Datetime Object: 2024-06-17 05:28:59\n",
      "Datetime Object: 2024-06-08 21:46:14\n",
      "Datetime Object: 2024-03-04 21:28:24\n",
      "Datetime Object: 2024-06-17 21:13:50\n",
      "Datetime Object: 2024-01-27 19:06:20\n",
      "Datetime Object: 2024-04-23 19:01:01\n",
      "Datetime Object: 2024-06-06 18:02:51\n",
      "Datetime Object: 2024-06-13 21:42:03\n",
      "Datetime Object: 2024-03-14 22:00:20\n",
      "Datetime Object: 2024-06-11 02:59:43\n",
      "Datetime Object: 2024-03-22 18:48:01\n",
      "Datetime Object: 2024-06-16 08:13:45\n",
      "Datetime Object: 2024-03-08 21:12:48\n",
      "Datetime Object: 2024-01-01 19:28:56\n",
      "Datetime Object: 2024-04-28 21:54:26\n",
      "Datetime Object: 2024-04-27 22:13:08\n",
      "Datetime Object: 2024-02-01 07:51:40\n",
      "Datetime Object: 2024-05-14 05:27:16\n",
      "Datetime Object: 2024-02-13 21:25:24\n",
      "Datetime Object: 2024-06-09 21:42:59\n",
      "Datetime Object: 2024-06-04 21:49:55\n",
      "Datetime Object: 2024-04-23 19:01:01\n",
      "Datetime Object: 2024-02-13 21:25:24\n",
      "Datetime Object: 2024-06-13 19:22:17\n",
      "Datetime Object: 2024-01-01 21:36:01\n",
      "Datetime Object: 2024-03-17 21:51:15\n",
      "Datetime Object: 2024-04-01 03:24:15\n",
      "Datetime Object: 2024-05-03 21:47:59\n",
      "Datetime Object: 2024-05-19 18:45:34\n",
      "Datetime Object: 2024-06-15 17:36:31\n",
      "Datetime Object: 2024-03-14 22:00:20\n",
      "Datetime Object: 2024-02-19 21:43:12\n",
      "Datetime Object: 2024-01-01 21:36:01\n",
      "Datetime Object: 2024-06-23 21:51:20\n",
      "Datetime Object: 2024-01-28 21:32:58\n",
      "Datetime Object: 2024-06-12 18:54:00\n",
      "Datetime Object: 2024-06-12 05:38:29\n",
      "Datetime Object: 2024-05-21 10:12:52\n",
      "Datetime Object: 2024-06-16 10:21:44\n",
      "Datetime Object: 2024-06-16 08:13:45\n",
      "Datetime Object: 2024-04-28 21:54:26\n",
      "Datetime Object: 2024-02-01 07:51:40\n",
      "Datetime Object: 2024-04-28 21:54:26\n",
      "Datetime Object: 2024-02-16 21:36:30\n",
      "Datetime Object: 2024-06-16 21:30:47\n",
      "Datetime Object: 2024-06-19 21:55:56\n",
      "Datetime Object: 2024-03-17 21:51:15\n",
      "Datetime Object: 2024-02-22 07:41:51\n",
      "Datetime Object: 2024-05-10 19:19:14\n",
      "Datetime Object: 2024-05-28 19:16:04\n",
      "Datetime Object: 2024-06-11 21:53:23\n",
      "Datetime Object: 2024-06-13 05:33:40\n",
      "Datetime Object: 2024-06-12 18:54:19\n",
      "Datetime Object: 2024-02-01 07:51:40\n",
      "Datetime Object: 2024-02-08 18:46:50\n",
      "Datetime Object: 2024-01-28 21:32:58\n",
      "Datetime Object: 2024-02-14 18:43:40\n",
      "Datetime Object: 2024-05-09 21:23:36\n",
      "Datetime Object: 2024-05-08 19:45:02\n",
      "Datetime Object: 2024-01-30 21:50:36\n",
      "Datetime Object: 2024-02-12 21:35:06\n",
      "Datetime Object: 2024-05-19 21:49:17\n",
      "Datetime Object: 2024-06-12 05:38:29\n",
      "Datetime Object: 2024-02-22 07:41:55\n",
      "Datetime Object: 2024-06-16 21:30:47\n",
      "Datetime Object: 2024-06-12 18:54:00\n",
      "Datetime Object: 2024-06-10 19:10:18\n",
      "Datetime Object: 2024-04-01 17:59:18\n",
      "Datetime Object: 2024-01-27 19:06:20\n",
      "Datetime Object: 2024-05-13 21:20:22\n",
      "Datetime Object: 2024-02-22 21:22:50\n",
      "Datetime Object: 2024-01-27 19:06:20\n",
      "Datetime Object: 2024-03-08 19:12:12\n",
      "Datetime Object: 2024-06-13 05:33:40\n",
      "Datetime Object: 2024-05-16 19:03:28\n",
      "Datetime Object: 2024-02-21 19:06:08\n",
      "Datetime Object: 2024-02-09 21:27:44\n",
      "Datetime Object: 2024-05-19 21:49:17\n",
      "Datetime Object: 2024-06-16 10:21:44\n",
      "Datetime Object: 2024-06-18 21:55:39\n",
      "Datetime Object: 2024-06-23 21:51:02\n",
      "Datetime Object: 2024-05-21 10:12:52\n",
      "Datetime Object: 2024-06-07 20:02:50\n",
      "Datetime Object: 2024-04-26 21:52:24\n",
      "Datetime Object: 2024-05-10 19:19:08\n",
      "Datetime Object: 2024-02-22 07:41:51\n",
      "Datetime Object: 2024-06-18 21:55:39\n",
      "Datetime Object: 2024-06-02 21:52:03\n",
      "Datetime Object: 2024-01-30 17:39:03\n",
      "Datetime Object: 2024-02-02 19:11:14\n",
      "Datetime Object: 2024-04-01 17:59:18\n",
      "Datetime Object: 2024-02-02 18:47:25\n",
      "Datetime Object: 2024-01-30 17:39:03\n",
      "Datetime Object: 2024-02-22 07:41:51\n",
      "Datetime Object: 2024-05-19 21:49:17\n",
      "Datetime Object: 2024-01-01 21:36:01\n",
      "Datetime Object: 2024-02-24 21:48:55\n",
      "Datetime Object: 2024-02-27 21:42:18\n",
      "Datetime Object: 2024-03-21 22:08:46\n",
      "Datetime Object: 2024-01-12 19:25:10\n",
      "Datetime Object: 2024-06-17 18:44:43\n",
      "Datetime Object: 2024-02-01 07:51:40\n",
      "Datetime Object: 2024-01-15 21:38:34\n",
      "Datetime Object: 2024-05-24 21:35:04\n",
      "Datetime Object: 2024-04-02 21:54:27\n",
      "Datetime Object: 2024-05-06 21:35:07\n",
      "Datetime Object: 2024-02-22 07:41:55\n",
      "Datetime Object: 2024-06-02 21:52:03\n",
      "Datetime Object: 2024-01-10 19:20:02\n",
      "Datetime Object: 2024-02-11 21:10:57\n",
      "Datetime Object: 2024-04-28 21:55:57\n",
      "Datetime Object: 2024-06-16 08:13:45\n",
      "Datetime Object: 2024-06-16 21:30:47\n",
      "Datetime Object: 2024-04-23 19:01:01\n",
      "Datetime Object: 2024-02-01 07:51:40\n",
      "Datetime Object: 2024-06-18 19:31:46\n",
      "Datetime Object: 2024-02-01 07:51:43\n",
      "Datetime Object: 2024-02-24 21:48:55\n",
      "Datetime Object: 2024-04-02 18:47:57\n",
      "Datetime Object: 2024-02-03 17:39:53\n",
      "Datetime Object: 2024-06-14 22:14:36\n",
      "Datetime Object: 2024-04-28 19:10:26\n",
      "Datetime Object: 2024-06-05 21:27:17\n",
      "Datetime Object: 2024-02-01 07:51:40\n",
      "Datetime Object: 2024-05-20 19:45:39\n",
      "Datetime Object: 2024-04-01 17:59:25\n",
      "Datetime Object: 2024-03-22 18:48:01\n",
      "Datetime Object: 2024-04-02 21:54:21\n",
      "Datetime Object: 2024-06-09 19:17:44\n",
      "Datetime Object: 2024-01-02 18:56:05\n",
      "Datetime Object: 2024-05-20 19:45:39\n",
      "Datetime Object: 2024-06-16 08:13:45\n",
      "Datetime Object: 2024-05-24 21:35:04\n",
      "Datetime Object: 2024-04-23 19:01:01\n",
      "Datetime Object: 2024-02-01 07:51:40\n",
      "Datetime Object: 2024-06-09 19:19:59\n",
      "Datetime Object: 2024-05-07 19:13:26\n",
      "Datetime Object: 2024-03-21 19:08:19\n"
     ]
    },
    {
     "data": {
      "text/plain": [
       "[('20240102_185527_SN27_QUICKVIEW_VISUAL_1_1_10_SATL-2KM-11N_740_3850.txt',\n",
       "  datetime.datetime(2024, 1, 2, 18, 55, 27)),\n",
       " ('20240623_193704_SN27_QUICKVIEW_VISUAL_1_7_0_SATL-2KM-11N_566_3734.txt',\n",
       "  datetime.datetime(2024, 6, 23, 19, 37, 4)),\n",
       " ('20240402_184757_SN24_QUICKVIEW_VISUAL_1_2_0_SATL-2KM-11N_488_3638.txt',\n",
       "  datetime.datetime(2024, 4, 2, 18, 47, 57)),\n",
       " ('20240423_190101_SN26_QUICKVIEW_VISUAL_1_5_0_SATL-2KM-11N_418_3872.txt',\n",
       "  datetime.datetime(2024, 4, 23, 19, 1, 1)),\n",
       " ('20240201_075140_SN26_QUICKVIEW_VISUAL_1_1_10_SATL-2KM-39N_558_2794.txt',\n",
       "  datetime.datetime(2024, 2, 1, 7, 51, 40)),\n",
       " ('20240222_074151_SN26_QUICKVIEW_VISUAL_1_1_10_SATL-2KM-39N_560_2794.txt',\n",
       "  datetime.datetime(2024, 2, 22, 7, 41, 51)),\n",
       " ('20240101_174301_SN33_QUICKVIEW_VISUAL_1_1_10_SATL-2KM-11N_404_3770.txt',\n",
       "  datetime.datetime(2024, 1, 1, 17, 43, 1)),\n",
       " ('20240218_180121_SN33_QUICKVIEW_VISUAL_1_1_10_SATL-2KM-10N_568_4176.txt',\n",
       "  datetime.datetime(2024, 2, 18, 18, 1, 21)),\n",
       " ('20240101_192856_SN24_QUICKVIEW_VISUAL_1_1_10_SATL-2KM-10N_552_4164.txt',\n",
       "  datetime.datetime(2024, 1, 1, 19, 28, 56)),\n",
       " ('20240402_184757_SN24_QUICKVIEW_VISUAL_1_2_0_SATL-2KM-11N_486_3630.txt',\n",
       "  datetime.datetime(2024, 4, 2, 18, 47, 57)),\n",
       " ('20240102_185954_SN24_QUICKVIEW_VISUAL_1_1_10_SATL-2KM-11N_414_3786.txt',\n",
       "  datetime.datetime(2024, 1, 2, 18, 59, 54)),\n",
       " ('20240213_212524_SN29_QUICKVIEW_VISUAL_1_1_10_SATL-2KM-11N_542_3750.txt',\n",
       "  datetime.datetime(2024, 2, 13, 21, 25, 24)),\n",
       " ('20240222_074155_SN26_QUICKVIEW_VISUAL_1_1_10_SATL-2KM-39N_556_2794.txt',\n",
       "  datetime.datetime(2024, 2, 22, 7, 41, 55)),\n",
       " ('20240603_215226_SN28_QUICKVIEW_VISUAL_1_6_0_SATL-2KM-11N_248_4068.txt',\n",
       "  datetime.datetime(2024, 6, 3, 21, 52, 26)),\n",
       " ('20240104_220339_SN31_QUICKVIEW_VISUAL_1_1_10_SATL-2KM-10N_556_4178.txt',\n",
       "  datetime.datetime(2024, 1, 4, 22, 3, 39)),\n",
       " ('20240603_215348_SN28_QUICKVIEW_VISUAL_1_6_0_SATL-2KM-11N_346_3786.txt',\n",
       "  datetime.datetime(2024, 6, 3, 21, 53, 48)),\n",
       " ('20240616_213053_SN30_QUICKVIEW_VISUAL_1_7_0_SATL-2KM-11N_460_3792.txt',\n",
       "  datetime.datetime(2024, 6, 16, 21, 30, 53)),\n",
       " ('20240115_213834_SN28_QUICKVIEW_VISUAL_1_1_10_SATL-2KM-11N_376_3722.txt',\n",
       "  datetime.datetime(2024, 1, 15, 21, 38, 34)),\n",
       " ('20240222_074155_SN26_QUICKVIEW_VISUAL_1_1_10_SATL-2KM-39N_562_2794.txt',\n",
       "  datetime.datetime(2024, 2, 22, 7, 41, 55)),\n",
       " ('20240322_212516_SN28_QUICKVIEW_VISUAL_1_2_0_SATL-2KM-11N_502_3600.txt',\n",
       "  datetime.datetime(2024, 3, 22, 21, 25, 16)),\n",
       " ('20240126_173752_SN33_QUICKVIEW_VISUAL_1_1_10_SATL-2KM-11N_386_3722.txt',\n",
       "  datetime.datetime(2024, 1, 26, 17, 37, 52)),\n",
       " ('20240317_221229_SN31_QUICKVIEW_VISUAL_1_2_0_SATL-2KM-10N_556_4176.txt',\n",
       "  datetime.datetime(2024, 3, 17, 22, 12, 29)),\n",
       " ('20240506_192008_SN26_QUICKVIEW_VISUAL_1_5_0_SATL-2KM-10N_562_4178.txt',\n",
       "  datetime.datetime(2024, 5, 6, 19, 20, 8)),\n",
       " ('20240222_074151_SN26_QUICKVIEW_VISUAL_1_1_10_SATL-2KM-39N_560_2796.txt',\n",
       "  datetime.datetime(2024, 2, 22, 7, 41, 51)),\n",
       " ('20240220_190455_SN27_QUICKVIEW_VISUAL_1_1_10_SATL-2KM-11N_718_3608.txt',\n",
       "  datetime.datetime(2024, 2, 20, 19, 4, 55)),\n",
       " ('20240101_174301_SN33_QUICKVIEW_VISUAL_1_1_10_SATL-2KM-11N_404_3772.txt',\n",
       "  datetime.datetime(2024, 1, 1, 17, 43, 1)),\n",
       " ('20240423_190101_SN26_QUICKVIEW_VISUAL_1_5_0_SATL-2KM-11N_418_3864.txt',\n",
       "  datetime.datetime(2024, 4, 23, 19, 1, 1)),\n",
       " ('20240521_052621_SN43_QUICKVIEW_VISUAL_1_6_0_SATL-2KM-51N_730_4342.txt',\n",
       "  datetime.datetime(2024, 5, 21, 5, 26, 21)),\n",
       " ('20240508_194502_SN27_QUICKVIEW_VISUAL_1_5_0_SATL-2KM-11N_264_4022.txt',\n",
       "  datetime.datetime(2024, 5, 8, 19, 45, 2)),\n",
       " ('20240519_191838_SN27_QUICKVIEW_VISUAL_1_5_0_SATL-2KM-11N_718_3608.txt',\n",
       "  datetime.datetime(2024, 5, 19, 19, 18, 38)),\n",
       " ('20240130_173903_SN33_QUICKVIEW_VISUAL_1_1_10_SATL-2KM-11N_366_3756.txt',\n",
       "  datetime.datetime(2024, 1, 30, 17, 39, 3)),\n",
       " ('20240611_025943_SN26_QUICKVIEW_VISUAL_1_7_0_SATL-2KM-51N_748_4366.txt',\n",
       "  datetime.datetime(2024, 6, 11, 2, 59, 43)),\n",
       " ('20240401_221819_SN31_QUICKVIEW_VISUAL_1_2_0_SATL-2KM-10N_602_4148.txt',\n",
       "  datetime.datetime(2024, 4, 1, 22, 18, 19)),\n",
       " ('20240316_191451_SN26_QUICKVIEW_VISUAL_1_2_0_SATL-2KM-11N_380_3764.txt',\n",
       "  datetime.datetime(2024, 3, 16, 19, 14, 51)),\n",
       " ('20240528_191448_SN24_QUICKVIEW_VISUAL_1_6_0_SATL-2KM-11N_248_4068.txt',\n",
       "  datetime.datetime(2024, 5, 28, 19, 14, 48)),\n",
       " ('20240612_185400_SN24_QUICKVIEW_VISUAL_1_7_0_SATL-2KM-11N_574_3714.txt',\n",
       "  datetime.datetime(2024, 6, 12, 18, 54)),\n",
       " ('20240509_193206_SN26_QUICKVIEW_VISUAL_1_5_0_SATL-2KM-10N_562_4196.txt',\n",
       "  datetime.datetime(2024, 5, 9, 19, 32, 6)),\n",
       " ('20240324_180232_SN33_QUICKVIEW_VISUAL_1_2_0_SATL-2KM-10N_554_4172.txt',\n",
       "  datetime.datetime(2024, 3, 24, 18, 2, 32)),\n",
       " ('20240423_190101_SN26_QUICKVIEW_VISUAL_1_5_0_SATL-2KM-11N_418_3860.txt',\n",
       "  datetime.datetime(2024, 4, 23, 19, 1, 1)),\n",
       " ('20240127_190620_SN27_QUICKVIEW_VISUAL_1_1_10_SATL-2KM-11N_500_3600.txt',\n",
       "  datetime.datetime(2024, 1, 27, 19, 6, 20)),\n",
       " ('20240619_185757_SN24_QUICKVIEW_VISUAL_1_7_0_SATL-2KM-11N_528_3700.txt',\n",
       "  datetime.datetime(2024, 6, 19, 18, 57, 57)),\n",
       " ('20240203_173953_SN33_QUICKVIEW_VISUAL_1_1_10_SATL-2KM-11N_368_3756.txt',\n",
       "  datetime.datetime(2024, 2, 3, 17, 39, 53)),\n",
       " ('20240222_074256_SN26_QUICKVIEW_VISUAL_1_1_10_SATL-2KM-39N_564_2790.txt',\n",
       "  datetime.datetime(2024, 2, 22, 7, 42, 56)),\n",
       " ('20240619_052401_SN30_QUICKVIEW_VISUAL_1_7_0_SATL-2KM-52N_368_4336.txt',\n",
       "  datetime.datetime(2024, 6, 19, 5, 24, 1)),\n",
       " ('20240101_192856_SN24_QUICKVIEW_VISUAL_1_1_10_SATL-2KM-10N_552_4162.txt',\n",
       "  datetime.datetime(2024, 1, 1, 19, 28, 56)),\n",
       " ('20240616_213047_SN30_QUICKVIEW_VISUAL_1_7_0_SATL-2KM-11N_464_3830.txt',\n",
       "  datetime.datetime(2024, 6, 16, 21, 30, 47)),\n",
       " ('20240402_184757_SN24_QUICKVIEW_VISUAL_1_2_0_SATL-2KM-11N_486_3636.txt',\n",
       "  datetime.datetime(2024, 4, 2, 18, 47, 57)),\n",
       " ('20240222_074155_SN26_QUICKVIEW_VISUAL_1_1_10_SATL-2KM-39N_556_2792.txt',\n",
       "  datetime.datetime(2024, 2, 22, 7, 41, 55)),\n",
       " ('20240616_102144_SN28_QUICKVIEW_VISUAL_1_7_0_SATL-2KM-39N_560_2792.txt',\n",
       "  datetime.datetime(2024, 6, 16, 10, 21, 44)),\n",
       " ('20240201_075143_SN26_QUICKVIEW_VISUAL_1_1_10_SATL-2KM-39N_556_2792.txt',\n",
       "  datetime.datetime(2024, 2, 1, 7, 51, 43)),\n",
       " ('20240223_025420_SN24_QUICKVIEW_VISUAL_1_1_10_SATL-2KM-51N_686_4422.txt',\n",
       "  datetime.datetime(2024, 2, 23, 2, 54, 20)),\n",
       " ('20240516_211630_SN28_QUICKVIEW_VISUAL_1_5_0_SATL-2KM-11N_716_3848.txt',\n",
       "  datetime.datetime(2024, 5, 16, 21, 16, 30)),\n",
       " ('20240317_215115_SN28_QUICKVIEW_VISUAL_1_2_0_SATL-2KM-10N_554_4162.txt',\n",
       "  datetime.datetime(2024, 3, 17, 21, 51, 15)),\n",
       " ('20240325_173936_SN33_QUICKVIEW_VISUAL_1_2_0_SATL-2KM-11N_378_3722.txt',\n",
       "  datetime.datetime(2024, 3, 25, 17, 39, 36)),\n",
       " ('20240228_213951_SN29_QUICKVIEW_VISUAL_1_1_10_SATL-2KM-11N_248_4068.txt',\n",
       "  datetime.datetime(2024, 2, 28, 21, 39, 51)),\n",
       " ('20240222_074155_SN26_QUICKVIEW_VISUAL_1_1_10_SATL-2KM-39N_562_2792.txt',\n",
       "  datetime.datetime(2024, 2, 22, 7, 41, 55)),\n",
       " ('20240617_052859_SN29_QUICKVIEW_VISUAL_1_7_0_SATL-2KM-51N_730_4348.txt',\n",
       "  datetime.datetime(2024, 6, 17, 5, 28, 59)),\n",
       " ('20240608_214614_SN29_QUICKVIEW_VISUAL_1_7_0_SATL-2KM-11N_248_4068.txt',\n",
       "  datetime.datetime(2024, 6, 8, 21, 46, 14)),\n",
       " ('20240304_212824_SN30_QUICKVIEW_VISUAL_1_2_0_SATL-2KM-11N_378_3722.txt',\n",
       "  datetime.datetime(2024, 3, 4, 21, 28, 24)),\n",
       " ('20240617_211350_SN29_QUICKVIEW_VISUAL_1_7_0_SATL-2KM-11N_724_3614.txt',\n",
       "  datetime.datetime(2024, 6, 17, 21, 13, 50)),\n",
       " ('20240127_190620_SN27_QUICKVIEW_VISUAL_1_1_10_SATL-2KM-11N_500_3602.txt',\n",
       "  datetime.datetime(2024, 1, 27, 19, 6, 20)),\n",
       " ('20240423_190101_SN26_QUICKVIEW_VISUAL_1_5_0_SATL-2KM-11N_418_3862.txt',\n",
       "  datetime.datetime(2024, 4, 23, 19, 1, 1)),\n",
       " ('20240606_180251_SN33_QUICKVIEW_VISUAL_1_7_0_SATL-2KM-10N_556_4180.txt',\n",
       "  datetime.datetime(2024, 6, 6, 18, 2, 51)),\n",
       " ('20240613_214203_SN43_QUICKVIEW_VISUAL_1_7_0_SATL-2KM-11N_384_3750.txt',\n",
       "  datetime.datetime(2024, 6, 13, 21, 42, 3)),\n",
       " ('20240314_220020_SN30_QUICKVIEW_VISUAL_1_2_0_SATL-2KM-10N_544_4186.txt',\n",
       "  datetime.datetime(2024, 3, 14, 22, 0, 20)),\n",
       " ('20240611_025943_SN26_QUICKVIEW_VISUAL_1_7_0_SATL-2KM-51N_748_4364.txt',\n",
       "  datetime.datetime(2024, 6, 11, 2, 59, 43)),\n",
       " ('20240322_184801_SN24_QUICKVIEW_VISUAL_1_2_0_SATL-2KM-11N_500_3632.txt',\n",
       "  datetime.datetime(2024, 3, 22, 18, 48, 1)),\n",
       " ('20240616_081345_SN27_QUICKVIEW_VISUAL_1_7_0_SATL-2KM-39N_562_2794.txt',\n",
       "  datetime.datetime(2024, 6, 16, 8, 13, 45)),\n",
       " ('20240308_211248_SN29_QUICKVIEW_VISUAL_1_2_0_SATL-2KM-11N_718_3640.txt',\n",
       "  datetime.datetime(2024, 3, 8, 21, 12, 48)),\n",
       " ('20240101_192856_SN24_QUICKVIEW_VISUAL_1_1_10_SATL-2KM-10N_554_4162.txt',\n",
       "  datetime.datetime(2024, 1, 1, 19, 28, 56)),\n",
       " ('20240428_215426_SN43_QUICKVIEW_VISUAL_1_5_0_SATL-2KM-10N_630_4264.txt',\n",
       "  datetime.datetime(2024, 4, 28, 21, 54, 26)),\n",
       " ('20240427_221308_SN31_QUICKVIEW_VISUAL_1_5_0_SATL-2KM-10N_722_3848.txt',\n",
       "  datetime.datetime(2024, 4, 27, 22, 13, 8)),\n",
       " ('20240201_075140_SN26_QUICKVIEW_VISUAL_1_1_10_SATL-2KM-39N_560_2792.txt',\n",
       "  datetime.datetime(2024, 2, 1, 7, 51, 40)),\n",
       " ('20240514_052716_SN43_QUICKVIEW_VISUAL_1_5_0_SATL-2KM-51N_730_4342.txt',\n",
       "  datetime.datetime(2024, 5, 14, 5, 27, 16)),\n",
       " ('20240213_212524_SN29_QUICKVIEW_VISUAL_1_1_10_SATL-2KM-11N_544_3742.txt',\n",
       "  datetime.datetime(2024, 2, 13, 21, 25, 24)),\n",
       " ('20240609_214259_SN30_QUICKVIEW_VISUAL_1_7_0_SATL-2KM-11N_262_4052.txt',\n",
       "  datetime.datetime(2024, 6, 9, 21, 42, 59)),\n",
       " ('20240604_214955_SN29_QUICKVIEW_VISUAL_1_7_0_SATL-2KM-10N_594_4136.txt',\n",
       "  datetime.datetime(2024, 6, 4, 21, 49, 55)),\n",
       " ('20240423_190101_SN26_QUICKVIEW_VISUAL_1_5_0_SATL-2KM-11N_414_3862.txt',\n",
       "  datetime.datetime(2024, 4, 23, 19, 1, 1)),\n",
       " ('20240213_212524_SN29_QUICKVIEW_VISUAL_1_1_10_SATL-2KM-11N_540_3748.txt',\n",
       "  datetime.datetime(2024, 2, 13, 21, 25, 24)),\n",
       " ('20240613_192217_SN26_QUICKVIEW_VISUAL_1_7_0_SATL-2KM-10N_560_4178.txt',\n",
       "  datetime.datetime(2024, 6, 13, 19, 22, 17)),\n",
       " ('20240101_213601_SN31_QUICKVIEW_VISUAL_1_1_10_SATL-2KM-11N_392_3740.txt',\n",
       "  datetime.datetime(2024, 1, 1, 21, 36, 1)),\n",
       " ('20240317_215115_SN28_QUICKVIEW_VISUAL_1_2_0_SATL-2KM-10N_552_4162.txt',\n",
       "  datetime.datetime(2024, 3, 17, 21, 51, 15)),\n",
       " ('20240401_032415_SN27_QUICKVIEW_VISUAL_1_2_0_SATL-2KM-51N_688_4420.txt',\n",
       "  datetime.datetime(2024, 4, 1, 3, 24, 15)),\n",
       " ('20240503_214759_SN28_QUICKVIEW_VISUAL_1_5_0_SATL-2KM-11N_376_3724.txt',\n",
       "  datetime.datetime(2024, 5, 3, 21, 47, 59)),\n",
       " ('20240519_184534_SN24_QUICKVIEW_VISUAL_1_5_0_SATL-2KM-11N_658_3700.txt',\n",
       "  datetime.datetime(2024, 5, 19, 18, 45, 34)),\n",
       " ('20240615_173631_SN33_QUICKVIEW_VISUAL_1_7_0_SATL-2KM-11N_546_3742.txt',\n",
       "  datetime.datetime(2024, 6, 15, 17, 36, 31)),\n",
       " ('20240314_220020_SN30_QUICKVIEW_VISUAL_1_2_0_SATL-2KM-10N_550_4202.txt',\n",
       "  datetime.datetime(2024, 3, 14, 22, 0, 20)),\n",
       " ('20240219_214312_SN28_QUICKVIEW_VISUAL_1_1_10_SATL-2KM-11N_252_3954.txt',\n",
       "  datetime.datetime(2024, 2, 19, 21, 43, 12)),\n",
       " ('20240101_213601_SN31_QUICKVIEW_VISUAL_1_1_10_SATL-2KM-11N_392_3742.txt',\n",
       "  datetime.datetime(2024, 1, 1, 21, 36, 1)),\n",
       " ('20240623_215120_SN29_QUICKVIEW_VISUAL_1_7_0_SATL-2KM-10N_596_4134.txt',\n",
       "  datetime.datetime(2024, 6, 23, 21, 51, 20)),\n",
       " ('20240128_213258_SN29_QUICKVIEW_VISUAL_1_1_10_SATL-2KM-11N_418_3864.txt',\n",
       "  datetime.datetime(2024, 1, 28, 21, 32, 58)),\n",
       " ('20240612_185400_SN24_QUICKVIEW_VISUAL_1_7_0_SATL-2KM-11N_576_3720.txt',\n",
       "  datetime.datetime(2024, 6, 12, 18, 54)),\n",
       " ('20240612_053829_SN28_QUICKVIEW_VISUAL_1_7_0_SATL-2KM-51N_686_4422.txt',\n",
       "  datetime.datetime(2024, 6, 12, 5, 38, 29)),\n",
       " ('20240521_101252_SN43_QUICKVIEW_VISUAL_1_6_0_SATL-2KM-39N_556_2792.txt',\n",
       "  datetime.datetime(2024, 5, 21, 10, 12, 52)),\n",
       " ('20240616_102144_SN28_QUICKVIEW_VISUAL_1_7_0_SATL-2KM-39N_558_2794.txt',\n",
       "  datetime.datetime(2024, 6, 16, 10, 21, 44)),\n",
       " ('20240616_081345_SN27_QUICKVIEW_VISUAL_1_7_0_SATL-2KM-39N_562_2792.txt',\n",
       "  datetime.datetime(2024, 6, 16, 8, 13, 45)),\n",
       " ('20240428_215426_SN43_QUICKVIEW_VISUAL_1_5_0_SATL-2KM-10N_630_4262.txt',\n",
       "  datetime.datetime(2024, 4, 28, 21, 54, 26)),\n",
       " ('20240201_075140_SN26_QUICKVIEW_VISUAL_1_1_10_SATL-2KM-39N_560_2794.txt',\n",
       "  datetime.datetime(2024, 2, 1, 7, 51, 40)),\n",
       " ('20240428_215426_SN43_QUICKVIEW_VISUAL_1_5_0_SATL-2KM-10N_634_4282.txt',\n",
       "  datetime.datetime(2024, 4, 28, 21, 54, 26)),\n",
       " ('20240216_213630_SN31_QUICKVIEW_VISUAL_1_1_10_SATL-2KM-11N_418_3724.txt',\n",
       "  datetime.datetime(2024, 2, 16, 21, 36, 30)),\n",
       " ('20240616_213047_SN30_QUICKVIEW_VISUAL_1_7_0_SATL-2KM-11N_466_3828.txt',\n",
       "  datetime.datetime(2024, 6, 16, 21, 30, 47)),\n",
       " ('20240619_215556_SN29_QUICKVIEW_VISUAL_1_7_0_SATL-2KM-10N_742_4460.txt',\n",
       "  datetime.datetime(2024, 6, 19, 21, 55, 56)),\n",
       " ('20240317_215115_SN28_QUICKVIEW_VISUAL_1_2_0_SATL-2KM-10N_552_4164.txt',\n",
       "  datetime.datetime(2024, 3, 17, 21, 51, 15)),\n",
       " ('20240222_074151_SN26_QUICKVIEW_VISUAL_1_1_10_SATL-2KM-39N_558_2796.txt',\n",
       "  datetime.datetime(2024, 2, 22, 7, 41, 51)),\n",
       " ('20240510_191914_SN27_QUICKVIEW_VISUAL_1_5_0_SATL-2KM-11N_712_3566.txt',\n",
       "  datetime.datetime(2024, 5, 10, 19, 19, 14)),\n",
       " ('20240528_191604_SN24_QUICKVIEW_VISUAL_1_6_0_SATL-2KM-11N_344_3836.txt',\n",
       "  datetime.datetime(2024, 5, 28, 19, 16, 4)),\n",
       " ('20240611_215323_SN30_QUICKVIEW_VISUAL_1_7_0_SATL-2KM-10N_702_3948.txt',\n",
       "  datetime.datetime(2024, 6, 11, 21, 53, 23)),\n",
       " ('20240613_053340_SN29_QUICKVIEW_VISUAL_1_7_0_SATL-2KM-51N_728_4342.txt',\n",
       "  datetime.datetime(2024, 6, 13, 5, 33, 40)),\n",
       " ('20240612_185419_SN24_QUICKVIEW_VISUAL_1_7_0_SATL-2KM-11N_554_3610.txt',\n",
       "  datetime.datetime(2024, 6, 12, 18, 54, 19)),\n",
       " ('20240201_075140_SN26_QUICKVIEW_VISUAL_1_1_10_SATL-2KM-39N_560_2796.txt',\n",
       "  datetime.datetime(2024, 2, 1, 7, 51, 40)),\n",
       " ('20240208_184650_SN24_QUICKVIEW_VISUAL_1_1_10_SATL-2KM-11N_624_3632.txt',\n",
       "  datetime.datetime(2024, 2, 8, 18, 46, 50)),\n",
       " ('20240128_213258_SN29_QUICKVIEW_VISUAL_1_1_10_SATL-2KM-11N_418_3862.txt',\n",
       "  datetime.datetime(2024, 1, 28, 21, 32, 58)),\n",
       " ('20240214_184340_SN24_QUICKVIEW_VISUAL_1_1_10_SATL-2KM-11N_688_3630.txt',\n",
       "  datetime.datetime(2024, 2, 14, 18, 43, 40)),\n",
       " ('20240509_212336_SN29_QUICKVIEW_VISUAL_1_5_0_SATL-2KM-11N_706_3778.txt',\n",
       "  datetime.datetime(2024, 5, 9, 21, 23, 36)),\n",
       " ('20240508_194502_SN27_QUICKVIEW_VISUAL_1_5_0_SATL-2KM-11N_262_4022.txt',\n",
       "  datetime.datetime(2024, 5, 8, 19, 45, 2)),\n",
       " ('20240130_215036_SN31_QUICKVIEW_VISUAL_1_1_10_SATL-2KM-11N_366_3756.txt',\n",
       "  datetime.datetime(2024, 1, 30, 21, 50, 36)),\n",
       " ('20240212_213506_SN31_QUICKVIEW_VISUAL_1_1_10_SATL-2KM-11N_408_3712.txt',\n",
       "  datetime.datetime(2024, 2, 12, 21, 35, 6)),\n",
       " ('20240519_214917_SN31_QUICKVIEW_VISUAL_1_5_0_SATL-2KM-11N_500_3600.txt',\n",
       "  datetime.datetime(2024, 5, 19, 21, 49, 17)),\n",
       " ('20240612_053829_SN28_QUICKVIEW_VISUAL_1_7_0_SATL-2KM-51N_688_4420.txt',\n",
       "  datetime.datetime(2024, 6, 12, 5, 38, 29)),\n",
       " ('20240222_074155_SN26_QUICKVIEW_VISUAL_1_1_10_SATL-2KM-39N_560_2792.txt',\n",
       "  datetime.datetime(2024, 2, 22, 7, 41, 55)),\n",
       " ('20240616_213047_SN30_QUICKVIEW_VISUAL_1_7_0_SATL-2KM-11N_466_3826.txt',\n",
       "  datetime.datetime(2024, 6, 16, 21, 30, 47)),\n",
       " ('20240612_185400_SN24_QUICKVIEW_VISUAL_1_7_0_SATL-2KM-11N_578_3722.txt',\n",
       "  datetime.datetime(2024, 6, 12, 18, 54)),\n",
       " ('20240610_191018_SN26_QUICKVIEW_VISUAL_1_7_0_SATL-2KM-11N_384_3750.txt',\n",
       "  datetime.datetime(2024, 6, 10, 19, 10, 18)),\n",
       " ('20240401_175918_SN33_QUICKVIEW_VISUAL_1_2_0_SATL-2KM-10N_542_4168.txt',\n",
       "  datetime.datetime(2024, 4, 1, 17, 59, 18)),\n",
       " ('20240127_190620_SN27_QUICKVIEW_VISUAL_1_1_10_SATL-2KM-11N_502_3602.txt',\n",
       "  datetime.datetime(2024, 1, 27, 19, 6, 20)),\n",
       " ('20240513_212022_SN29_QUICKVIEW_VISUAL_1_5_0_SATL-2KM-11N_630_3742.txt',\n",
       "  datetime.datetime(2024, 5, 13, 21, 20, 22)),\n",
       " ('20240222_212250_SN30_QUICKVIEW_VISUAL_1_1_10_SATL-2KM-11N_382_3722.txt',\n",
       "  datetime.datetime(2024, 2, 22, 21, 22, 50)),\n",
       " ('20240127_190620_SN27_QUICKVIEW_VISUAL_1_1_10_SATL-2KM-11N_502_3600.txt',\n",
       "  datetime.datetime(2024, 1, 27, 19, 6, 20)),\n",
       " ('20240308_191212_SN27_QUICKVIEW_VISUAL_1_2_0_SATL-2KM-11N_506_3614.txt',\n",
       "  datetime.datetime(2024, 3, 8, 19, 12, 12)),\n",
       " ('20240613_053340_SN29_QUICKVIEW_VISUAL_1_7_0_SATL-2KM-51N_730_4342.txt',\n",
       "  datetime.datetime(2024, 6, 13, 5, 33, 40)),\n",
       " ('20240516_190328_SN24_QUICKVIEW_VISUAL_1_5_0_SATL-2KM-11N_262_4052.txt',\n",
       "  datetime.datetime(2024, 5, 16, 19, 3, 28)),\n",
       " ('20240221_190608_SN26_QUICKVIEW_VISUAL_1_1_10_SATL-2KM-11N_380_3764.txt',\n",
       "  datetime.datetime(2024, 2, 21, 19, 6, 8)),\n",
       " ('20240209_212744_SN29_QUICKVIEW_VISUAL_1_1_10_SATL-2KM-11N_380_3722.txt',\n",
       "  datetime.datetime(2024, 2, 9, 21, 27, 44)),\n",
       " ('20240519_214917_SN31_QUICKVIEW_VISUAL_1_5_0_SATL-2KM-11N_500_3602.txt',\n",
       "  datetime.datetime(2024, 5, 19, 21, 49, 17)),\n",
       " ('20240616_102144_SN28_QUICKVIEW_VISUAL_1_7_0_SATL-2KM-39N_556_2794.txt',\n",
       "  datetime.datetime(2024, 6, 16, 10, 21, 44)),\n",
       " ('20240618_215539_SN31_QUICKVIEW_VISUAL_1_7_0_SATL-2KM-11N_452_3740.txt',\n",
       "  datetime.datetime(2024, 6, 18, 21, 55, 39)),\n",
       " ('20240623_215102_SN43_QUICKVIEW_VISUAL_1_7_0_SATL-2KM-11N_384_3750.txt',\n",
       "  datetime.datetime(2024, 6, 23, 21, 51, 2)),\n",
       " ('20240521_101252_SN43_QUICKVIEW_VISUAL_1_6_0_SATL-2KM-39N_558_2796.txt',\n",
       "  datetime.datetime(2024, 5, 21, 10, 12, 52)),\n",
       " ('20240607_200250_SN27_QUICKVIEW_VISUAL_1_7_0_SATL-2KM-10N_554_4172.txt',\n",
       "  datetime.datetime(2024, 6, 7, 20, 2, 50)),\n",
       " ('20240426_215224_SN29_QUICKVIEW_VISUAL_1_5_0_SATL-2KM-11N_244_3818.txt',\n",
       "  datetime.datetime(2024, 4, 26, 21, 52, 24)),\n",
       " ('20240510_191908_SN27_QUICKVIEW_VISUAL_1_5_0_SATL-2KM-11N_718_3608.txt',\n",
       "  datetime.datetime(2024, 5, 10, 19, 19, 8)),\n",
       " ('20240222_074151_SN26_QUICKVIEW_VISUAL_1_1_10_SATL-2KM-39N_556_2794.txt',\n",
       "  datetime.datetime(2024, 2, 22, 7, 41, 51)),\n",
       " ('20240618_215539_SN31_QUICKVIEW_VISUAL_1_7_0_SATL-2KM-11N_458_3756.txt',\n",
       "  datetime.datetime(2024, 6, 18, 21, 55, 39)),\n",
       " ('20240602_215203_SN30_QUICKVIEW_VISUAL_1_6_0_SATL-2KM-10N_714_3948.txt',\n",
       "  datetime.datetime(2024, 6, 2, 21, 52, 3)),\n",
       " ('20240130_173903_SN33_QUICKVIEW_VISUAL_1_1_10_SATL-2KM-11N_360_3748.txt',\n",
       "  datetime.datetime(2024, 1, 30, 17, 39, 3)),\n",
       " ('20240202_191114_SN27_QUICKVIEW_VISUAL_1_1_10_SATL-2KM-11N_718_3608.txt',\n",
       "  datetime.datetime(2024, 2, 2, 19, 11, 14)),\n",
       " ('20240401_175918_SN33_QUICKVIEW_VISUAL_1_2_0_SATL-2KM-10N_546_4206.txt',\n",
       "  datetime.datetime(2024, 4, 1, 17, 59, 18)),\n",
       " ('20240202_184725_SN24_QUICKVIEW_VISUAL_1_1_10_SATL-2KM-11N_624_3630.txt',\n",
       "  datetime.datetime(2024, 2, 2, 18, 47, 25)),\n",
       " ('20240130_173903_SN33_QUICKVIEW_VISUAL_1_1_10_SATL-2KM-11N_364_3754.txt',\n",
       "  datetime.datetime(2024, 1, 30, 17, 39, 3)),\n",
       " ('20240222_074151_SN26_QUICKVIEW_VISUAL_1_1_10_SATL-2KM-39N_562_2794.txt',\n",
       "  datetime.datetime(2024, 2, 22, 7, 41, 51)),\n",
       " ('20240519_214917_SN31_QUICKVIEW_VISUAL_1_5_0_SATL-2KM-11N_500_3598.txt',\n",
       "  datetime.datetime(2024, 5, 19, 21, 49, 17)),\n",
       " ('20240101_213601_SN31_QUICKVIEW_VISUAL_1_1_10_SATL-2KM-11N_396_3752.txt',\n",
       "  datetime.datetime(2024, 1, 1, 21, 36, 1)),\n",
       " ('20240224_214855_SN30_QUICKVIEW_VISUAL_1_1_10_SATL-2KM-10N_552_4162.txt',\n",
       "  datetime.datetime(2024, 2, 24, 21, 48, 55)),\n",
       " ('20240227_214218_SN30_QUICKVIEW_VISUAL_1_1_10_SATL-2KM-10N_562_4170.txt',\n",
       "  datetime.datetime(2024, 2, 27, 21, 42, 18)),\n",
       " ('20240321_220846_SN31_QUICKVIEW_VISUAL_1_2_0_SATL-2KM-10N_560_4178.txt',\n",
       "  datetime.datetime(2024, 3, 21, 22, 8, 46)),\n",
       " ('20240112_192510_SN27_QUICKVIEW_VISUAL_1_1_10_SATL-2KM-11N_386_3750.txt',\n",
       "  datetime.datetime(2024, 1, 12, 19, 25, 10)),\n",
       " ('20240617_184443_SN24_QUICKVIEW_VISUAL_1_7_0_SATL-2KM-11N_702_3566.txt',\n",
       "  datetime.datetime(2024, 6, 17, 18, 44, 43)),\n",
       " ('20240201_075140_SN26_QUICKVIEW_VISUAL_1_1_10_SATL-2KM-39N_556_2794.txt',\n",
       "  datetime.datetime(2024, 2, 1, 7, 51, 40)),\n",
       " ('20240115_213834_SN28_QUICKVIEW_VISUAL_1_1_10_SATL-2KM-11N_380_3724.txt',\n",
       "  datetime.datetime(2024, 1, 15, 21, 38, 34)),\n",
       " ('20240524_213504_SN29_QUICKVIEW_VISUAL_1_6_0_SATL-2KM-11N_380_3724.txt',\n",
       "  datetime.datetime(2024, 5, 24, 21, 35, 4)),\n",
       " ('20240402_215427_SN31_QUICKVIEW_VISUAL_1_2_0_SATL-2KM-11N_502_3600.txt',\n",
       "  datetime.datetime(2024, 4, 2, 21, 54, 27)),\n",
       " ('20240506_213507_SN43_QUICKVIEW_VISUAL_1_5_0_SATL-2KM-11N_384_3750.txt',\n",
       "  datetime.datetime(2024, 5, 6, 21, 35, 7)),\n",
       " ('20240222_074155_SN26_QUICKVIEW_VISUAL_1_1_10_SATL-2KM-39N_558_2794.txt',\n",
       "  datetime.datetime(2024, 2, 22, 7, 41, 55)),\n",
       " ('20240602_215203_SN30_QUICKVIEW_VISUAL_1_6_0_SATL-2KM-10N_712_3948.txt',\n",
       "  datetime.datetime(2024, 6, 2, 21, 52, 3)),\n",
       " ('20240110_192002_SN27_QUICKVIEW_VISUAL_1_1_10_SATL-2KM-11N_380_3728.txt',\n",
       "  datetime.datetime(2024, 1, 10, 19, 20, 2)),\n",
       " ('20240211_211057_SN30_QUICKVIEW_VISUAL_1_1_10_SATL-2KM-11N_700_3690.txt',\n",
       "  datetime.datetime(2024, 2, 11, 21, 10, 57)),\n",
       " ('20240428_215557_SN43_QUICKVIEW_VISUAL_1_5_0_SATL-2KM-10N_726_3862.txt',\n",
       "  datetime.datetime(2024, 4, 28, 21, 55, 57)),\n",
       " ('20240616_081345_SN27_QUICKVIEW_VISUAL_1_7_0_SATL-2KM-39N_560_2792.txt',\n",
       "  datetime.datetime(2024, 6, 16, 8, 13, 45)),\n",
       " ('20240616_213047_SN30_QUICKVIEW_VISUAL_1_7_0_SATL-2KM-11N_464_3828.txt',\n",
       "  datetime.datetime(2024, 6, 16, 21, 30, 47)),\n",
       " ('20240423_190101_SN26_QUICKVIEW_VISUAL_1_5_0_SATL-2KM-11N_416_3864.txt',\n",
       "  datetime.datetime(2024, 4, 23, 19, 1, 1)),\n",
       " ('20240201_075140_SN26_QUICKVIEW_VISUAL_1_1_10_SATL-2KM-39N_562_2794.txt',\n",
       "  datetime.datetime(2024, 2, 1, 7, 51, 40)),\n",
       " ('20240618_193146_SN27_QUICKVIEW_VISUAL_1_7_0_SATL-2KM-11N_530_3682.txt',\n",
       "  datetime.datetime(2024, 6, 18, 19, 31, 46)),\n",
       " ('20240201_075143_SN26_QUICKVIEW_VISUAL_1_1_10_SATL-2KM-39N_562_2788.txt',\n",
       "  datetime.datetime(2024, 2, 1, 7, 51, 43)),\n",
       " ('20240224_214855_SN30_QUICKVIEW_VISUAL_1_1_10_SATL-2KM-10N_554_4162.txt',\n",
       "  datetime.datetime(2024, 2, 24, 21, 48, 55)),\n",
       " ('20240402_184757_SN24_QUICKVIEW_VISUAL_1_2_0_SATL-2KM-11N_490_3638.txt',\n",
       "  datetime.datetime(2024, 4, 2, 18, 47, 57)),\n",
       " ('20240203_173953_SN33_QUICKVIEW_VISUAL_1_1_10_SATL-2KM-11N_366_3756.txt',\n",
       "  datetime.datetime(2024, 2, 3, 17, 39, 53)),\n",
       " ('20240614_221436_SN31_QUICKVIEW_VISUAL_1_7_0_SATL-2KM-10N_558_4184.txt',\n",
       "  datetime.datetime(2024, 6, 14, 22, 14, 36)),\n",
       " ('20240428_191026_SN24_QUICKVIEW_VISUAL_1_5_0_SATL-2KM-11N_380_3722.txt',\n",
       "  datetime.datetime(2024, 4, 28, 19, 10, 26)),\n",
       " ('20240605_212717_SN29_QUICKVIEW_VISUAL_1_7_0_SATL-2KM-11N_718_3608.txt',\n",
       "  datetime.datetime(2024, 6, 5, 21, 27, 17)),\n",
       " ('20240201_075140_SN26_QUICKVIEW_VISUAL_1_1_10_SATL-2KM-39N_556_2792.txt',\n",
       "  datetime.datetime(2024, 2, 1, 7, 51, 40)),\n",
       " ('20240520_194539_SN27_QUICKVIEW_VISUAL_1_5_0_SATL-2KM-10N_638_4280.txt',\n",
       "  datetime.datetime(2024, 5, 20, 19, 45, 39)),\n",
       " ('20240401_175925_SN33_QUICKVIEW_VISUAL_1_2_0_SATL-2KM-10N_542_4168.txt',\n",
       "  datetime.datetime(2024, 4, 1, 17, 59, 25)),\n",
       " ('20240322_184801_SN24_QUICKVIEW_VISUAL_1_2_0_SATL-2KM-11N_502_3632.txt',\n",
       "  datetime.datetime(2024, 3, 22, 18, 48, 1)),\n",
       " ('20240402_215421_SN31_QUICKVIEW_VISUAL_1_2_0_SATL-2KM-11N_500_3632.txt',\n",
       "  datetime.datetime(2024, 4, 2, 21, 54, 21)),\n",
       " ('20240609_191744_SN24_QUICKVIEW_VISUAL_1_7_0_SATL-2KM-10N_564_4194.txt',\n",
       "  datetime.datetime(2024, 6, 9, 19, 17, 44)),\n",
       " ('20240102_185605_SN27_QUICKVIEW_VISUAL_1_1_10_SATL-2KM-11N_690_3572.txt',\n",
       "  datetime.datetime(2024, 1, 2, 18, 56, 5)),\n",
       " ('20240520_194539_SN27_QUICKVIEW_VISUAL_1_5_0_SATL-2KM-10N_638_4282.txt',\n",
       "  datetime.datetime(2024, 5, 20, 19, 45, 39)),\n",
       " ('20240616_081345_SN27_QUICKVIEW_VISUAL_1_7_0_SATL-2KM-39N_560_2794.txt',\n",
       "  datetime.datetime(2024, 6, 16, 8, 13, 45)),\n",
       " ('20240524_213504_SN29_QUICKVIEW_VISUAL_1_6_0_SATL-2KM-11N_378_3724.txt',\n",
       "  datetime.datetime(2024, 5, 24, 21, 35, 4)),\n",
       " ('20240423_190101_SN26_QUICKVIEW_VISUAL_1_5_0_SATL-2KM-11N_416_3862.txt',\n",
       "  datetime.datetime(2024, 4, 23, 19, 1, 1)),\n",
       " ('20240201_075140_SN26_QUICKVIEW_VISUAL_1_1_10_SATL-2KM-39N_562_2792.txt',\n",
       "  datetime.datetime(2024, 2, 1, 7, 51, 40)),\n",
       " ('20240609_191959_SN27_QUICKVIEW_VISUAL_1_7_0_SATL-2KM-11N_702_3540.txt',\n",
       "  datetime.datetime(2024, 6, 9, 19, 19, 59)),\n",
       " ('20240507_191326_SN27_QUICKVIEW_VISUAL_1_5_0_SATL-2KM-11N_718_3608.txt',\n",
       "  datetime.datetime(2024, 5, 7, 19, 13, 26)),\n",
       " ('20240321_190819_SN27_QUICKVIEW_VISUAL_1_2_0_SATL-2KM-11N_714_3632.txt',\n",
       "  datetime.datetime(2024, 3, 21, 19, 8, 19))]"
      ]
     },
     "execution_count": 25,
     "metadata": {},
     "output_type": "execute_result"
    }
   ],
   "source": [
    "import re\n",
    "import glob\n",
    "import os\n",
    "from datetime import datetime\n",
    "\n",
    "# Regex pattern, r in front of strings tell python to treat them as raw strings\n",
    "# we do this so slashes don't get interpret as scaping symbol\n",
    "pattern = r'(\\d{8})_(\\d{6})_SN(\\d+)_QUICKVIEW_VISUAL_([\\d_]+)_([A-Za-z0-9\\-_.]+)\\.txt' \n",
    "\n",
    "annotations = glob.glob('session_4/annotations/*.txt')\n",
    "\n",
    "# let's create a list that for each annotations we gather the datetime object\n",
    "ann_datetime = []\n",
    "\n",
    "for annotation in annotations:\n",
    "\n",
    "    # extract the file name\n",
    "    filename = os.path.basename(annotation)\n",
    "    \n",
    "    # Search and extract values\n",
    "    match = re.match(pattern, filename)\n",
    "    if match:\n",
    "        date, time, _, _, _ = match.groups() #dont care about the variables _ \n",
    "\n",
    "        # Put them together, e.g. \"20240101192856\"\n",
    "        datetime_str = date + time \n",
    "\n",
    "        # Parse the string into a datetime object\n",
    "        datetime_obj = datetime.strptime(datetime_str, \"%Y%m%d%H%M%S\")\n",
    "\n",
    "        # Output the datetime object\n",
    "        print(f\"Datetime Object: {datetime_obj}\")\n",
    "        \n",
    "        ann_datetime.append((filename, datetime_obj))\n",
    "ann_datetime"
   ]
  },
  {
   "cell_type": "code",
   "execution_count": 26,
   "id": "878a7793",
   "metadata": {
    "slideshow": {
     "slide_type": "subslide"
    }
   },
   "outputs": [
    {
     "data": {
      "text/plain": [
       "array([ 25,   6,   8,  69,  44, 151,  88,  80,   0, 185,  10,  14, 164,\n",
       "       155, 158,  17,  20, 124,  39,  60, 127,  90, 111, 148,  30, 144,\n",
       "       115, 157,   4,  72, 190, 179,  97, 170, 109,  49, 172, 147, 145,\n",
       "       175,  41, 110, 132, 165, 116,  74,  11,  78, 112,  99,   7,  87,\n",
       "        24, 131,   5,  23, 103, 141, 149,  55,  18,  47,  12, 119, 162,\n",
       "        42, 126,  50, 173, 152, 153,  54,  58, 128,  68,  86,  64,  33,\n",
       "       102,  52,  81,  21, 193, 154,  66, 182,  19,  37,  53,  82, 123,\n",
       "       146, 181,  32,   2,   9, 174,  46, 183, 160,  38,  77,  26, 169,\n",
       "         3, 189,  61, 139,  71, 177,  96,  70,  98, 166,  83,  22, 161,\n",
       "       192, 114,  28,  36, 113, 140, 104, 125,  73, 130,  51,  84,  29,\n",
       "       150, 133, 117, 180, 186,  27,  93, 137, 188, 159,  34, 105, 163,\n",
       "       143,  13,  15,  76, 178,  62, 138,  57, 184, 191,  75, 122,  31,\n",
       "        65, 106,  92, 118,  35, 121,  91, 108, 129, 107,  79,  63, 176,\n",
       "        85, 167,  95, 187,  67, 134,  48,  94, 100, 168, 120,  45,  16,\n",
       "        56, 156,  59, 171, 135, 142,  43,  40, 101,   1, 136,  89])"
      ]
     },
     "execution_count": 26,
     "metadata": {},
     "output_type": "execute_result"
    }
   ],
   "source": [
    "indices = np.argsort([date for name, date in ann_datetime])\n",
    "indices"
   ]
  },
  {
   "cell_type": "code",
   "execution_count": 27,
   "id": "22f9ba90",
   "metadata": {
    "slideshow": {
     "slide_type": "subslide"
    }
   },
   "outputs": [
    {
     "name": "stdout",
     "output_type": "stream",
     "text": [
      "20240101_174301_SN33_QUICKVIEW_VISUAL_1_1_10_SATL-2KM-11N_404_3772.txt\n",
      "20240101_174301_SN33_QUICKVIEW_VISUAL_1_1_10_SATL-2KM-11N_404_3770.txt\n",
      "20240101_192856_SN24_QUICKVIEW_VISUAL_1_1_10_SATL-2KM-10N_552_4164.txt\n",
      "20240101_192856_SN24_QUICKVIEW_VISUAL_1_1_10_SATL-2KM-10N_554_4162.txt\n",
      "20240101_192856_SN24_QUICKVIEW_VISUAL_1_1_10_SATL-2KM-10N_552_4162.txt\n",
      "20240101_213601_SN31_QUICKVIEW_VISUAL_1_1_10_SATL-2KM-11N_396_3752.txt\n",
      "20240101_213601_SN31_QUICKVIEW_VISUAL_1_1_10_SATL-2KM-11N_392_3742.txt\n",
      "20240101_213601_SN31_QUICKVIEW_VISUAL_1_1_10_SATL-2KM-11N_392_3740.txt\n",
      "20240102_185527_SN27_QUICKVIEW_VISUAL_1_1_10_SATL-2KM-11N_740_3850.txt\n",
      "20240102_185605_SN27_QUICKVIEW_VISUAL_1_1_10_SATL-2KM-11N_690_3572.txt\n",
      "20240102_185954_SN24_QUICKVIEW_VISUAL_1_1_10_SATL-2KM-11N_414_3786.txt\n",
      "20240104_220339_SN31_QUICKVIEW_VISUAL_1_1_10_SATL-2KM-10N_556_4178.txt\n",
      "20240110_192002_SN27_QUICKVIEW_VISUAL_1_1_10_SATL-2KM-11N_380_3728.txt\n",
      "20240112_192510_SN27_QUICKVIEW_VISUAL_1_1_10_SATL-2KM-11N_386_3750.txt\n",
      "20240115_213834_SN28_QUICKVIEW_VISUAL_1_1_10_SATL-2KM-11N_380_3724.txt\n",
      "20240115_213834_SN28_QUICKVIEW_VISUAL_1_1_10_SATL-2KM-11N_376_3722.txt\n",
      "20240126_173752_SN33_QUICKVIEW_VISUAL_1_1_10_SATL-2KM-11N_386_3722.txt\n",
      "20240127_190620_SN27_QUICKVIEW_VISUAL_1_1_10_SATL-2KM-11N_502_3602.txt\n",
      "20240127_190620_SN27_QUICKVIEW_VISUAL_1_1_10_SATL-2KM-11N_500_3600.txt\n",
      "20240127_190620_SN27_QUICKVIEW_VISUAL_1_1_10_SATL-2KM-11N_500_3602.txt\n",
      "20240127_190620_SN27_QUICKVIEW_VISUAL_1_1_10_SATL-2KM-11N_502_3600.txt\n",
      "20240128_213258_SN29_QUICKVIEW_VISUAL_1_1_10_SATL-2KM-11N_418_3864.txt\n",
      "20240128_213258_SN29_QUICKVIEW_VISUAL_1_1_10_SATL-2KM-11N_418_3862.txt\n",
      "20240130_173903_SN33_QUICKVIEW_VISUAL_1_1_10_SATL-2KM-11N_364_3754.txt\n",
      "20240130_173903_SN33_QUICKVIEW_VISUAL_1_1_10_SATL-2KM-11N_366_3756.txt\n",
      "20240130_173903_SN33_QUICKVIEW_VISUAL_1_1_10_SATL-2KM-11N_360_3748.txt\n",
      "20240130_215036_SN31_QUICKVIEW_VISUAL_1_1_10_SATL-2KM-11N_366_3756.txt\n",
      "20240201_075140_SN26_QUICKVIEW_VISUAL_1_1_10_SATL-2KM-39N_556_2794.txt\n",
      "20240201_075140_SN26_QUICKVIEW_VISUAL_1_1_10_SATL-2KM-39N_558_2794.txt\n",
      "20240201_075140_SN26_QUICKVIEW_VISUAL_1_1_10_SATL-2KM-39N_560_2792.txt\n",
      "20240201_075140_SN26_QUICKVIEW_VISUAL_1_1_10_SATL-2KM-39N_562_2792.txt\n",
      "20240201_075140_SN26_QUICKVIEW_VISUAL_1_1_10_SATL-2KM-39N_556_2792.txt\n",
      "20240201_075140_SN26_QUICKVIEW_VISUAL_1_1_10_SATL-2KM-39N_560_2794.txt\n",
      "20240201_075140_SN26_QUICKVIEW_VISUAL_1_1_10_SATL-2KM-39N_562_2794.txt\n",
      "20240201_075140_SN26_QUICKVIEW_VISUAL_1_1_10_SATL-2KM-39N_560_2796.txt\n",
      "20240201_075143_SN26_QUICKVIEW_VISUAL_1_1_10_SATL-2KM-39N_556_2792.txt\n",
      "20240201_075143_SN26_QUICKVIEW_VISUAL_1_1_10_SATL-2KM-39N_562_2788.txt\n",
      "20240202_184725_SN24_QUICKVIEW_VISUAL_1_1_10_SATL-2KM-11N_624_3630.txt\n",
      "20240202_191114_SN27_QUICKVIEW_VISUAL_1_1_10_SATL-2KM-11N_718_3608.txt\n",
      "20240203_173953_SN33_QUICKVIEW_VISUAL_1_1_10_SATL-2KM-11N_366_3756.txt\n",
      "20240203_173953_SN33_QUICKVIEW_VISUAL_1_1_10_SATL-2KM-11N_368_3756.txt\n",
      "20240208_184650_SN24_QUICKVIEW_VISUAL_1_1_10_SATL-2KM-11N_624_3632.txt\n",
      "20240209_212744_SN29_QUICKVIEW_VISUAL_1_1_10_SATL-2KM-11N_380_3722.txt\n",
      "20240211_211057_SN30_QUICKVIEW_VISUAL_1_1_10_SATL-2KM-11N_700_3690.txt\n",
      "20240212_213506_SN31_QUICKVIEW_VISUAL_1_1_10_SATL-2KM-11N_408_3712.txt\n",
      "20240213_212524_SN29_QUICKVIEW_VISUAL_1_1_10_SATL-2KM-11N_544_3742.txt\n",
      "20240213_212524_SN29_QUICKVIEW_VISUAL_1_1_10_SATL-2KM-11N_542_3750.txt\n",
      "20240213_212524_SN29_QUICKVIEW_VISUAL_1_1_10_SATL-2KM-11N_540_3748.txt\n",
      "20240214_184340_SN24_QUICKVIEW_VISUAL_1_1_10_SATL-2KM-11N_688_3630.txt\n",
      "20240216_213630_SN31_QUICKVIEW_VISUAL_1_1_10_SATL-2KM-11N_418_3724.txt\n",
      "20240218_180121_SN33_QUICKVIEW_VISUAL_1_1_10_SATL-2KM-10N_568_4176.txt\n",
      "20240219_214312_SN28_QUICKVIEW_VISUAL_1_1_10_SATL-2KM-11N_252_3954.txt\n",
      "20240220_190455_SN27_QUICKVIEW_VISUAL_1_1_10_SATL-2KM-11N_718_3608.txt\n",
      "20240221_190608_SN26_QUICKVIEW_VISUAL_1_1_10_SATL-2KM-11N_380_3764.txt\n",
      "20240222_074151_SN26_QUICKVIEW_VISUAL_1_1_10_SATL-2KM-39N_560_2794.txt\n",
      "20240222_074151_SN26_QUICKVIEW_VISUAL_1_1_10_SATL-2KM-39N_560_2796.txt\n",
      "20240222_074151_SN26_QUICKVIEW_VISUAL_1_1_10_SATL-2KM-39N_558_2796.txt\n",
      "20240222_074151_SN26_QUICKVIEW_VISUAL_1_1_10_SATL-2KM-39N_556_2794.txt\n",
      "20240222_074151_SN26_QUICKVIEW_VISUAL_1_1_10_SATL-2KM-39N_562_2794.txt\n",
      "20240222_074155_SN26_QUICKVIEW_VISUAL_1_1_10_SATL-2KM-39N_562_2792.txt\n",
      "20240222_074155_SN26_QUICKVIEW_VISUAL_1_1_10_SATL-2KM-39N_562_2794.txt\n",
      "20240222_074155_SN26_QUICKVIEW_VISUAL_1_1_10_SATL-2KM-39N_556_2792.txt\n",
      "20240222_074155_SN26_QUICKVIEW_VISUAL_1_1_10_SATL-2KM-39N_556_2794.txt\n",
      "20240222_074155_SN26_QUICKVIEW_VISUAL_1_1_10_SATL-2KM-39N_560_2792.txt\n",
      "20240222_074155_SN26_QUICKVIEW_VISUAL_1_1_10_SATL-2KM-39N_558_2794.txt\n",
      "20240222_074256_SN26_QUICKVIEW_VISUAL_1_1_10_SATL-2KM-39N_564_2790.txt\n",
      "20240222_212250_SN30_QUICKVIEW_VISUAL_1_1_10_SATL-2KM-11N_382_3722.txt\n",
      "20240223_025420_SN24_QUICKVIEW_VISUAL_1_1_10_SATL-2KM-51N_686_4422.txt\n",
      "20240224_214855_SN30_QUICKVIEW_VISUAL_1_1_10_SATL-2KM-10N_554_4162.txt\n",
      "20240224_214855_SN30_QUICKVIEW_VISUAL_1_1_10_SATL-2KM-10N_552_4162.txt\n",
      "20240227_214218_SN30_QUICKVIEW_VISUAL_1_1_10_SATL-2KM-10N_562_4170.txt\n",
      "20240228_213951_SN29_QUICKVIEW_VISUAL_1_1_10_SATL-2KM-11N_248_4068.txt\n",
      "20240304_212824_SN30_QUICKVIEW_VISUAL_1_2_0_SATL-2KM-11N_378_3722.txt\n",
      "20240308_191212_SN27_QUICKVIEW_VISUAL_1_2_0_SATL-2KM-11N_506_3614.txt\n",
      "20240308_211248_SN29_QUICKVIEW_VISUAL_1_2_0_SATL-2KM-11N_718_3640.txt\n",
      "20240314_220020_SN30_QUICKVIEW_VISUAL_1_2_0_SATL-2KM-10N_550_4202.txt\n",
      "20240314_220020_SN30_QUICKVIEW_VISUAL_1_2_0_SATL-2KM-10N_544_4186.txt\n",
      "20240316_191451_SN26_QUICKVIEW_VISUAL_1_2_0_SATL-2KM-11N_380_3764.txt\n",
      "20240317_215115_SN28_QUICKVIEW_VISUAL_1_2_0_SATL-2KM-10N_552_4164.txt\n",
      "20240317_215115_SN28_QUICKVIEW_VISUAL_1_2_0_SATL-2KM-10N_554_4162.txt\n",
      "20240317_215115_SN28_QUICKVIEW_VISUAL_1_2_0_SATL-2KM-10N_552_4162.txt\n",
      "20240317_221229_SN31_QUICKVIEW_VISUAL_1_2_0_SATL-2KM-10N_556_4176.txt\n",
      "20240321_190819_SN27_QUICKVIEW_VISUAL_1_2_0_SATL-2KM-11N_714_3632.txt\n",
      "20240321_220846_SN31_QUICKVIEW_VISUAL_1_2_0_SATL-2KM-10N_560_4178.txt\n",
      "20240322_184801_SN24_QUICKVIEW_VISUAL_1_2_0_SATL-2KM-11N_500_3632.txt\n",
      "20240322_184801_SN24_QUICKVIEW_VISUAL_1_2_0_SATL-2KM-11N_502_3632.txt\n",
      "20240322_212516_SN28_QUICKVIEW_VISUAL_1_2_0_SATL-2KM-11N_502_3600.txt\n",
      "20240324_180232_SN33_QUICKVIEW_VISUAL_1_2_0_SATL-2KM-10N_554_4172.txt\n",
      "20240325_173936_SN33_QUICKVIEW_VISUAL_1_2_0_SATL-2KM-11N_378_3722.txt\n",
      "20240401_032415_SN27_QUICKVIEW_VISUAL_1_2_0_SATL-2KM-51N_688_4420.txt\n",
      "20240401_175918_SN33_QUICKVIEW_VISUAL_1_2_0_SATL-2KM-10N_542_4168.txt\n",
      "20240401_175918_SN33_QUICKVIEW_VISUAL_1_2_0_SATL-2KM-10N_546_4206.txt\n",
      "20240401_175925_SN33_QUICKVIEW_VISUAL_1_2_0_SATL-2KM-10N_542_4168.txt\n",
      "20240401_221819_SN31_QUICKVIEW_VISUAL_1_2_0_SATL-2KM-10N_602_4148.txt\n",
      "20240402_184757_SN24_QUICKVIEW_VISUAL_1_2_0_SATL-2KM-11N_488_3638.txt\n",
      "20240402_184757_SN24_QUICKVIEW_VISUAL_1_2_0_SATL-2KM-11N_486_3630.txt\n",
      "20240402_184757_SN24_QUICKVIEW_VISUAL_1_2_0_SATL-2KM-11N_490_3638.txt\n",
      "20240402_184757_SN24_QUICKVIEW_VISUAL_1_2_0_SATL-2KM-11N_486_3636.txt\n",
      "20240402_215421_SN31_QUICKVIEW_VISUAL_1_2_0_SATL-2KM-11N_500_3632.txt\n",
      "20240402_215427_SN31_QUICKVIEW_VISUAL_1_2_0_SATL-2KM-11N_502_3600.txt\n",
      "20240423_190101_SN26_QUICKVIEW_VISUAL_1_5_0_SATL-2KM-11N_418_3860.txt\n",
      "20240423_190101_SN26_QUICKVIEW_VISUAL_1_5_0_SATL-2KM-11N_414_3862.txt\n",
      "20240423_190101_SN26_QUICKVIEW_VISUAL_1_5_0_SATL-2KM-11N_418_3864.txt\n",
      "20240423_190101_SN26_QUICKVIEW_VISUAL_1_5_0_SATL-2KM-11N_416_3864.txt\n",
      "20240423_190101_SN26_QUICKVIEW_VISUAL_1_5_0_SATL-2KM-11N_418_3872.txt\n",
      "20240423_190101_SN26_QUICKVIEW_VISUAL_1_5_0_SATL-2KM-11N_416_3862.txt\n",
      "20240423_190101_SN26_QUICKVIEW_VISUAL_1_5_0_SATL-2KM-11N_418_3862.txt\n",
      "20240426_215224_SN29_QUICKVIEW_VISUAL_1_5_0_SATL-2KM-11N_244_3818.txt\n",
      "20240427_221308_SN31_QUICKVIEW_VISUAL_1_5_0_SATL-2KM-10N_722_3848.txt\n",
      "20240428_191026_SN24_QUICKVIEW_VISUAL_1_5_0_SATL-2KM-11N_380_3722.txt\n",
      "20240428_215426_SN43_QUICKVIEW_VISUAL_1_5_0_SATL-2KM-10N_630_4262.txt\n",
      "20240428_215426_SN43_QUICKVIEW_VISUAL_1_5_0_SATL-2KM-10N_630_4264.txt\n",
      "20240428_215426_SN43_QUICKVIEW_VISUAL_1_5_0_SATL-2KM-10N_634_4282.txt\n",
      "20240428_215557_SN43_QUICKVIEW_VISUAL_1_5_0_SATL-2KM-10N_726_3862.txt\n",
      "20240503_214759_SN28_QUICKVIEW_VISUAL_1_5_0_SATL-2KM-11N_376_3724.txt\n",
      "20240506_192008_SN26_QUICKVIEW_VISUAL_1_5_0_SATL-2KM-10N_562_4178.txt\n",
      "20240506_213507_SN43_QUICKVIEW_VISUAL_1_5_0_SATL-2KM-11N_384_3750.txt\n",
      "20240507_191326_SN27_QUICKVIEW_VISUAL_1_5_0_SATL-2KM-11N_718_3608.txt\n",
      "20240508_194502_SN27_QUICKVIEW_VISUAL_1_5_0_SATL-2KM-11N_262_4022.txt\n",
      "20240508_194502_SN27_QUICKVIEW_VISUAL_1_5_0_SATL-2KM-11N_264_4022.txt\n",
      "20240509_193206_SN26_QUICKVIEW_VISUAL_1_5_0_SATL-2KM-10N_562_4196.txt\n",
      "20240509_212336_SN29_QUICKVIEW_VISUAL_1_5_0_SATL-2KM-11N_706_3778.txt\n",
      "20240510_191908_SN27_QUICKVIEW_VISUAL_1_5_0_SATL-2KM-11N_718_3608.txt\n",
      "20240510_191914_SN27_QUICKVIEW_VISUAL_1_5_0_SATL-2KM-11N_712_3566.txt\n",
      "20240513_212022_SN29_QUICKVIEW_VISUAL_1_5_0_SATL-2KM-11N_630_3742.txt\n",
      "20240514_052716_SN43_QUICKVIEW_VISUAL_1_5_0_SATL-2KM-51N_730_4342.txt\n",
      "20240516_190328_SN24_QUICKVIEW_VISUAL_1_5_0_SATL-2KM-11N_262_4052.txt\n",
      "20240516_211630_SN28_QUICKVIEW_VISUAL_1_5_0_SATL-2KM-11N_716_3848.txt\n",
      "20240519_184534_SN24_QUICKVIEW_VISUAL_1_5_0_SATL-2KM-11N_658_3700.txt\n",
      "20240519_191838_SN27_QUICKVIEW_VISUAL_1_5_0_SATL-2KM-11N_718_3608.txt\n",
      "20240519_214917_SN31_QUICKVIEW_VISUAL_1_5_0_SATL-2KM-11N_500_3598.txt\n",
      "20240519_214917_SN31_QUICKVIEW_VISUAL_1_5_0_SATL-2KM-11N_500_3602.txt\n",
      "20240519_214917_SN31_QUICKVIEW_VISUAL_1_5_0_SATL-2KM-11N_500_3600.txt\n",
      "20240520_194539_SN27_QUICKVIEW_VISUAL_1_5_0_SATL-2KM-10N_638_4280.txt\n",
      "20240520_194539_SN27_QUICKVIEW_VISUAL_1_5_0_SATL-2KM-10N_638_4282.txt\n",
      "20240521_052621_SN43_QUICKVIEW_VISUAL_1_6_0_SATL-2KM-51N_730_4342.txt\n",
      "20240521_101252_SN43_QUICKVIEW_VISUAL_1_6_0_SATL-2KM-39N_556_2792.txt\n",
      "20240521_101252_SN43_QUICKVIEW_VISUAL_1_6_0_SATL-2KM-39N_558_2796.txt\n",
      "20240524_213504_SN29_QUICKVIEW_VISUAL_1_6_0_SATL-2KM-11N_378_3724.txt\n",
      "20240524_213504_SN29_QUICKVIEW_VISUAL_1_6_0_SATL-2KM-11N_380_3724.txt\n",
      "20240528_191448_SN24_QUICKVIEW_VISUAL_1_6_0_SATL-2KM-11N_248_4068.txt\n",
      "20240528_191604_SN24_QUICKVIEW_VISUAL_1_6_0_SATL-2KM-11N_344_3836.txt\n",
      "20240602_215203_SN30_QUICKVIEW_VISUAL_1_6_0_SATL-2KM-10N_712_3948.txt\n",
      "20240602_215203_SN30_QUICKVIEW_VISUAL_1_6_0_SATL-2KM-10N_714_3948.txt\n",
      "20240603_215226_SN28_QUICKVIEW_VISUAL_1_6_0_SATL-2KM-11N_248_4068.txt\n",
      "20240603_215348_SN28_QUICKVIEW_VISUAL_1_6_0_SATL-2KM-11N_346_3786.txt\n",
      "20240604_214955_SN29_QUICKVIEW_VISUAL_1_7_0_SATL-2KM-10N_594_4136.txt\n",
      "20240605_212717_SN29_QUICKVIEW_VISUAL_1_7_0_SATL-2KM-11N_718_3608.txt\n",
      "20240606_180251_SN33_QUICKVIEW_VISUAL_1_7_0_SATL-2KM-10N_556_4180.txt\n",
      "20240607_200250_SN27_QUICKVIEW_VISUAL_1_7_0_SATL-2KM-10N_554_4172.txt\n",
      "20240608_214614_SN29_QUICKVIEW_VISUAL_1_7_0_SATL-2KM-11N_248_4068.txt\n",
      "20240609_191744_SN24_QUICKVIEW_VISUAL_1_7_0_SATL-2KM-10N_564_4194.txt\n",
      "20240609_191959_SN27_QUICKVIEW_VISUAL_1_7_0_SATL-2KM-11N_702_3540.txt\n",
      "20240609_214259_SN30_QUICKVIEW_VISUAL_1_7_0_SATL-2KM-11N_262_4052.txt\n",
      "20240610_191018_SN26_QUICKVIEW_VISUAL_1_7_0_SATL-2KM-11N_384_3750.txt\n",
      "20240611_025943_SN26_QUICKVIEW_VISUAL_1_7_0_SATL-2KM-51N_748_4366.txt\n",
      "20240611_025943_SN26_QUICKVIEW_VISUAL_1_7_0_SATL-2KM-51N_748_4364.txt\n",
      "20240611_215323_SN30_QUICKVIEW_VISUAL_1_7_0_SATL-2KM-10N_702_3948.txt\n",
      "20240612_053829_SN28_QUICKVIEW_VISUAL_1_7_0_SATL-2KM-51N_686_4422.txt\n",
      "20240612_053829_SN28_QUICKVIEW_VISUAL_1_7_0_SATL-2KM-51N_688_4420.txt\n",
      "20240612_185400_SN24_QUICKVIEW_VISUAL_1_7_0_SATL-2KM-11N_574_3714.txt\n",
      "20240612_185400_SN24_QUICKVIEW_VISUAL_1_7_0_SATL-2KM-11N_578_3722.txt\n",
      "20240612_185400_SN24_QUICKVIEW_VISUAL_1_7_0_SATL-2KM-11N_576_3720.txt\n",
      "20240612_185419_SN24_QUICKVIEW_VISUAL_1_7_0_SATL-2KM-11N_554_3610.txt\n",
      "20240613_053340_SN29_QUICKVIEW_VISUAL_1_7_0_SATL-2KM-51N_730_4342.txt\n",
      "20240613_053340_SN29_QUICKVIEW_VISUAL_1_7_0_SATL-2KM-51N_728_4342.txt\n",
      "20240613_192217_SN26_QUICKVIEW_VISUAL_1_7_0_SATL-2KM-10N_560_4178.txt\n",
      "20240613_214203_SN43_QUICKVIEW_VISUAL_1_7_0_SATL-2KM-11N_384_3750.txt\n",
      "20240614_221436_SN31_QUICKVIEW_VISUAL_1_7_0_SATL-2KM-10N_558_4184.txt\n",
      "20240615_173631_SN33_QUICKVIEW_VISUAL_1_7_0_SATL-2KM-11N_546_3742.txt\n",
      "20240616_081345_SN27_QUICKVIEW_VISUAL_1_7_0_SATL-2KM-39N_560_2792.txt\n",
      "20240616_081345_SN27_QUICKVIEW_VISUAL_1_7_0_SATL-2KM-39N_562_2792.txt\n",
      "20240616_081345_SN27_QUICKVIEW_VISUAL_1_7_0_SATL-2KM-39N_560_2794.txt\n",
      "20240616_081345_SN27_QUICKVIEW_VISUAL_1_7_0_SATL-2KM-39N_562_2794.txt\n",
      "20240616_102144_SN28_QUICKVIEW_VISUAL_1_7_0_SATL-2KM-39N_556_2794.txt\n",
      "20240616_102144_SN28_QUICKVIEW_VISUAL_1_7_0_SATL-2KM-39N_560_2792.txt\n",
      "20240616_102144_SN28_QUICKVIEW_VISUAL_1_7_0_SATL-2KM-39N_558_2794.txt\n",
      "20240616_213047_SN30_QUICKVIEW_VISUAL_1_7_0_SATL-2KM-11N_466_3828.txt\n",
      "20240616_213047_SN30_QUICKVIEW_VISUAL_1_7_0_SATL-2KM-11N_464_3828.txt\n",
      "20240616_213047_SN30_QUICKVIEW_VISUAL_1_7_0_SATL-2KM-11N_466_3826.txt\n",
      "20240616_213047_SN30_QUICKVIEW_VISUAL_1_7_0_SATL-2KM-11N_464_3830.txt\n",
      "20240616_213053_SN30_QUICKVIEW_VISUAL_1_7_0_SATL-2KM-11N_460_3792.txt\n",
      "20240617_052859_SN29_QUICKVIEW_VISUAL_1_7_0_SATL-2KM-51N_730_4348.txt\n",
      "20240617_184443_SN24_QUICKVIEW_VISUAL_1_7_0_SATL-2KM-11N_702_3566.txt\n",
      "20240617_211350_SN29_QUICKVIEW_VISUAL_1_7_0_SATL-2KM-11N_724_3614.txt\n",
      "20240618_193146_SN27_QUICKVIEW_VISUAL_1_7_0_SATL-2KM-11N_530_3682.txt\n",
      "20240618_215539_SN31_QUICKVIEW_VISUAL_1_7_0_SATL-2KM-11N_452_3740.txt\n",
      "20240618_215539_SN31_QUICKVIEW_VISUAL_1_7_0_SATL-2KM-11N_458_3756.txt\n",
      "20240619_052401_SN30_QUICKVIEW_VISUAL_1_7_0_SATL-2KM-52N_368_4336.txt\n",
      "20240619_185757_SN24_QUICKVIEW_VISUAL_1_7_0_SATL-2KM-11N_528_3700.txt\n",
      "20240619_215556_SN29_QUICKVIEW_VISUAL_1_7_0_SATL-2KM-10N_742_4460.txt\n",
      "20240623_193704_SN27_QUICKVIEW_VISUAL_1_7_0_SATL-2KM-11N_566_3734.txt\n",
      "20240623_215102_SN43_QUICKVIEW_VISUAL_1_7_0_SATL-2KM-11N_384_3750.txt\n",
      "20240623_215120_SN29_QUICKVIEW_VISUAL_1_7_0_SATL-2KM-10N_596_4134.txt\n"
     ]
    }
   ],
   "source": [
    "for i in indices:\n",
    "    print(ann_datetime[i][0])"
   ]
  },
  {
   "cell_type": "markdown",
   "id": "012aeb1b",
   "metadata": {
    "slideshow": {
     "slide_type": "slide"
    }
   },
   "source": [
    "### Exercise\n",
    "\n",
    "\n",
    "Reusing the same annotations we work with in the previous session, answer the following items using the libraries we saw today: \n",
    "\n",
    "1. How many annotations you have per month and year. Which month has more annotation files.\n",
    "2. Create a dictionary where each **key** is a month, and the corresponding **value** is a list containing all the annotation names with where their date corresponds to the month. \n",
    "    a. Save it following the json format, and load it again to check that everything is ok.\n",
    "    b. Save it this time using Pickle.\n",
    "    c. Instead of storing a list of all the annotation names happening that month, let's create for each annotation a dictionary with keys: name and date (using a datetime object).\n",
    "3. Print all the annotations from the oldest ones to the newest one during the seconf half of the 2024. "
   ]
  },
  {
   "cell_type": "code",
   "execution_count": 69,
   "id": "75cc9a6b",
   "metadata": {},
   "outputs": [
    {
     "name": "stdout",
     "output_type": "stream",
     "text": [
      "In the month 2024-01 we have: 27 annotations\n",
      "In the month 2024-02 we have: 45 annotations\n",
      "In the month 2024-03 we have: 17 annotations\n",
      "In the month 2024-04 we have: 25 annotations\n",
      "In the month 2024-05 we have: 28 annotations\n",
      "In the month 2024-06 we have: 52 annotations\n",
      "The month with  more annotation files is month 2024-06 where we have: 52 annotations\n"
     ]
    }
   ],
   "source": [
    "#1. How many of annotations you have per month and year. Which month has more annotation files.\n",
    "import re\n",
    "import glob\n",
    "import os\n",
    "from datetime import datetime #already imported in the doc but i added them for structure purposes\n",
    "\n",
    "pattern = r'(\\d{8})_(\\d{6})_SN(\\d+)_QUICKVIEW_VISUAL_([\\d_]+)_([A-Za-z0-9\\-_.]+)\\.txt' \n",
    "annotations = glob.glob('session_4/annotations/*.txt')\n",
    "\n",
    "mcounts= {}\n",
    "\n",
    "for annotation in annotations:\n",
    "    filename = os.path.basename(annotation)\n",
    "    match= re.match(pattern, filename)\n",
    "\n",
    "    if match: \n",
    "        date, time, _, _, _ = match.groups()\n",
    "        datetime_str = date + time \n",
    "        datetime_obj = datetime.strptime(datetime_str, \"%Y%m%d%H%M%S\")\n",
    "    \n",
    "\n",
    "        year_month = datetime_obj.strftime(\"%Y-%m\")\n",
    "\n",
    "        if year_month in mcounts:\n",
    "            mcounts[year_month] += 1\n",
    "        else:\n",
    "            mcounts[year_month] = 1\n",
    "\n",
    "#annotations per month and year             \n",
    "for date, count in sorted(mcounts.items()):\n",
    "    print( f'In the month {date} we have: {count} annotations')\n",
    "\n",
    "#month with more annotation files \n",
    "\n",
    "max_month= max(mcounts)\n",
    "print(f'The month with  more annotation files is month {max_month} where we have: {mcounts[max_month]} annotations')\n",
    "\n",
    "\n",
    "\n",
    "\n",
    "\n",
    "\n",
    "        \n",
    "        \n",
    "\n"
   ]
  },
  {
   "cell_type": "code",
   "execution_count": 70,
   "id": "fa540552",
   "metadata": {},
   "outputs": [
    {
     "name": "stdout",
     "output_type": "stream",
     "text": [
      "JSON: {'2024-01': ['20240102_185527_SN27_QUICKVIEW_VISUAL_1_1_10_SATL-2KM-11N_740_3850.txt', '20240101_174301_SN33_QUICKVIEW_VISUAL_1_1_10_SATL-2KM-11N_404_3770.txt', '20240101_192856_SN24_QUICKVIEW_VISUAL_1_1_10_SATL-2KM-10N_552_4164.txt', '20240102_185954_SN24_QUICKVIEW_VISUAL_1_1_10_SATL-2KM-11N_414_3786.txt', '20240104_220339_SN31_QUICKVIEW_VISUAL_1_1_10_SATL-2KM-10N_556_4178.txt', '20240115_213834_SN28_QUICKVIEW_VISUAL_1_1_10_SATL-2KM-11N_376_3722.txt', '20240126_173752_SN33_QUICKVIEW_VISUAL_1_1_10_SATL-2KM-11N_386_3722.txt', '20240101_174301_SN33_QUICKVIEW_VISUAL_1_1_10_SATL-2KM-11N_404_3772.txt', '20240130_173903_SN33_QUICKVIEW_VISUAL_1_1_10_SATL-2KM-11N_366_3756.txt', '20240127_190620_SN27_QUICKVIEW_VISUAL_1_1_10_SATL-2KM-11N_500_3600.txt', '20240101_192856_SN24_QUICKVIEW_VISUAL_1_1_10_SATL-2KM-10N_552_4162.txt', '20240127_190620_SN27_QUICKVIEW_VISUAL_1_1_10_SATL-2KM-11N_500_3602.txt', '20240101_192856_SN24_QUICKVIEW_VISUAL_1_1_10_SATL-2KM-10N_554_4162.txt', '20240101_213601_SN31_QUICKVIEW_VISUAL_1_1_10_SATL-2KM-11N_392_3740.txt', '20240101_213601_SN31_QUICKVIEW_VISUAL_1_1_10_SATL-2KM-11N_392_3742.txt', '20240128_213258_SN29_QUICKVIEW_VISUAL_1_1_10_SATL-2KM-11N_418_3864.txt', '20240128_213258_SN29_QUICKVIEW_VISUAL_1_1_10_SATL-2KM-11N_418_3862.txt', '20240130_215036_SN31_QUICKVIEW_VISUAL_1_1_10_SATL-2KM-11N_366_3756.txt', '20240127_190620_SN27_QUICKVIEW_VISUAL_1_1_10_SATL-2KM-11N_502_3602.txt', '20240127_190620_SN27_QUICKVIEW_VISUAL_1_1_10_SATL-2KM-11N_502_3600.txt', '20240130_173903_SN33_QUICKVIEW_VISUAL_1_1_10_SATL-2KM-11N_360_3748.txt', '20240130_173903_SN33_QUICKVIEW_VISUAL_1_1_10_SATL-2KM-11N_364_3754.txt', '20240101_213601_SN31_QUICKVIEW_VISUAL_1_1_10_SATL-2KM-11N_396_3752.txt', '20240112_192510_SN27_QUICKVIEW_VISUAL_1_1_10_SATL-2KM-11N_386_3750.txt', '20240115_213834_SN28_QUICKVIEW_VISUAL_1_1_10_SATL-2KM-11N_380_3724.txt', '20240110_192002_SN27_QUICKVIEW_VISUAL_1_1_10_SATL-2KM-11N_380_3728.txt', '20240102_185605_SN27_QUICKVIEW_VISUAL_1_1_10_SATL-2KM-11N_690_3572.txt'], '2024-06': ['20240623_193704_SN27_QUICKVIEW_VISUAL_1_7_0_SATL-2KM-11N_566_3734.txt', '20240603_215226_SN28_QUICKVIEW_VISUAL_1_6_0_SATL-2KM-11N_248_4068.txt', '20240603_215348_SN28_QUICKVIEW_VISUAL_1_6_0_SATL-2KM-11N_346_3786.txt', '20240616_213053_SN30_QUICKVIEW_VISUAL_1_7_0_SATL-2KM-11N_460_3792.txt', '20240611_025943_SN26_QUICKVIEW_VISUAL_1_7_0_SATL-2KM-51N_748_4366.txt', '20240612_185400_SN24_QUICKVIEW_VISUAL_1_7_0_SATL-2KM-11N_574_3714.txt', '20240619_185757_SN24_QUICKVIEW_VISUAL_1_7_0_SATL-2KM-11N_528_3700.txt', '20240619_052401_SN30_QUICKVIEW_VISUAL_1_7_0_SATL-2KM-52N_368_4336.txt', '20240616_213047_SN30_QUICKVIEW_VISUAL_1_7_0_SATL-2KM-11N_464_3830.txt', '20240616_102144_SN28_QUICKVIEW_VISUAL_1_7_0_SATL-2KM-39N_560_2792.txt', '20240617_052859_SN29_QUICKVIEW_VISUAL_1_7_0_SATL-2KM-51N_730_4348.txt', '20240608_214614_SN29_QUICKVIEW_VISUAL_1_7_0_SATL-2KM-11N_248_4068.txt', '20240617_211350_SN29_QUICKVIEW_VISUAL_1_7_0_SATL-2KM-11N_724_3614.txt', '20240606_180251_SN33_QUICKVIEW_VISUAL_1_7_0_SATL-2KM-10N_556_4180.txt', '20240613_214203_SN43_QUICKVIEW_VISUAL_1_7_0_SATL-2KM-11N_384_3750.txt', '20240611_025943_SN26_QUICKVIEW_VISUAL_1_7_0_SATL-2KM-51N_748_4364.txt', '20240616_081345_SN27_QUICKVIEW_VISUAL_1_7_0_SATL-2KM-39N_562_2794.txt', '20240609_214259_SN30_QUICKVIEW_VISUAL_1_7_0_SATL-2KM-11N_262_4052.txt', '20240604_214955_SN29_QUICKVIEW_VISUAL_1_7_0_SATL-2KM-10N_594_4136.txt', '20240613_192217_SN26_QUICKVIEW_VISUAL_1_7_0_SATL-2KM-10N_560_4178.txt', '20240615_173631_SN33_QUICKVIEW_VISUAL_1_7_0_SATL-2KM-11N_546_3742.txt', '20240623_215120_SN29_QUICKVIEW_VISUAL_1_7_0_SATL-2KM-10N_596_4134.txt', '20240612_185400_SN24_QUICKVIEW_VISUAL_1_7_0_SATL-2KM-11N_576_3720.txt', '20240612_053829_SN28_QUICKVIEW_VISUAL_1_7_0_SATL-2KM-51N_686_4422.txt', '20240616_102144_SN28_QUICKVIEW_VISUAL_1_7_0_SATL-2KM-39N_558_2794.txt', '20240616_081345_SN27_QUICKVIEW_VISUAL_1_7_0_SATL-2KM-39N_562_2792.txt', '20240616_213047_SN30_QUICKVIEW_VISUAL_1_7_0_SATL-2KM-11N_466_3828.txt', '20240619_215556_SN29_QUICKVIEW_VISUAL_1_7_0_SATL-2KM-10N_742_4460.txt', '20240611_215323_SN30_QUICKVIEW_VISUAL_1_7_0_SATL-2KM-10N_702_3948.txt', '20240613_053340_SN29_QUICKVIEW_VISUAL_1_7_0_SATL-2KM-51N_728_4342.txt', '20240612_185419_SN24_QUICKVIEW_VISUAL_1_7_0_SATL-2KM-11N_554_3610.txt', '20240612_053829_SN28_QUICKVIEW_VISUAL_1_7_0_SATL-2KM-51N_688_4420.txt', '20240616_213047_SN30_QUICKVIEW_VISUAL_1_7_0_SATL-2KM-11N_466_3826.txt', '20240612_185400_SN24_QUICKVIEW_VISUAL_1_7_0_SATL-2KM-11N_578_3722.txt', '20240610_191018_SN26_QUICKVIEW_VISUAL_1_7_0_SATL-2KM-11N_384_3750.txt', '20240613_053340_SN29_QUICKVIEW_VISUAL_1_7_0_SATL-2KM-51N_730_4342.txt', '20240616_102144_SN28_QUICKVIEW_VISUAL_1_7_0_SATL-2KM-39N_556_2794.txt', '20240618_215539_SN31_QUICKVIEW_VISUAL_1_7_0_SATL-2KM-11N_452_3740.txt', '20240623_215102_SN43_QUICKVIEW_VISUAL_1_7_0_SATL-2KM-11N_384_3750.txt', '20240607_200250_SN27_QUICKVIEW_VISUAL_1_7_0_SATL-2KM-10N_554_4172.txt', '20240618_215539_SN31_QUICKVIEW_VISUAL_1_7_0_SATL-2KM-11N_458_3756.txt', '20240602_215203_SN30_QUICKVIEW_VISUAL_1_6_0_SATL-2KM-10N_714_3948.txt', '20240617_184443_SN24_QUICKVIEW_VISUAL_1_7_0_SATL-2KM-11N_702_3566.txt', '20240602_215203_SN30_QUICKVIEW_VISUAL_1_6_0_SATL-2KM-10N_712_3948.txt', '20240616_081345_SN27_QUICKVIEW_VISUAL_1_7_0_SATL-2KM-39N_560_2792.txt', '20240616_213047_SN30_QUICKVIEW_VISUAL_1_7_0_SATL-2KM-11N_464_3828.txt', '20240618_193146_SN27_QUICKVIEW_VISUAL_1_7_0_SATL-2KM-11N_530_3682.txt', '20240614_221436_SN31_QUICKVIEW_VISUAL_1_7_0_SATL-2KM-10N_558_4184.txt', '20240605_212717_SN29_QUICKVIEW_VISUAL_1_7_0_SATL-2KM-11N_718_3608.txt', '20240609_191744_SN24_QUICKVIEW_VISUAL_1_7_0_SATL-2KM-10N_564_4194.txt', '20240616_081345_SN27_QUICKVIEW_VISUAL_1_7_0_SATL-2KM-39N_560_2794.txt', '20240609_191959_SN27_QUICKVIEW_VISUAL_1_7_0_SATL-2KM-11N_702_3540.txt'], '2024-04': ['20240402_184757_SN24_QUICKVIEW_VISUAL_1_2_0_SATL-2KM-11N_488_3638.txt', '20240423_190101_SN26_QUICKVIEW_VISUAL_1_5_0_SATL-2KM-11N_418_3872.txt', '20240402_184757_SN24_QUICKVIEW_VISUAL_1_2_0_SATL-2KM-11N_486_3630.txt', '20240423_190101_SN26_QUICKVIEW_VISUAL_1_5_0_SATL-2KM-11N_418_3864.txt', '20240401_221819_SN31_QUICKVIEW_VISUAL_1_2_0_SATL-2KM-10N_602_4148.txt', '20240423_190101_SN26_QUICKVIEW_VISUAL_1_5_0_SATL-2KM-11N_418_3860.txt', '20240402_184757_SN24_QUICKVIEW_VISUAL_1_2_0_SATL-2KM-11N_486_3636.txt', '20240423_190101_SN26_QUICKVIEW_VISUAL_1_5_0_SATL-2KM-11N_418_3862.txt', '20240428_215426_SN43_QUICKVIEW_VISUAL_1_5_0_SATL-2KM-10N_630_4264.txt', '20240427_221308_SN31_QUICKVIEW_VISUAL_1_5_0_SATL-2KM-10N_722_3848.txt', '20240423_190101_SN26_QUICKVIEW_VISUAL_1_5_0_SATL-2KM-11N_414_3862.txt', '20240401_032415_SN27_QUICKVIEW_VISUAL_1_2_0_SATL-2KM-51N_688_4420.txt', '20240428_215426_SN43_QUICKVIEW_VISUAL_1_5_0_SATL-2KM-10N_630_4262.txt', '20240428_215426_SN43_QUICKVIEW_VISUAL_1_5_0_SATL-2KM-10N_634_4282.txt', '20240401_175918_SN33_QUICKVIEW_VISUAL_1_2_0_SATL-2KM-10N_542_4168.txt', '20240426_215224_SN29_QUICKVIEW_VISUAL_1_5_0_SATL-2KM-11N_244_3818.txt', '20240401_175918_SN33_QUICKVIEW_VISUAL_1_2_0_SATL-2KM-10N_546_4206.txt', '20240402_215427_SN31_QUICKVIEW_VISUAL_1_2_0_SATL-2KM-11N_502_3600.txt', '20240428_215557_SN43_QUICKVIEW_VISUAL_1_5_0_SATL-2KM-10N_726_3862.txt', '20240423_190101_SN26_QUICKVIEW_VISUAL_1_5_0_SATL-2KM-11N_416_3864.txt', '20240402_184757_SN24_QUICKVIEW_VISUAL_1_2_0_SATL-2KM-11N_490_3638.txt', '20240428_191026_SN24_QUICKVIEW_VISUAL_1_5_0_SATL-2KM-11N_380_3722.txt', '20240401_175925_SN33_QUICKVIEW_VISUAL_1_2_0_SATL-2KM-10N_542_4168.txt', '20240402_215421_SN31_QUICKVIEW_VISUAL_1_2_0_SATL-2KM-11N_500_3632.txt', '20240423_190101_SN26_QUICKVIEW_VISUAL_1_5_0_SATL-2KM-11N_416_3862.txt'], '2024-02': ['20240201_075140_SN26_QUICKVIEW_VISUAL_1_1_10_SATL-2KM-39N_558_2794.txt', '20240222_074151_SN26_QUICKVIEW_VISUAL_1_1_10_SATL-2KM-39N_560_2794.txt', '20240218_180121_SN33_QUICKVIEW_VISUAL_1_1_10_SATL-2KM-10N_568_4176.txt', '20240213_212524_SN29_QUICKVIEW_VISUAL_1_1_10_SATL-2KM-11N_542_3750.txt', '20240222_074155_SN26_QUICKVIEW_VISUAL_1_1_10_SATL-2KM-39N_556_2794.txt', '20240222_074155_SN26_QUICKVIEW_VISUAL_1_1_10_SATL-2KM-39N_562_2794.txt', '20240222_074151_SN26_QUICKVIEW_VISUAL_1_1_10_SATL-2KM-39N_560_2796.txt', '20240220_190455_SN27_QUICKVIEW_VISUAL_1_1_10_SATL-2KM-11N_718_3608.txt', '20240203_173953_SN33_QUICKVIEW_VISUAL_1_1_10_SATL-2KM-11N_368_3756.txt', '20240222_074256_SN26_QUICKVIEW_VISUAL_1_1_10_SATL-2KM-39N_564_2790.txt', '20240222_074155_SN26_QUICKVIEW_VISUAL_1_1_10_SATL-2KM-39N_556_2792.txt', '20240201_075143_SN26_QUICKVIEW_VISUAL_1_1_10_SATL-2KM-39N_556_2792.txt', '20240223_025420_SN24_QUICKVIEW_VISUAL_1_1_10_SATL-2KM-51N_686_4422.txt', '20240228_213951_SN29_QUICKVIEW_VISUAL_1_1_10_SATL-2KM-11N_248_4068.txt', '20240222_074155_SN26_QUICKVIEW_VISUAL_1_1_10_SATL-2KM-39N_562_2792.txt', '20240201_075140_SN26_QUICKVIEW_VISUAL_1_1_10_SATL-2KM-39N_560_2792.txt', '20240213_212524_SN29_QUICKVIEW_VISUAL_1_1_10_SATL-2KM-11N_544_3742.txt', '20240213_212524_SN29_QUICKVIEW_VISUAL_1_1_10_SATL-2KM-11N_540_3748.txt', '20240219_214312_SN28_QUICKVIEW_VISUAL_1_1_10_SATL-2KM-11N_252_3954.txt', '20240201_075140_SN26_QUICKVIEW_VISUAL_1_1_10_SATL-2KM-39N_560_2794.txt', '20240216_213630_SN31_QUICKVIEW_VISUAL_1_1_10_SATL-2KM-11N_418_3724.txt', '20240222_074151_SN26_QUICKVIEW_VISUAL_1_1_10_SATL-2KM-39N_558_2796.txt', '20240201_075140_SN26_QUICKVIEW_VISUAL_1_1_10_SATL-2KM-39N_560_2796.txt', '20240208_184650_SN24_QUICKVIEW_VISUAL_1_1_10_SATL-2KM-11N_624_3632.txt', '20240214_184340_SN24_QUICKVIEW_VISUAL_1_1_10_SATL-2KM-11N_688_3630.txt', '20240212_213506_SN31_QUICKVIEW_VISUAL_1_1_10_SATL-2KM-11N_408_3712.txt', '20240222_074155_SN26_QUICKVIEW_VISUAL_1_1_10_SATL-2KM-39N_560_2792.txt', '20240222_212250_SN30_QUICKVIEW_VISUAL_1_1_10_SATL-2KM-11N_382_3722.txt', '20240221_190608_SN26_QUICKVIEW_VISUAL_1_1_10_SATL-2KM-11N_380_3764.txt', '20240209_212744_SN29_QUICKVIEW_VISUAL_1_1_10_SATL-2KM-11N_380_3722.txt', '20240222_074151_SN26_QUICKVIEW_VISUAL_1_1_10_SATL-2KM-39N_556_2794.txt', '20240202_191114_SN27_QUICKVIEW_VISUAL_1_1_10_SATL-2KM-11N_718_3608.txt', '20240202_184725_SN24_QUICKVIEW_VISUAL_1_1_10_SATL-2KM-11N_624_3630.txt', '20240222_074151_SN26_QUICKVIEW_VISUAL_1_1_10_SATL-2KM-39N_562_2794.txt', '20240224_214855_SN30_QUICKVIEW_VISUAL_1_1_10_SATL-2KM-10N_552_4162.txt', '20240227_214218_SN30_QUICKVIEW_VISUAL_1_1_10_SATL-2KM-10N_562_4170.txt', '20240201_075140_SN26_QUICKVIEW_VISUAL_1_1_10_SATL-2KM-39N_556_2794.txt', '20240222_074155_SN26_QUICKVIEW_VISUAL_1_1_10_SATL-2KM-39N_558_2794.txt', '20240211_211057_SN30_QUICKVIEW_VISUAL_1_1_10_SATL-2KM-11N_700_3690.txt', '20240201_075140_SN26_QUICKVIEW_VISUAL_1_1_10_SATL-2KM-39N_562_2794.txt', '20240201_075143_SN26_QUICKVIEW_VISUAL_1_1_10_SATL-2KM-39N_562_2788.txt', '20240224_214855_SN30_QUICKVIEW_VISUAL_1_1_10_SATL-2KM-10N_554_4162.txt', '20240203_173953_SN33_QUICKVIEW_VISUAL_1_1_10_SATL-2KM-11N_366_3756.txt', '20240201_075140_SN26_QUICKVIEW_VISUAL_1_1_10_SATL-2KM-39N_556_2792.txt', '20240201_075140_SN26_QUICKVIEW_VISUAL_1_1_10_SATL-2KM-39N_562_2792.txt'], '2024-03': ['20240322_212516_SN28_QUICKVIEW_VISUAL_1_2_0_SATL-2KM-11N_502_3600.txt', '20240317_221229_SN31_QUICKVIEW_VISUAL_1_2_0_SATL-2KM-10N_556_4176.txt', '20240316_191451_SN26_QUICKVIEW_VISUAL_1_2_0_SATL-2KM-11N_380_3764.txt', '20240324_180232_SN33_QUICKVIEW_VISUAL_1_2_0_SATL-2KM-10N_554_4172.txt', '20240317_215115_SN28_QUICKVIEW_VISUAL_1_2_0_SATL-2KM-10N_554_4162.txt', '20240325_173936_SN33_QUICKVIEW_VISUAL_1_2_0_SATL-2KM-11N_378_3722.txt', '20240304_212824_SN30_QUICKVIEW_VISUAL_1_2_0_SATL-2KM-11N_378_3722.txt', '20240314_220020_SN30_QUICKVIEW_VISUAL_1_2_0_SATL-2KM-10N_544_4186.txt', '20240322_184801_SN24_QUICKVIEW_VISUAL_1_2_0_SATL-2KM-11N_500_3632.txt', '20240308_211248_SN29_QUICKVIEW_VISUAL_1_2_0_SATL-2KM-11N_718_3640.txt', '20240317_215115_SN28_QUICKVIEW_VISUAL_1_2_0_SATL-2KM-10N_552_4162.txt', '20240314_220020_SN30_QUICKVIEW_VISUAL_1_2_0_SATL-2KM-10N_550_4202.txt', '20240317_215115_SN28_QUICKVIEW_VISUAL_1_2_0_SATL-2KM-10N_552_4164.txt', '20240308_191212_SN27_QUICKVIEW_VISUAL_1_2_0_SATL-2KM-11N_506_3614.txt', '20240321_220846_SN31_QUICKVIEW_VISUAL_1_2_0_SATL-2KM-10N_560_4178.txt', '20240322_184801_SN24_QUICKVIEW_VISUAL_1_2_0_SATL-2KM-11N_502_3632.txt', '20240321_190819_SN27_QUICKVIEW_VISUAL_1_2_0_SATL-2KM-11N_714_3632.txt'], '2024-05': ['20240506_192008_SN26_QUICKVIEW_VISUAL_1_5_0_SATL-2KM-10N_562_4178.txt', '20240521_052621_SN43_QUICKVIEW_VISUAL_1_6_0_SATL-2KM-51N_730_4342.txt', '20240508_194502_SN27_QUICKVIEW_VISUAL_1_5_0_SATL-2KM-11N_264_4022.txt', '20240519_191838_SN27_QUICKVIEW_VISUAL_1_5_0_SATL-2KM-11N_718_3608.txt', '20240528_191448_SN24_QUICKVIEW_VISUAL_1_6_0_SATL-2KM-11N_248_4068.txt', '20240509_193206_SN26_QUICKVIEW_VISUAL_1_5_0_SATL-2KM-10N_562_4196.txt', '20240516_211630_SN28_QUICKVIEW_VISUAL_1_5_0_SATL-2KM-11N_716_3848.txt', '20240514_052716_SN43_QUICKVIEW_VISUAL_1_5_0_SATL-2KM-51N_730_4342.txt', '20240503_214759_SN28_QUICKVIEW_VISUAL_1_5_0_SATL-2KM-11N_376_3724.txt', '20240519_184534_SN24_QUICKVIEW_VISUAL_1_5_0_SATL-2KM-11N_658_3700.txt', '20240521_101252_SN43_QUICKVIEW_VISUAL_1_6_0_SATL-2KM-39N_556_2792.txt', '20240510_191914_SN27_QUICKVIEW_VISUAL_1_5_0_SATL-2KM-11N_712_3566.txt', '20240528_191604_SN24_QUICKVIEW_VISUAL_1_6_0_SATL-2KM-11N_344_3836.txt', '20240509_212336_SN29_QUICKVIEW_VISUAL_1_5_0_SATL-2KM-11N_706_3778.txt', '20240508_194502_SN27_QUICKVIEW_VISUAL_1_5_0_SATL-2KM-11N_262_4022.txt', '20240519_214917_SN31_QUICKVIEW_VISUAL_1_5_0_SATL-2KM-11N_500_3600.txt', '20240513_212022_SN29_QUICKVIEW_VISUAL_1_5_0_SATL-2KM-11N_630_3742.txt', '20240516_190328_SN24_QUICKVIEW_VISUAL_1_5_0_SATL-2KM-11N_262_4052.txt', '20240519_214917_SN31_QUICKVIEW_VISUAL_1_5_0_SATL-2KM-11N_500_3602.txt', '20240521_101252_SN43_QUICKVIEW_VISUAL_1_6_0_SATL-2KM-39N_558_2796.txt', '20240510_191908_SN27_QUICKVIEW_VISUAL_1_5_0_SATL-2KM-11N_718_3608.txt', '20240519_214917_SN31_QUICKVIEW_VISUAL_1_5_0_SATL-2KM-11N_500_3598.txt', '20240524_213504_SN29_QUICKVIEW_VISUAL_1_6_0_SATL-2KM-11N_380_3724.txt', '20240506_213507_SN43_QUICKVIEW_VISUAL_1_5_0_SATL-2KM-11N_384_3750.txt', '20240520_194539_SN27_QUICKVIEW_VISUAL_1_5_0_SATL-2KM-10N_638_4280.txt', '20240520_194539_SN27_QUICKVIEW_VISUAL_1_5_0_SATL-2KM-10N_638_4282.txt', '20240524_213504_SN29_QUICKVIEW_VISUAL_1_6_0_SATL-2KM-11N_378_3724.txt', '20240507_191326_SN27_QUICKVIEW_VISUAL_1_5_0_SATL-2KM-11N_718_3608.txt']}\n",
      "Pickle: {'2024-01': ['20240102_185527_SN27_QUICKVIEW_VISUAL_1_1_10_SATL-2KM-11N_740_3850.txt', '20240101_174301_SN33_QUICKVIEW_VISUAL_1_1_10_SATL-2KM-11N_404_3770.txt', '20240101_192856_SN24_QUICKVIEW_VISUAL_1_1_10_SATL-2KM-10N_552_4164.txt', '20240102_185954_SN24_QUICKVIEW_VISUAL_1_1_10_SATL-2KM-11N_414_3786.txt', '20240104_220339_SN31_QUICKVIEW_VISUAL_1_1_10_SATL-2KM-10N_556_4178.txt', '20240115_213834_SN28_QUICKVIEW_VISUAL_1_1_10_SATL-2KM-11N_376_3722.txt', '20240126_173752_SN33_QUICKVIEW_VISUAL_1_1_10_SATL-2KM-11N_386_3722.txt', '20240101_174301_SN33_QUICKVIEW_VISUAL_1_1_10_SATL-2KM-11N_404_3772.txt', '20240130_173903_SN33_QUICKVIEW_VISUAL_1_1_10_SATL-2KM-11N_366_3756.txt', '20240127_190620_SN27_QUICKVIEW_VISUAL_1_1_10_SATL-2KM-11N_500_3600.txt', '20240101_192856_SN24_QUICKVIEW_VISUAL_1_1_10_SATL-2KM-10N_552_4162.txt', '20240127_190620_SN27_QUICKVIEW_VISUAL_1_1_10_SATL-2KM-11N_500_3602.txt', '20240101_192856_SN24_QUICKVIEW_VISUAL_1_1_10_SATL-2KM-10N_554_4162.txt', '20240101_213601_SN31_QUICKVIEW_VISUAL_1_1_10_SATL-2KM-11N_392_3740.txt', '20240101_213601_SN31_QUICKVIEW_VISUAL_1_1_10_SATL-2KM-11N_392_3742.txt', '20240128_213258_SN29_QUICKVIEW_VISUAL_1_1_10_SATL-2KM-11N_418_3864.txt', '20240128_213258_SN29_QUICKVIEW_VISUAL_1_1_10_SATL-2KM-11N_418_3862.txt', '20240130_215036_SN31_QUICKVIEW_VISUAL_1_1_10_SATL-2KM-11N_366_3756.txt', '20240127_190620_SN27_QUICKVIEW_VISUAL_1_1_10_SATL-2KM-11N_502_3602.txt', '20240127_190620_SN27_QUICKVIEW_VISUAL_1_1_10_SATL-2KM-11N_502_3600.txt', '20240130_173903_SN33_QUICKVIEW_VISUAL_1_1_10_SATL-2KM-11N_360_3748.txt', '20240130_173903_SN33_QUICKVIEW_VISUAL_1_1_10_SATL-2KM-11N_364_3754.txt', '20240101_213601_SN31_QUICKVIEW_VISUAL_1_1_10_SATL-2KM-11N_396_3752.txt', '20240112_192510_SN27_QUICKVIEW_VISUAL_1_1_10_SATL-2KM-11N_386_3750.txt', '20240115_213834_SN28_QUICKVIEW_VISUAL_1_1_10_SATL-2KM-11N_380_3724.txt', '20240110_192002_SN27_QUICKVIEW_VISUAL_1_1_10_SATL-2KM-11N_380_3728.txt', '20240102_185605_SN27_QUICKVIEW_VISUAL_1_1_10_SATL-2KM-11N_690_3572.txt'], '2024-06': ['20240623_193704_SN27_QUICKVIEW_VISUAL_1_7_0_SATL-2KM-11N_566_3734.txt', '20240603_215226_SN28_QUICKVIEW_VISUAL_1_6_0_SATL-2KM-11N_248_4068.txt', '20240603_215348_SN28_QUICKVIEW_VISUAL_1_6_0_SATL-2KM-11N_346_3786.txt', '20240616_213053_SN30_QUICKVIEW_VISUAL_1_7_0_SATL-2KM-11N_460_3792.txt', '20240611_025943_SN26_QUICKVIEW_VISUAL_1_7_0_SATL-2KM-51N_748_4366.txt', '20240612_185400_SN24_QUICKVIEW_VISUAL_1_7_0_SATL-2KM-11N_574_3714.txt', '20240619_185757_SN24_QUICKVIEW_VISUAL_1_7_0_SATL-2KM-11N_528_3700.txt', '20240619_052401_SN30_QUICKVIEW_VISUAL_1_7_0_SATL-2KM-52N_368_4336.txt', '20240616_213047_SN30_QUICKVIEW_VISUAL_1_7_0_SATL-2KM-11N_464_3830.txt', '20240616_102144_SN28_QUICKVIEW_VISUAL_1_7_0_SATL-2KM-39N_560_2792.txt', '20240617_052859_SN29_QUICKVIEW_VISUAL_1_7_0_SATL-2KM-51N_730_4348.txt', '20240608_214614_SN29_QUICKVIEW_VISUAL_1_7_0_SATL-2KM-11N_248_4068.txt', '20240617_211350_SN29_QUICKVIEW_VISUAL_1_7_0_SATL-2KM-11N_724_3614.txt', '20240606_180251_SN33_QUICKVIEW_VISUAL_1_7_0_SATL-2KM-10N_556_4180.txt', '20240613_214203_SN43_QUICKVIEW_VISUAL_1_7_0_SATL-2KM-11N_384_3750.txt', '20240611_025943_SN26_QUICKVIEW_VISUAL_1_7_0_SATL-2KM-51N_748_4364.txt', '20240616_081345_SN27_QUICKVIEW_VISUAL_1_7_0_SATL-2KM-39N_562_2794.txt', '20240609_214259_SN30_QUICKVIEW_VISUAL_1_7_0_SATL-2KM-11N_262_4052.txt', '20240604_214955_SN29_QUICKVIEW_VISUAL_1_7_0_SATL-2KM-10N_594_4136.txt', '20240613_192217_SN26_QUICKVIEW_VISUAL_1_7_0_SATL-2KM-10N_560_4178.txt', '20240615_173631_SN33_QUICKVIEW_VISUAL_1_7_0_SATL-2KM-11N_546_3742.txt', '20240623_215120_SN29_QUICKVIEW_VISUAL_1_7_0_SATL-2KM-10N_596_4134.txt', '20240612_185400_SN24_QUICKVIEW_VISUAL_1_7_0_SATL-2KM-11N_576_3720.txt', '20240612_053829_SN28_QUICKVIEW_VISUAL_1_7_0_SATL-2KM-51N_686_4422.txt', '20240616_102144_SN28_QUICKVIEW_VISUAL_1_7_0_SATL-2KM-39N_558_2794.txt', '20240616_081345_SN27_QUICKVIEW_VISUAL_1_7_0_SATL-2KM-39N_562_2792.txt', '20240616_213047_SN30_QUICKVIEW_VISUAL_1_7_0_SATL-2KM-11N_466_3828.txt', '20240619_215556_SN29_QUICKVIEW_VISUAL_1_7_0_SATL-2KM-10N_742_4460.txt', '20240611_215323_SN30_QUICKVIEW_VISUAL_1_7_0_SATL-2KM-10N_702_3948.txt', '20240613_053340_SN29_QUICKVIEW_VISUAL_1_7_0_SATL-2KM-51N_728_4342.txt', '20240612_185419_SN24_QUICKVIEW_VISUAL_1_7_0_SATL-2KM-11N_554_3610.txt', '20240612_053829_SN28_QUICKVIEW_VISUAL_1_7_0_SATL-2KM-51N_688_4420.txt', '20240616_213047_SN30_QUICKVIEW_VISUAL_1_7_0_SATL-2KM-11N_466_3826.txt', '20240612_185400_SN24_QUICKVIEW_VISUAL_1_7_0_SATL-2KM-11N_578_3722.txt', '20240610_191018_SN26_QUICKVIEW_VISUAL_1_7_0_SATL-2KM-11N_384_3750.txt', '20240613_053340_SN29_QUICKVIEW_VISUAL_1_7_0_SATL-2KM-51N_730_4342.txt', '20240616_102144_SN28_QUICKVIEW_VISUAL_1_7_0_SATL-2KM-39N_556_2794.txt', '20240618_215539_SN31_QUICKVIEW_VISUAL_1_7_0_SATL-2KM-11N_452_3740.txt', '20240623_215102_SN43_QUICKVIEW_VISUAL_1_7_0_SATL-2KM-11N_384_3750.txt', '20240607_200250_SN27_QUICKVIEW_VISUAL_1_7_0_SATL-2KM-10N_554_4172.txt', '20240618_215539_SN31_QUICKVIEW_VISUAL_1_7_0_SATL-2KM-11N_458_3756.txt', '20240602_215203_SN30_QUICKVIEW_VISUAL_1_6_0_SATL-2KM-10N_714_3948.txt', '20240617_184443_SN24_QUICKVIEW_VISUAL_1_7_0_SATL-2KM-11N_702_3566.txt', '20240602_215203_SN30_QUICKVIEW_VISUAL_1_6_0_SATL-2KM-10N_712_3948.txt', '20240616_081345_SN27_QUICKVIEW_VISUAL_1_7_0_SATL-2KM-39N_560_2792.txt', '20240616_213047_SN30_QUICKVIEW_VISUAL_1_7_0_SATL-2KM-11N_464_3828.txt', '20240618_193146_SN27_QUICKVIEW_VISUAL_1_7_0_SATL-2KM-11N_530_3682.txt', '20240614_221436_SN31_QUICKVIEW_VISUAL_1_7_0_SATL-2KM-10N_558_4184.txt', '20240605_212717_SN29_QUICKVIEW_VISUAL_1_7_0_SATL-2KM-11N_718_3608.txt', '20240609_191744_SN24_QUICKVIEW_VISUAL_1_7_0_SATL-2KM-10N_564_4194.txt', '20240616_081345_SN27_QUICKVIEW_VISUAL_1_7_0_SATL-2KM-39N_560_2794.txt', '20240609_191959_SN27_QUICKVIEW_VISUAL_1_7_0_SATL-2KM-11N_702_3540.txt'], '2024-04': ['20240402_184757_SN24_QUICKVIEW_VISUAL_1_2_0_SATL-2KM-11N_488_3638.txt', '20240423_190101_SN26_QUICKVIEW_VISUAL_1_5_0_SATL-2KM-11N_418_3872.txt', '20240402_184757_SN24_QUICKVIEW_VISUAL_1_2_0_SATL-2KM-11N_486_3630.txt', '20240423_190101_SN26_QUICKVIEW_VISUAL_1_5_0_SATL-2KM-11N_418_3864.txt', '20240401_221819_SN31_QUICKVIEW_VISUAL_1_2_0_SATL-2KM-10N_602_4148.txt', '20240423_190101_SN26_QUICKVIEW_VISUAL_1_5_0_SATL-2KM-11N_418_3860.txt', '20240402_184757_SN24_QUICKVIEW_VISUAL_1_2_0_SATL-2KM-11N_486_3636.txt', '20240423_190101_SN26_QUICKVIEW_VISUAL_1_5_0_SATL-2KM-11N_418_3862.txt', '20240428_215426_SN43_QUICKVIEW_VISUAL_1_5_0_SATL-2KM-10N_630_4264.txt', '20240427_221308_SN31_QUICKVIEW_VISUAL_1_5_0_SATL-2KM-10N_722_3848.txt', '20240423_190101_SN26_QUICKVIEW_VISUAL_1_5_0_SATL-2KM-11N_414_3862.txt', '20240401_032415_SN27_QUICKVIEW_VISUAL_1_2_0_SATL-2KM-51N_688_4420.txt', '20240428_215426_SN43_QUICKVIEW_VISUAL_1_5_0_SATL-2KM-10N_630_4262.txt', '20240428_215426_SN43_QUICKVIEW_VISUAL_1_5_0_SATL-2KM-10N_634_4282.txt', '20240401_175918_SN33_QUICKVIEW_VISUAL_1_2_0_SATL-2KM-10N_542_4168.txt', '20240426_215224_SN29_QUICKVIEW_VISUAL_1_5_0_SATL-2KM-11N_244_3818.txt', '20240401_175918_SN33_QUICKVIEW_VISUAL_1_2_0_SATL-2KM-10N_546_4206.txt', '20240402_215427_SN31_QUICKVIEW_VISUAL_1_2_0_SATL-2KM-11N_502_3600.txt', '20240428_215557_SN43_QUICKVIEW_VISUAL_1_5_0_SATL-2KM-10N_726_3862.txt', '20240423_190101_SN26_QUICKVIEW_VISUAL_1_5_0_SATL-2KM-11N_416_3864.txt', '20240402_184757_SN24_QUICKVIEW_VISUAL_1_2_0_SATL-2KM-11N_490_3638.txt', '20240428_191026_SN24_QUICKVIEW_VISUAL_1_5_0_SATL-2KM-11N_380_3722.txt', '20240401_175925_SN33_QUICKVIEW_VISUAL_1_2_0_SATL-2KM-10N_542_4168.txt', '20240402_215421_SN31_QUICKVIEW_VISUAL_1_2_0_SATL-2KM-11N_500_3632.txt', '20240423_190101_SN26_QUICKVIEW_VISUAL_1_5_0_SATL-2KM-11N_416_3862.txt'], '2024-02': ['20240201_075140_SN26_QUICKVIEW_VISUAL_1_1_10_SATL-2KM-39N_558_2794.txt', '20240222_074151_SN26_QUICKVIEW_VISUAL_1_1_10_SATL-2KM-39N_560_2794.txt', '20240218_180121_SN33_QUICKVIEW_VISUAL_1_1_10_SATL-2KM-10N_568_4176.txt', '20240213_212524_SN29_QUICKVIEW_VISUAL_1_1_10_SATL-2KM-11N_542_3750.txt', '20240222_074155_SN26_QUICKVIEW_VISUAL_1_1_10_SATL-2KM-39N_556_2794.txt', '20240222_074155_SN26_QUICKVIEW_VISUAL_1_1_10_SATL-2KM-39N_562_2794.txt', '20240222_074151_SN26_QUICKVIEW_VISUAL_1_1_10_SATL-2KM-39N_560_2796.txt', '20240220_190455_SN27_QUICKVIEW_VISUAL_1_1_10_SATL-2KM-11N_718_3608.txt', '20240203_173953_SN33_QUICKVIEW_VISUAL_1_1_10_SATL-2KM-11N_368_3756.txt', '20240222_074256_SN26_QUICKVIEW_VISUAL_1_1_10_SATL-2KM-39N_564_2790.txt', '20240222_074155_SN26_QUICKVIEW_VISUAL_1_1_10_SATL-2KM-39N_556_2792.txt', '20240201_075143_SN26_QUICKVIEW_VISUAL_1_1_10_SATL-2KM-39N_556_2792.txt', '20240223_025420_SN24_QUICKVIEW_VISUAL_1_1_10_SATL-2KM-51N_686_4422.txt', '20240228_213951_SN29_QUICKVIEW_VISUAL_1_1_10_SATL-2KM-11N_248_4068.txt', '20240222_074155_SN26_QUICKVIEW_VISUAL_1_1_10_SATL-2KM-39N_562_2792.txt', '20240201_075140_SN26_QUICKVIEW_VISUAL_1_1_10_SATL-2KM-39N_560_2792.txt', '20240213_212524_SN29_QUICKVIEW_VISUAL_1_1_10_SATL-2KM-11N_544_3742.txt', '20240213_212524_SN29_QUICKVIEW_VISUAL_1_1_10_SATL-2KM-11N_540_3748.txt', '20240219_214312_SN28_QUICKVIEW_VISUAL_1_1_10_SATL-2KM-11N_252_3954.txt', '20240201_075140_SN26_QUICKVIEW_VISUAL_1_1_10_SATL-2KM-39N_560_2794.txt', '20240216_213630_SN31_QUICKVIEW_VISUAL_1_1_10_SATL-2KM-11N_418_3724.txt', '20240222_074151_SN26_QUICKVIEW_VISUAL_1_1_10_SATL-2KM-39N_558_2796.txt', '20240201_075140_SN26_QUICKVIEW_VISUAL_1_1_10_SATL-2KM-39N_560_2796.txt', '20240208_184650_SN24_QUICKVIEW_VISUAL_1_1_10_SATL-2KM-11N_624_3632.txt', '20240214_184340_SN24_QUICKVIEW_VISUAL_1_1_10_SATL-2KM-11N_688_3630.txt', '20240212_213506_SN31_QUICKVIEW_VISUAL_1_1_10_SATL-2KM-11N_408_3712.txt', '20240222_074155_SN26_QUICKVIEW_VISUAL_1_1_10_SATL-2KM-39N_560_2792.txt', '20240222_212250_SN30_QUICKVIEW_VISUAL_1_1_10_SATL-2KM-11N_382_3722.txt', '20240221_190608_SN26_QUICKVIEW_VISUAL_1_1_10_SATL-2KM-11N_380_3764.txt', '20240209_212744_SN29_QUICKVIEW_VISUAL_1_1_10_SATL-2KM-11N_380_3722.txt', '20240222_074151_SN26_QUICKVIEW_VISUAL_1_1_10_SATL-2KM-39N_556_2794.txt', '20240202_191114_SN27_QUICKVIEW_VISUAL_1_1_10_SATL-2KM-11N_718_3608.txt', '20240202_184725_SN24_QUICKVIEW_VISUAL_1_1_10_SATL-2KM-11N_624_3630.txt', '20240222_074151_SN26_QUICKVIEW_VISUAL_1_1_10_SATL-2KM-39N_562_2794.txt', '20240224_214855_SN30_QUICKVIEW_VISUAL_1_1_10_SATL-2KM-10N_552_4162.txt', '20240227_214218_SN30_QUICKVIEW_VISUAL_1_1_10_SATL-2KM-10N_562_4170.txt', '20240201_075140_SN26_QUICKVIEW_VISUAL_1_1_10_SATL-2KM-39N_556_2794.txt', '20240222_074155_SN26_QUICKVIEW_VISUAL_1_1_10_SATL-2KM-39N_558_2794.txt', '20240211_211057_SN30_QUICKVIEW_VISUAL_1_1_10_SATL-2KM-11N_700_3690.txt', '20240201_075140_SN26_QUICKVIEW_VISUAL_1_1_10_SATL-2KM-39N_562_2794.txt', '20240201_075143_SN26_QUICKVIEW_VISUAL_1_1_10_SATL-2KM-39N_562_2788.txt', '20240224_214855_SN30_QUICKVIEW_VISUAL_1_1_10_SATL-2KM-10N_554_4162.txt', '20240203_173953_SN33_QUICKVIEW_VISUAL_1_1_10_SATL-2KM-11N_366_3756.txt', '20240201_075140_SN26_QUICKVIEW_VISUAL_1_1_10_SATL-2KM-39N_556_2792.txt', '20240201_075140_SN26_QUICKVIEW_VISUAL_1_1_10_SATL-2KM-39N_562_2792.txt'], '2024-03': ['20240322_212516_SN28_QUICKVIEW_VISUAL_1_2_0_SATL-2KM-11N_502_3600.txt', '20240317_221229_SN31_QUICKVIEW_VISUAL_1_2_0_SATL-2KM-10N_556_4176.txt', '20240316_191451_SN26_QUICKVIEW_VISUAL_1_2_0_SATL-2KM-11N_380_3764.txt', '20240324_180232_SN33_QUICKVIEW_VISUAL_1_2_0_SATL-2KM-10N_554_4172.txt', '20240317_215115_SN28_QUICKVIEW_VISUAL_1_2_0_SATL-2KM-10N_554_4162.txt', '20240325_173936_SN33_QUICKVIEW_VISUAL_1_2_0_SATL-2KM-11N_378_3722.txt', '20240304_212824_SN30_QUICKVIEW_VISUAL_1_2_0_SATL-2KM-11N_378_3722.txt', '20240314_220020_SN30_QUICKVIEW_VISUAL_1_2_0_SATL-2KM-10N_544_4186.txt', '20240322_184801_SN24_QUICKVIEW_VISUAL_1_2_0_SATL-2KM-11N_500_3632.txt', '20240308_211248_SN29_QUICKVIEW_VISUAL_1_2_0_SATL-2KM-11N_718_3640.txt', '20240317_215115_SN28_QUICKVIEW_VISUAL_1_2_0_SATL-2KM-10N_552_4162.txt', '20240314_220020_SN30_QUICKVIEW_VISUAL_1_2_0_SATL-2KM-10N_550_4202.txt', '20240317_215115_SN28_QUICKVIEW_VISUAL_1_2_0_SATL-2KM-10N_552_4164.txt', '20240308_191212_SN27_QUICKVIEW_VISUAL_1_2_0_SATL-2KM-11N_506_3614.txt', '20240321_220846_SN31_QUICKVIEW_VISUAL_1_2_0_SATL-2KM-10N_560_4178.txt', '20240322_184801_SN24_QUICKVIEW_VISUAL_1_2_0_SATL-2KM-11N_502_3632.txt', '20240321_190819_SN27_QUICKVIEW_VISUAL_1_2_0_SATL-2KM-11N_714_3632.txt'], '2024-05': ['20240506_192008_SN26_QUICKVIEW_VISUAL_1_5_0_SATL-2KM-10N_562_4178.txt', '20240521_052621_SN43_QUICKVIEW_VISUAL_1_6_0_SATL-2KM-51N_730_4342.txt', '20240508_194502_SN27_QUICKVIEW_VISUAL_1_5_0_SATL-2KM-11N_264_4022.txt', '20240519_191838_SN27_QUICKVIEW_VISUAL_1_5_0_SATL-2KM-11N_718_3608.txt', '20240528_191448_SN24_QUICKVIEW_VISUAL_1_6_0_SATL-2KM-11N_248_4068.txt', '20240509_193206_SN26_QUICKVIEW_VISUAL_1_5_0_SATL-2KM-10N_562_4196.txt', '20240516_211630_SN28_QUICKVIEW_VISUAL_1_5_0_SATL-2KM-11N_716_3848.txt', '20240514_052716_SN43_QUICKVIEW_VISUAL_1_5_0_SATL-2KM-51N_730_4342.txt', '20240503_214759_SN28_QUICKVIEW_VISUAL_1_5_0_SATL-2KM-11N_376_3724.txt', '20240519_184534_SN24_QUICKVIEW_VISUAL_1_5_0_SATL-2KM-11N_658_3700.txt', '20240521_101252_SN43_QUICKVIEW_VISUAL_1_6_0_SATL-2KM-39N_556_2792.txt', '20240510_191914_SN27_QUICKVIEW_VISUAL_1_5_0_SATL-2KM-11N_712_3566.txt', '20240528_191604_SN24_QUICKVIEW_VISUAL_1_6_0_SATL-2KM-11N_344_3836.txt', '20240509_212336_SN29_QUICKVIEW_VISUAL_1_5_0_SATL-2KM-11N_706_3778.txt', '20240508_194502_SN27_QUICKVIEW_VISUAL_1_5_0_SATL-2KM-11N_262_4022.txt', '20240519_214917_SN31_QUICKVIEW_VISUAL_1_5_0_SATL-2KM-11N_500_3600.txt', '20240513_212022_SN29_QUICKVIEW_VISUAL_1_5_0_SATL-2KM-11N_630_3742.txt', '20240516_190328_SN24_QUICKVIEW_VISUAL_1_5_0_SATL-2KM-11N_262_4052.txt', '20240519_214917_SN31_QUICKVIEW_VISUAL_1_5_0_SATL-2KM-11N_500_3602.txt', '20240521_101252_SN43_QUICKVIEW_VISUAL_1_6_0_SATL-2KM-39N_558_2796.txt', '20240510_191908_SN27_QUICKVIEW_VISUAL_1_5_0_SATL-2KM-11N_718_3608.txt', '20240519_214917_SN31_QUICKVIEW_VISUAL_1_5_0_SATL-2KM-11N_500_3598.txt', '20240524_213504_SN29_QUICKVIEW_VISUAL_1_6_0_SATL-2KM-11N_380_3724.txt', '20240506_213507_SN43_QUICKVIEW_VISUAL_1_5_0_SATL-2KM-11N_384_3750.txt', '20240520_194539_SN27_QUICKVIEW_VISUAL_1_5_0_SATL-2KM-10N_638_4280.txt', '20240520_194539_SN27_QUICKVIEW_VISUAL_1_5_0_SATL-2KM-10N_638_4282.txt', '20240524_213504_SN29_QUICKVIEW_VISUAL_1_6_0_SATL-2KM-11N_378_3724.txt', '20240507_191326_SN27_QUICKVIEW_VISUAL_1_5_0_SATL-2KM-11N_718_3608.txt']}\n",
      "Monthly Annotations: {'2024-01': [{'name': '20240102_185527_SN27_QUICKVIEW_VISUAL_1_1_10_SATL-2KM-11N_740_3850.txt', 'date': datetime.datetime(2024, 1, 2, 18, 55, 27)}, {'name': '20240101_174301_SN33_QUICKVIEW_VISUAL_1_1_10_SATL-2KM-11N_404_3770.txt', 'date': datetime.datetime(2024, 1, 1, 17, 43, 1)}, {'name': '20240101_192856_SN24_QUICKVIEW_VISUAL_1_1_10_SATL-2KM-10N_552_4164.txt', 'date': datetime.datetime(2024, 1, 1, 19, 28, 56)}, {'name': '20240102_185954_SN24_QUICKVIEW_VISUAL_1_1_10_SATL-2KM-11N_414_3786.txt', 'date': datetime.datetime(2024, 1, 2, 18, 59, 54)}, {'name': '20240104_220339_SN31_QUICKVIEW_VISUAL_1_1_10_SATL-2KM-10N_556_4178.txt', 'date': datetime.datetime(2024, 1, 4, 22, 3, 39)}, {'name': '20240115_213834_SN28_QUICKVIEW_VISUAL_1_1_10_SATL-2KM-11N_376_3722.txt', 'date': datetime.datetime(2024, 1, 15, 21, 38, 34)}, {'name': '20240126_173752_SN33_QUICKVIEW_VISUAL_1_1_10_SATL-2KM-11N_386_3722.txt', 'date': datetime.datetime(2024, 1, 26, 17, 37, 52)}, {'name': '20240101_174301_SN33_QUICKVIEW_VISUAL_1_1_10_SATL-2KM-11N_404_3772.txt', 'date': datetime.datetime(2024, 1, 1, 17, 43, 1)}, {'name': '20240130_173903_SN33_QUICKVIEW_VISUAL_1_1_10_SATL-2KM-11N_366_3756.txt', 'date': datetime.datetime(2024, 1, 30, 17, 39, 3)}, {'name': '20240127_190620_SN27_QUICKVIEW_VISUAL_1_1_10_SATL-2KM-11N_500_3600.txt', 'date': datetime.datetime(2024, 1, 27, 19, 6, 20)}, {'name': '20240101_192856_SN24_QUICKVIEW_VISUAL_1_1_10_SATL-2KM-10N_552_4162.txt', 'date': datetime.datetime(2024, 1, 1, 19, 28, 56)}, {'name': '20240127_190620_SN27_QUICKVIEW_VISUAL_1_1_10_SATL-2KM-11N_500_3602.txt', 'date': datetime.datetime(2024, 1, 27, 19, 6, 20)}, {'name': '20240101_192856_SN24_QUICKVIEW_VISUAL_1_1_10_SATL-2KM-10N_554_4162.txt', 'date': datetime.datetime(2024, 1, 1, 19, 28, 56)}, {'name': '20240101_213601_SN31_QUICKVIEW_VISUAL_1_1_10_SATL-2KM-11N_392_3740.txt', 'date': datetime.datetime(2024, 1, 1, 21, 36, 1)}, {'name': '20240101_213601_SN31_QUICKVIEW_VISUAL_1_1_10_SATL-2KM-11N_392_3742.txt', 'date': datetime.datetime(2024, 1, 1, 21, 36, 1)}, {'name': '20240128_213258_SN29_QUICKVIEW_VISUAL_1_1_10_SATL-2KM-11N_418_3864.txt', 'date': datetime.datetime(2024, 1, 28, 21, 32, 58)}, {'name': '20240128_213258_SN29_QUICKVIEW_VISUAL_1_1_10_SATL-2KM-11N_418_3862.txt', 'date': datetime.datetime(2024, 1, 28, 21, 32, 58)}, {'name': '20240130_215036_SN31_QUICKVIEW_VISUAL_1_1_10_SATL-2KM-11N_366_3756.txt', 'date': datetime.datetime(2024, 1, 30, 21, 50, 36)}, {'name': '20240127_190620_SN27_QUICKVIEW_VISUAL_1_1_10_SATL-2KM-11N_502_3602.txt', 'date': datetime.datetime(2024, 1, 27, 19, 6, 20)}, {'name': '20240127_190620_SN27_QUICKVIEW_VISUAL_1_1_10_SATL-2KM-11N_502_3600.txt', 'date': datetime.datetime(2024, 1, 27, 19, 6, 20)}, {'name': '20240130_173903_SN33_QUICKVIEW_VISUAL_1_1_10_SATL-2KM-11N_360_3748.txt', 'date': datetime.datetime(2024, 1, 30, 17, 39, 3)}, {'name': '20240130_173903_SN33_QUICKVIEW_VISUAL_1_1_10_SATL-2KM-11N_364_3754.txt', 'date': datetime.datetime(2024, 1, 30, 17, 39, 3)}, {'name': '20240101_213601_SN31_QUICKVIEW_VISUAL_1_1_10_SATL-2KM-11N_396_3752.txt', 'date': datetime.datetime(2024, 1, 1, 21, 36, 1)}, {'name': '20240112_192510_SN27_QUICKVIEW_VISUAL_1_1_10_SATL-2KM-11N_386_3750.txt', 'date': datetime.datetime(2024, 1, 12, 19, 25, 10)}, {'name': '20240115_213834_SN28_QUICKVIEW_VISUAL_1_1_10_SATL-2KM-11N_380_3724.txt', 'date': datetime.datetime(2024, 1, 15, 21, 38, 34)}, {'name': '20240110_192002_SN27_QUICKVIEW_VISUAL_1_1_10_SATL-2KM-11N_380_3728.txt', 'date': datetime.datetime(2024, 1, 10, 19, 20, 2)}, {'name': '20240102_185605_SN27_QUICKVIEW_VISUAL_1_1_10_SATL-2KM-11N_690_3572.txt', 'date': datetime.datetime(2024, 1, 2, 18, 56, 5)}], '2024-06': [{'name': '20240623_193704_SN27_QUICKVIEW_VISUAL_1_7_0_SATL-2KM-11N_566_3734.txt', 'date': datetime.datetime(2024, 6, 23, 19, 37, 4)}, {'name': '20240603_215226_SN28_QUICKVIEW_VISUAL_1_6_0_SATL-2KM-11N_248_4068.txt', 'date': datetime.datetime(2024, 6, 3, 21, 52, 26)}, {'name': '20240603_215348_SN28_QUICKVIEW_VISUAL_1_6_0_SATL-2KM-11N_346_3786.txt', 'date': datetime.datetime(2024, 6, 3, 21, 53, 48)}, {'name': '20240616_213053_SN30_QUICKVIEW_VISUAL_1_7_0_SATL-2KM-11N_460_3792.txt', 'date': datetime.datetime(2024, 6, 16, 21, 30, 53)}, {'name': '20240611_025943_SN26_QUICKVIEW_VISUAL_1_7_0_SATL-2KM-51N_748_4366.txt', 'date': datetime.datetime(2024, 6, 11, 2, 59, 43)}, {'name': '20240612_185400_SN24_QUICKVIEW_VISUAL_1_7_0_SATL-2KM-11N_574_3714.txt', 'date': datetime.datetime(2024, 6, 12, 18, 54)}, {'name': '20240619_185757_SN24_QUICKVIEW_VISUAL_1_7_0_SATL-2KM-11N_528_3700.txt', 'date': datetime.datetime(2024, 6, 19, 18, 57, 57)}, {'name': '20240619_052401_SN30_QUICKVIEW_VISUAL_1_7_0_SATL-2KM-52N_368_4336.txt', 'date': datetime.datetime(2024, 6, 19, 5, 24, 1)}, {'name': '20240616_213047_SN30_QUICKVIEW_VISUAL_1_7_0_SATL-2KM-11N_464_3830.txt', 'date': datetime.datetime(2024, 6, 16, 21, 30, 47)}, {'name': '20240616_102144_SN28_QUICKVIEW_VISUAL_1_7_0_SATL-2KM-39N_560_2792.txt', 'date': datetime.datetime(2024, 6, 16, 10, 21, 44)}, {'name': '20240617_052859_SN29_QUICKVIEW_VISUAL_1_7_0_SATL-2KM-51N_730_4348.txt', 'date': datetime.datetime(2024, 6, 17, 5, 28, 59)}, {'name': '20240608_214614_SN29_QUICKVIEW_VISUAL_1_7_0_SATL-2KM-11N_248_4068.txt', 'date': datetime.datetime(2024, 6, 8, 21, 46, 14)}, {'name': '20240617_211350_SN29_QUICKVIEW_VISUAL_1_7_0_SATL-2KM-11N_724_3614.txt', 'date': datetime.datetime(2024, 6, 17, 21, 13, 50)}, {'name': '20240606_180251_SN33_QUICKVIEW_VISUAL_1_7_0_SATL-2KM-10N_556_4180.txt', 'date': datetime.datetime(2024, 6, 6, 18, 2, 51)}, {'name': '20240613_214203_SN43_QUICKVIEW_VISUAL_1_7_0_SATL-2KM-11N_384_3750.txt', 'date': datetime.datetime(2024, 6, 13, 21, 42, 3)}, {'name': '20240611_025943_SN26_QUICKVIEW_VISUAL_1_7_0_SATL-2KM-51N_748_4364.txt', 'date': datetime.datetime(2024, 6, 11, 2, 59, 43)}, {'name': '20240616_081345_SN27_QUICKVIEW_VISUAL_1_7_0_SATL-2KM-39N_562_2794.txt', 'date': datetime.datetime(2024, 6, 16, 8, 13, 45)}, {'name': '20240609_214259_SN30_QUICKVIEW_VISUAL_1_7_0_SATL-2KM-11N_262_4052.txt', 'date': datetime.datetime(2024, 6, 9, 21, 42, 59)}, {'name': '20240604_214955_SN29_QUICKVIEW_VISUAL_1_7_0_SATL-2KM-10N_594_4136.txt', 'date': datetime.datetime(2024, 6, 4, 21, 49, 55)}, {'name': '20240613_192217_SN26_QUICKVIEW_VISUAL_1_7_0_SATL-2KM-10N_560_4178.txt', 'date': datetime.datetime(2024, 6, 13, 19, 22, 17)}, {'name': '20240615_173631_SN33_QUICKVIEW_VISUAL_1_7_0_SATL-2KM-11N_546_3742.txt', 'date': datetime.datetime(2024, 6, 15, 17, 36, 31)}, {'name': '20240623_215120_SN29_QUICKVIEW_VISUAL_1_7_0_SATL-2KM-10N_596_4134.txt', 'date': datetime.datetime(2024, 6, 23, 21, 51, 20)}, {'name': '20240612_185400_SN24_QUICKVIEW_VISUAL_1_7_0_SATL-2KM-11N_576_3720.txt', 'date': datetime.datetime(2024, 6, 12, 18, 54)}, {'name': '20240612_053829_SN28_QUICKVIEW_VISUAL_1_7_0_SATL-2KM-51N_686_4422.txt', 'date': datetime.datetime(2024, 6, 12, 5, 38, 29)}, {'name': '20240616_102144_SN28_QUICKVIEW_VISUAL_1_7_0_SATL-2KM-39N_558_2794.txt', 'date': datetime.datetime(2024, 6, 16, 10, 21, 44)}, {'name': '20240616_081345_SN27_QUICKVIEW_VISUAL_1_7_0_SATL-2KM-39N_562_2792.txt', 'date': datetime.datetime(2024, 6, 16, 8, 13, 45)}, {'name': '20240616_213047_SN30_QUICKVIEW_VISUAL_1_7_0_SATL-2KM-11N_466_3828.txt', 'date': datetime.datetime(2024, 6, 16, 21, 30, 47)}, {'name': '20240619_215556_SN29_QUICKVIEW_VISUAL_1_7_0_SATL-2KM-10N_742_4460.txt', 'date': datetime.datetime(2024, 6, 19, 21, 55, 56)}, {'name': '20240611_215323_SN30_QUICKVIEW_VISUAL_1_7_0_SATL-2KM-10N_702_3948.txt', 'date': datetime.datetime(2024, 6, 11, 21, 53, 23)}, {'name': '20240613_053340_SN29_QUICKVIEW_VISUAL_1_7_0_SATL-2KM-51N_728_4342.txt', 'date': datetime.datetime(2024, 6, 13, 5, 33, 40)}, {'name': '20240612_185419_SN24_QUICKVIEW_VISUAL_1_7_0_SATL-2KM-11N_554_3610.txt', 'date': datetime.datetime(2024, 6, 12, 18, 54, 19)}, {'name': '20240612_053829_SN28_QUICKVIEW_VISUAL_1_7_0_SATL-2KM-51N_688_4420.txt', 'date': datetime.datetime(2024, 6, 12, 5, 38, 29)}, {'name': '20240616_213047_SN30_QUICKVIEW_VISUAL_1_7_0_SATL-2KM-11N_466_3826.txt', 'date': datetime.datetime(2024, 6, 16, 21, 30, 47)}, {'name': '20240612_185400_SN24_QUICKVIEW_VISUAL_1_7_0_SATL-2KM-11N_578_3722.txt', 'date': datetime.datetime(2024, 6, 12, 18, 54)}, {'name': '20240610_191018_SN26_QUICKVIEW_VISUAL_1_7_0_SATL-2KM-11N_384_3750.txt', 'date': datetime.datetime(2024, 6, 10, 19, 10, 18)}, {'name': '20240613_053340_SN29_QUICKVIEW_VISUAL_1_7_0_SATL-2KM-51N_730_4342.txt', 'date': datetime.datetime(2024, 6, 13, 5, 33, 40)}, {'name': '20240616_102144_SN28_QUICKVIEW_VISUAL_1_7_0_SATL-2KM-39N_556_2794.txt', 'date': datetime.datetime(2024, 6, 16, 10, 21, 44)}, {'name': '20240618_215539_SN31_QUICKVIEW_VISUAL_1_7_0_SATL-2KM-11N_452_3740.txt', 'date': datetime.datetime(2024, 6, 18, 21, 55, 39)}, {'name': '20240623_215102_SN43_QUICKVIEW_VISUAL_1_7_0_SATL-2KM-11N_384_3750.txt', 'date': datetime.datetime(2024, 6, 23, 21, 51, 2)}, {'name': '20240607_200250_SN27_QUICKVIEW_VISUAL_1_7_0_SATL-2KM-10N_554_4172.txt', 'date': datetime.datetime(2024, 6, 7, 20, 2, 50)}, {'name': '20240618_215539_SN31_QUICKVIEW_VISUAL_1_7_0_SATL-2KM-11N_458_3756.txt', 'date': datetime.datetime(2024, 6, 18, 21, 55, 39)}, {'name': '20240602_215203_SN30_QUICKVIEW_VISUAL_1_6_0_SATL-2KM-10N_714_3948.txt', 'date': datetime.datetime(2024, 6, 2, 21, 52, 3)}, {'name': '20240617_184443_SN24_QUICKVIEW_VISUAL_1_7_0_SATL-2KM-11N_702_3566.txt', 'date': datetime.datetime(2024, 6, 17, 18, 44, 43)}, {'name': '20240602_215203_SN30_QUICKVIEW_VISUAL_1_6_0_SATL-2KM-10N_712_3948.txt', 'date': datetime.datetime(2024, 6, 2, 21, 52, 3)}, {'name': '20240616_081345_SN27_QUICKVIEW_VISUAL_1_7_0_SATL-2KM-39N_560_2792.txt', 'date': datetime.datetime(2024, 6, 16, 8, 13, 45)}, {'name': '20240616_213047_SN30_QUICKVIEW_VISUAL_1_7_0_SATL-2KM-11N_464_3828.txt', 'date': datetime.datetime(2024, 6, 16, 21, 30, 47)}, {'name': '20240618_193146_SN27_QUICKVIEW_VISUAL_1_7_0_SATL-2KM-11N_530_3682.txt', 'date': datetime.datetime(2024, 6, 18, 19, 31, 46)}, {'name': '20240614_221436_SN31_QUICKVIEW_VISUAL_1_7_0_SATL-2KM-10N_558_4184.txt', 'date': datetime.datetime(2024, 6, 14, 22, 14, 36)}, {'name': '20240605_212717_SN29_QUICKVIEW_VISUAL_1_7_0_SATL-2KM-11N_718_3608.txt', 'date': datetime.datetime(2024, 6, 5, 21, 27, 17)}, {'name': '20240609_191744_SN24_QUICKVIEW_VISUAL_1_7_0_SATL-2KM-10N_564_4194.txt', 'date': datetime.datetime(2024, 6, 9, 19, 17, 44)}, {'name': '20240616_081345_SN27_QUICKVIEW_VISUAL_1_7_0_SATL-2KM-39N_560_2794.txt', 'date': datetime.datetime(2024, 6, 16, 8, 13, 45)}, {'name': '20240609_191959_SN27_QUICKVIEW_VISUAL_1_7_0_SATL-2KM-11N_702_3540.txt', 'date': datetime.datetime(2024, 6, 9, 19, 19, 59)}], '2024-04': [{'name': '20240402_184757_SN24_QUICKVIEW_VISUAL_1_2_0_SATL-2KM-11N_488_3638.txt', 'date': datetime.datetime(2024, 4, 2, 18, 47, 57)}, {'name': '20240423_190101_SN26_QUICKVIEW_VISUAL_1_5_0_SATL-2KM-11N_418_3872.txt', 'date': datetime.datetime(2024, 4, 23, 19, 1, 1)}, {'name': '20240402_184757_SN24_QUICKVIEW_VISUAL_1_2_0_SATL-2KM-11N_486_3630.txt', 'date': datetime.datetime(2024, 4, 2, 18, 47, 57)}, {'name': '20240423_190101_SN26_QUICKVIEW_VISUAL_1_5_0_SATL-2KM-11N_418_3864.txt', 'date': datetime.datetime(2024, 4, 23, 19, 1, 1)}, {'name': '20240401_221819_SN31_QUICKVIEW_VISUAL_1_2_0_SATL-2KM-10N_602_4148.txt', 'date': datetime.datetime(2024, 4, 1, 22, 18, 19)}, {'name': '20240423_190101_SN26_QUICKVIEW_VISUAL_1_5_0_SATL-2KM-11N_418_3860.txt', 'date': datetime.datetime(2024, 4, 23, 19, 1, 1)}, {'name': '20240402_184757_SN24_QUICKVIEW_VISUAL_1_2_0_SATL-2KM-11N_486_3636.txt', 'date': datetime.datetime(2024, 4, 2, 18, 47, 57)}, {'name': '20240423_190101_SN26_QUICKVIEW_VISUAL_1_5_0_SATL-2KM-11N_418_3862.txt', 'date': datetime.datetime(2024, 4, 23, 19, 1, 1)}, {'name': '20240428_215426_SN43_QUICKVIEW_VISUAL_1_5_0_SATL-2KM-10N_630_4264.txt', 'date': datetime.datetime(2024, 4, 28, 21, 54, 26)}, {'name': '20240427_221308_SN31_QUICKVIEW_VISUAL_1_5_0_SATL-2KM-10N_722_3848.txt', 'date': datetime.datetime(2024, 4, 27, 22, 13, 8)}, {'name': '20240423_190101_SN26_QUICKVIEW_VISUAL_1_5_0_SATL-2KM-11N_414_3862.txt', 'date': datetime.datetime(2024, 4, 23, 19, 1, 1)}, {'name': '20240401_032415_SN27_QUICKVIEW_VISUAL_1_2_0_SATL-2KM-51N_688_4420.txt', 'date': datetime.datetime(2024, 4, 1, 3, 24, 15)}, {'name': '20240428_215426_SN43_QUICKVIEW_VISUAL_1_5_0_SATL-2KM-10N_630_4262.txt', 'date': datetime.datetime(2024, 4, 28, 21, 54, 26)}, {'name': '20240428_215426_SN43_QUICKVIEW_VISUAL_1_5_0_SATL-2KM-10N_634_4282.txt', 'date': datetime.datetime(2024, 4, 28, 21, 54, 26)}, {'name': '20240401_175918_SN33_QUICKVIEW_VISUAL_1_2_0_SATL-2KM-10N_542_4168.txt', 'date': datetime.datetime(2024, 4, 1, 17, 59, 18)}, {'name': '20240426_215224_SN29_QUICKVIEW_VISUAL_1_5_0_SATL-2KM-11N_244_3818.txt', 'date': datetime.datetime(2024, 4, 26, 21, 52, 24)}, {'name': '20240401_175918_SN33_QUICKVIEW_VISUAL_1_2_0_SATL-2KM-10N_546_4206.txt', 'date': datetime.datetime(2024, 4, 1, 17, 59, 18)}, {'name': '20240402_215427_SN31_QUICKVIEW_VISUAL_1_2_0_SATL-2KM-11N_502_3600.txt', 'date': datetime.datetime(2024, 4, 2, 21, 54, 27)}, {'name': '20240428_215557_SN43_QUICKVIEW_VISUAL_1_5_0_SATL-2KM-10N_726_3862.txt', 'date': datetime.datetime(2024, 4, 28, 21, 55, 57)}, {'name': '20240423_190101_SN26_QUICKVIEW_VISUAL_1_5_0_SATL-2KM-11N_416_3864.txt', 'date': datetime.datetime(2024, 4, 23, 19, 1, 1)}, {'name': '20240402_184757_SN24_QUICKVIEW_VISUAL_1_2_0_SATL-2KM-11N_490_3638.txt', 'date': datetime.datetime(2024, 4, 2, 18, 47, 57)}, {'name': '20240428_191026_SN24_QUICKVIEW_VISUAL_1_5_0_SATL-2KM-11N_380_3722.txt', 'date': datetime.datetime(2024, 4, 28, 19, 10, 26)}, {'name': '20240401_175925_SN33_QUICKVIEW_VISUAL_1_2_0_SATL-2KM-10N_542_4168.txt', 'date': datetime.datetime(2024, 4, 1, 17, 59, 25)}, {'name': '20240402_215421_SN31_QUICKVIEW_VISUAL_1_2_0_SATL-2KM-11N_500_3632.txt', 'date': datetime.datetime(2024, 4, 2, 21, 54, 21)}, {'name': '20240423_190101_SN26_QUICKVIEW_VISUAL_1_5_0_SATL-2KM-11N_416_3862.txt', 'date': datetime.datetime(2024, 4, 23, 19, 1, 1)}], '2024-02': [{'name': '20240201_075140_SN26_QUICKVIEW_VISUAL_1_1_10_SATL-2KM-39N_558_2794.txt', 'date': datetime.datetime(2024, 2, 1, 7, 51, 40)}, {'name': '20240222_074151_SN26_QUICKVIEW_VISUAL_1_1_10_SATL-2KM-39N_560_2794.txt', 'date': datetime.datetime(2024, 2, 22, 7, 41, 51)}, {'name': '20240218_180121_SN33_QUICKVIEW_VISUAL_1_1_10_SATL-2KM-10N_568_4176.txt', 'date': datetime.datetime(2024, 2, 18, 18, 1, 21)}, {'name': '20240213_212524_SN29_QUICKVIEW_VISUAL_1_1_10_SATL-2KM-11N_542_3750.txt', 'date': datetime.datetime(2024, 2, 13, 21, 25, 24)}, {'name': '20240222_074155_SN26_QUICKVIEW_VISUAL_1_1_10_SATL-2KM-39N_556_2794.txt', 'date': datetime.datetime(2024, 2, 22, 7, 41, 55)}, {'name': '20240222_074155_SN26_QUICKVIEW_VISUAL_1_1_10_SATL-2KM-39N_562_2794.txt', 'date': datetime.datetime(2024, 2, 22, 7, 41, 55)}, {'name': '20240222_074151_SN26_QUICKVIEW_VISUAL_1_1_10_SATL-2KM-39N_560_2796.txt', 'date': datetime.datetime(2024, 2, 22, 7, 41, 51)}, {'name': '20240220_190455_SN27_QUICKVIEW_VISUAL_1_1_10_SATL-2KM-11N_718_3608.txt', 'date': datetime.datetime(2024, 2, 20, 19, 4, 55)}, {'name': '20240203_173953_SN33_QUICKVIEW_VISUAL_1_1_10_SATL-2KM-11N_368_3756.txt', 'date': datetime.datetime(2024, 2, 3, 17, 39, 53)}, {'name': '20240222_074256_SN26_QUICKVIEW_VISUAL_1_1_10_SATL-2KM-39N_564_2790.txt', 'date': datetime.datetime(2024, 2, 22, 7, 42, 56)}, {'name': '20240222_074155_SN26_QUICKVIEW_VISUAL_1_1_10_SATL-2KM-39N_556_2792.txt', 'date': datetime.datetime(2024, 2, 22, 7, 41, 55)}, {'name': '20240201_075143_SN26_QUICKVIEW_VISUAL_1_1_10_SATL-2KM-39N_556_2792.txt', 'date': datetime.datetime(2024, 2, 1, 7, 51, 43)}, {'name': '20240223_025420_SN24_QUICKVIEW_VISUAL_1_1_10_SATL-2KM-51N_686_4422.txt', 'date': datetime.datetime(2024, 2, 23, 2, 54, 20)}, {'name': '20240228_213951_SN29_QUICKVIEW_VISUAL_1_1_10_SATL-2KM-11N_248_4068.txt', 'date': datetime.datetime(2024, 2, 28, 21, 39, 51)}, {'name': '20240222_074155_SN26_QUICKVIEW_VISUAL_1_1_10_SATL-2KM-39N_562_2792.txt', 'date': datetime.datetime(2024, 2, 22, 7, 41, 55)}, {'name': '20240201_075140_SN26_QUICKVIEW_VISUAL_1_1_10_SATL-2KM-39N_560_2792.txt', 'date': datetime.datetime(2024, 2, 1, 7, 51, 40)}, {'name': '20240213_212524_SN29_QUICKVIEW_VISUAL_1_1_10_SATL-2KM-11N_544_3742.txt', 'date': datetime.datetime(2024, 2, 13, 21, 25, 24)}, {'name': '20240213_212524_SN29_QUICKVIEW_VISUAL_1_1_10_SATL-2KM-11N_540_3748.txt', 'date': datetime.datetime(2024, 2, 13, 21, 25, 24)}, {'name': '20240219_214312_SN28_QUICKVIEW_VISUAL_1_1_10_SATL-2KM-11N_252_3954.txt', 'date': datetime.datetime(2024, 2, 19, 21, 43, 12)}, {'name': '20240201_075140_SN26_QUICKVIEW_VISUAL_1_1_10_SATL-2KM-39N_560_2794.txt', 'date': datetime.datetime(2024, 2, 1, 7, 51, 40)}, {'name': '20240216_213630_SN31_QUICKVIEW_VISUAL_1_1_10_SATL-2KM-11N_418_3724.txt', 'date': datetime.datetime(2024, 2, 16, 21, 36, 30)}, {'name': '20240222_074151_SN26_QUICKVIEW_VISUAL_1_1_10_SATL-2KM-39N_558_2796.txt', 'date': datetime.datetime(2024, 2, 22, 7, 41, 51)}, {'name': '20240201_075140_SN26_QUICKVIEW_VISUAL_1_1_10_SATL-2KM-39N_560_2796.txt', 'date': datetime.datetime(2024, 2, 1, 7, 51, 40)}, {'name': '20240208_184650_SN24_QUICKVIEW_VISUAL_1_1_10_SATL-2KM-11N_624_3632.txt', 'date': datetime.datetime(2024, 2, 8, 18, 46, 50)}, {'name': '20240214_184340_SN24_QUICKVIEW_VISUAL_1_1_10_SATL-2KM-11N_688_3630.txt', 'date': datetime.datetime(2024, 2, 14, 18, 43, 40)}, {'name': '20240212_213506_SN31_QUICKVIEW_VISUAL_1_1_10_SATL-2KM-11N_408_3712.txt', 'date': datetime.datetime(2024, 2, 12, 21, 35, 6)}, {'name': '20240222_074155_SN26_QUICKVIEW_VISUAL_1_1_10_SATL-2KM-39N_560_2792.txt', 'date': datetime.datetime(2024, 2, 22, 7, 41, 55)}, {'name': '20240222_212250_SN30_QUICKVIEW_VISUAL_1_1_10_SATL-2KM-11N_382_3722.txt', 'date': datetime.datetime(2024, 2, 22, 21, 22, 50)}, {'name': '20240221_190608_SN26_QUICKVIEW_VISUAL_1_1_10_SATL-2KM-11N_380_3764.txt', 'date': datetime.datetime(2024, 2, 21, 19, 6, 8)}, {'name': '20240209_212744_SN29_QUICKVIEW_VISUAL_1_1_10_SATL-2KM-11N_380_3722.txt', 'date': datetime.datetime(2024, 2, 9, 21, 27, 44)}, {'name': '20240222_074151_SN26_QUICKVIEW_VISUAL_1_1_10_SATL-2KM-39N_556_2794.txt', 'date': datetime.datetime(2024, 2, 22, 7, 41, 51)}, {'name': '20240202_191114_SN27_QUICKVIEW_VISUAL_1_1_10_SATL-2KM-11N_718_3608.txt', 'date': datetime.datetime(2024, 2, 2, 19, 11, 14)}, {'name': '20240202_184725_SN24_QUICKVIEW_VISUAL_1_1_10_SATL-2KM-11N_624_3630.txt', 'date': datetime.datetime(2024, 2, 2, 18, 47, 25)}, {'name': '20240222_074151_SN26_QUICKVIEW_VISUAL_1_1_10_SATL-2KM-39N_562_2794.txt', 'date': datetime.datetime(2024, 2, 22, 7, 41, 51)}, {'name': '20240224_214855_SN30_QUICKVIEW_VISUAL_1_1_10_SATL-2KM-10N_552_4162.txt', 'date': datetime.datetime(2024, 2, 24, 21, 48, 55)}, {'name': '20240227_214218_SN30_QUICKVIEW_VISUAL_1_1_10_SATL-2KM-10N_562_4170.txt', 'date': datetime.datetime(2024, 2, 27, 21, 42, 18)}, {'name': '20240201_075140_SN26_QUICKVIEW_VISUAL_1_1_10_SATL-2KM-39N_556_2794.txt', 'date': datetime.datetime(2024, 2, 1, 7, 51, 40)}, {'name': '20240222_074155_SN26_QUICKVIEW_VISUAL_1_1_10_SATL-2KM-39N_558_2794.txt', 'date': datetime.datetime(2024, 2, 22, 7, 41, 55)}, {'name': '20240211_211057_SN30_QUICKVIEW_VISUAL_1_1_10_SATL-2KM-11N_700_3690.txt', 'date': datetime.datetime(2024, 2, 11, 21, 10, 57)}, {'name': '20240201_075140_SN26_QUICKVIEW_VISUAL_1_1_10_SATL-2KM-39N_562_2794.txt', 'date': datetime.datetime(2024, 2, 1, 7, 51, 40)}, {'name': '20240201_075143_SN26_QUICKVIEW_VISUAL_1_1_10_SATL-2KM-39N_562_2788.txt', 'date': datetime.datetime(2024, 2, 1, 7, 51, 43)}, {'name': '20240224_214855_SN30_QUICKVIEW_VISUAL_1_1_10_SATL-2KM-10N_554_4162.txt', 'date': datetime.datetime(2024, 2, 24, 21, 48, 55)}, {'name': '20240203_173953_SN33_QUICKVIEW_VISUAL_1_1_10_SATL-2KM-11N_366_3756.txt', 'date': datetime.datetime(2024, 2, 3, 17, 39, 53)}, {'name': '20240201_075140_SN26_QUICKVIEW_VISUAL_1_1_10_SATL-2KM-39N_556_2792.txt', 'date': datetime.datetime(2024, 2, 1, 7, 51, 40)}, {'name': '20240201_075140_SN26_QUICKVIEW_VISUAL_1_1_10_SATL-2KM-39N_562_2792.txt', 'date': datetime.datetime(2024, 2, 1, 7, 51, 40)}], '2024-03': [{'name': '20240322_212516_SN28_QUICKVIEW_VISUAL_1_2_0_SATL-2KM-11N_502_3600.txt', 'date': datetime.datetime(2024, 3, 22, 21, 25, 16)}, {'name': '20240317_221229_SN31_QUICKVIEW_VISUAL_1_2_0_SATL-2KM-10N_556_4176.txt', 'date': datetime.datetime(2024, 3, 17, 22, 12, 29)}, {'name': '20240316_191451_SN26_QUICKVIEW_VISUAL_1_2_0_SATL-2KM-11N_380_3764.txt', 'date': datetime.datetime(2024, 3, 16, 19, 14, 51)}, {'name': '20240324_180232_SN33_QUICKVIEW_VISUAL_1_2_0_SATL-2KM-10N_554_4172.txt', 'date': datetime.datetime(2024, 3, 24, 18, 2, 32)}, {'name': '20240317_215115_SN28_QUICKVIEW_VISUAL_1_2_0_SATL-2KM-10N_554_4162.txt', 'date': datetime.datetime(2024, 3, 17, 21, 51, 15)}, {'name': '20240325_173936_SN33_QUICKVIEW_VISUAL_1_2_0_SATL-2KM-11N_378_3722.txt', 'date': datetime.datetime(2024, 3, 25, 17, 39, 36)}, {'name': '20240304_212824_SN30_QUICKVIEW_VISUAL_1_2_0_SATL-2KM-11N_378_3722.txt', 'date': datetime.datetime(2024, 3, 4, 21, 28, 24)}, {'name': '20240314_220020_SN30_QUICKVIEW_VISUAL_1_2_0_SATL-2KM-10N_544_4186.txt', 'date': datetime.datetime(2024, 3, 14, 22, 0, 20)}, {'name': '20240322_184801_SN24_QUICKVIEW_VISUAL_1_2_0_SATL-2KM-11N_500_3632.txt', 'date': datetime.datetime(2024, 3, 22, 18, 48, 1)}, {'name': '20240308_211248_SN29_QUICKVIEW_VISUAL_1_2_0_SATL-2KM-11N_718_3640.txt', 'date': datetime.datetime(2024, 3, 8, 21, 12, 48)}, {'name': '20240317_215115_SN28_QUICKVIEW_VISUAL_1_2_0_SATL-2KM-10N_552_4162.txt', 'date': datetime.datetime(2024, 3, 17, 21, 51, 15)}, {'name': '20240314_220020_SN30_QUICKVIEW_VISUAL_1_2_0_SATL-2KM-10N_550_4202.txt', 'date': datetime.datetime(2024, 3, 14, 22, 0, 20)}, {'name': '20240317_215115_SN28_QUICKVIEW_VISUAL_1_2_0_SATL-2KM-10N_552_4164.txt', 'date': datetime.datetime(2024, 3, 17, 21, 51, 15)}, {'name': '20240308_191212_SN27_QUICKVIEW_VISUAL_1_2_0_SATL-2KM-11N_506_3614.txt', 'date': datetime.datetime(2024, 3, 8, 19, 12, 12)}, {'name': '20240321_220846_SN31_QUICKVIEW_VISUAL_1_2_0_SATL-2KM-10N_560_4178.txt', 'date': datetime.datetime(2024, 3, 21, 22, 8, 46)}, {'name': '20240322_184801_SN24_QUICKVIEW_VISUAL_1_2_0_SATL-2KM-11N_502_3632.txt', 'date': datetime.datetime(2024, 3, 22, 18, 48, 1)}, {'name': '20240321_190819_SN27_QUICKVIEW_VISUAL_1_2_0_SATL-2KM-11N_714_3632.txt', 'date': datetime.datetime(2024, 3, 21, 19, 8, 19)}], '2024-05': [{'name': '20240506_192008_SN26_QUICKVIEW_VISUAL_1_5_0_SATL-2KM-10N_562_4178.txt', 'date': datetime.datetime(2024, 5, 6, 19, 20, 8)}, {'name': '20240521_052621_SN43_QUICKVIEW_VISUAL_1_6_0_SATL-2KM-51N_730_4342.txt', 'date': datetime.datetime(2024, 5, 21, 5, 26, 21)}, {'name': '20240508_194502_SN27_QUICKVIEW_VISUAL_1_5_0_SATL-2KM-11N_264_4022.txt', 'date': datetime.datetime(2024, 5, 8, 19, 45, 2)}, {'name': '20240519_191838_SN27_QUICKVIEW_VISUAL_1_5_0_SATL-2KM-11N_718_3608.txt', 'date': datetime.datetime(2024, 5, 19, 19, 18, 38)}, {'name': '20240528_191448_SN24_QUICKVIEW_VISUAL_1_6_0_SATL-2KM-11N_248_4068.txt', 'date': datetime.datetime(2024, 5, 28, 19, 14, 48)}, {'name': '20240509_193206_SN26_QUICKVIEW_VISUAL_1_5_0_SATL-2KM-10N_562_4196.txt', 'date': datetime.datetime(2024, 5, 9, 19, 32, 6)}, {'name': '20240516_211630_SN28_QUICKVIEW_VISUAL_1_5_0_SATL-2KM-11N_716_3848.txt', 'date': datetime.datetime(2024, 5, 16, 21, 16, 30)}, {'name': '20240514_052716_SN43_QUICKVIEW_VISUAL_1_5_0_SATL-2KM-51N_730_4342.txt', 'date': datetime.datetime(2024, 5, 14, 5, 27, 16)}, {'name': '20240503_214759_SN28_QUICKVIEW_VISUAL_1_5_0_SATL-2KM-11N_376_3724.txt', 'date': datetime.datetime(2024, 5, 3, 21, 47, 59)}, {'name': '20240519_184534_SN24_QUICKVIEW_VISUAL_1_5_0_SATL-2KM-11N_658_3700.txt', 'date': datetime.datetime(2024, 5, 19, 18, 45, 34)}, {'name': '20240521_101252_SN43_QUICKVIEW_VISUAL_1_6_0_SATL-2KM-39N_556_2792.txt', 'date': datetime.datetime(2024, 5, 21, 10, 12, 52)}, {'name': '20240510_191914_SN27_QUICKVIEW_VISUAL_1_5_0_SATL-2KM-11N_712_3566.txt', 'date': datetime.datetime(2024, 5, 10, 19, 19, 14)}, {'name': '20240528_191604_SN24_QUICKVIEW_VISUAL_1_6_0_SATL-2KM-11N_344_3836.txt', 'date': datetime.datetime(2024, 5, 28, 19, 16, 4)}, {'name': '20240509_212336_SN29_QUICKVIEW_VISUAL_1_5_0_SATL-2KM-11N_706_3778.txt', 'date': datetime.datetime(2024, 5, 9, 21, 23, 36)}, {'name': '20240508_194502_SN27_QUICKVIEW_VISUAL_1_5_0_SATL-2KM-11N_262_4022.txt', 'date': datetime.datetime(2024, 5, 8, 19, 45, 2)}, {'name': '20240519_214917_SN31_QUICKVIEW_VISUAL_1_5_0_SATL-2KM-11N_500_3600.txt', 'date': datetime.datetime(2024, 5, 19, 21, 49, 17)}, {'name': '20240513_212022_SN29_QUICKVIEW_VISUAL_1_5_0_SATL-2KM-11N_630_3742.txt', 'date': datetime.datetime(2024, 5, 13, 21, 20, 22)}, {'name': '20240516_190328_SN24_QUICKVIEW_VISUAL_1_5_0_SATL-2KM-11N_262_4052.txt', 'date': datetime.datetime(2024, 5, 16, 19, 3, 28)}, {'name': '20240519_214917_SN31_QUICKVIEW_VISUAL_1_5_0_SATL-2KM-11N_500_3602.txt', 'date': datetime.datetime(2024, 5, 19, 21, 49, 17)}, {'name': '20240521_101252_SN43_QUICKVIEW_VISUAL_1_6_0_SATL-2KM-39N_558_2796.txt', 'date': datetime.datetime(2024, 5, 21, 10, 12, 52)}, {'name': '20240510_191908_SN27_QUICKVIEW_VISUAL_1_5_0_SATL-2KM-11N_718_3608.txt', 'date': datetime.datetime(2024, 5, 10, 19, 19, 8)}, {'name': '20240519_214917_SN31_QUICKVIEW_VISUAL_1_5_0_SATL-2KM-11N_500_3598.txt', 'date': datetime.datetime(2024, 5, 19, 21, 49, 17)}, {'name': '20240524_213504_SN29_QUICKVIEW_VISUAL_1_6_0_SATL-2KM-11N_380_3724.txt', 'date': datetime.datetime(2024, 5, 24, 21, 35, 4)}, {'name': '20240506_213507_SN43_QUICKVIEW_VISUAL_1_5_0_SATL-2KM-11N_384_3750.txt', 'date': datetime.datetime(2024, 5, 6, 21, 35, 7)}, {'name': '20240520_194539_SN27_QUICKVIEW_VISUAL_1_5_0_SATL-2KM-10N_638_4280.txt', 'date': datetime.datetime(2024, 5, 20, 19, 45, 39)}, {'name': '20240520_194539_SN27_QUICKVIEW_VISUAL_1_5_0_SATL-2KM-10N_638_4282.txt', 'date': datetime.datetime(2024, 5, 20, 19, 45, 39)}, {'name': '20240524_213504_SN29_QUICKVIEW_VISUAL_1_6_0_SATL-2KM-11N_378_3724.txt', 'date': datetime.datetime(2024, 5, 24, 21, 35, 4)}, {'name': '20240507_191326_SN27_QUICKVIEW_VISUAL_1_5_0_SATL-2KM-11N_718_3608.txt', 'date': datetime.datetime(2024, 5, 7, 19, 13, 26)}]}\n"
     ]
    }
   ],
   "source": [
    "#2. Create a dictionary where each **key** is a month, and the corresponding **value** is a list containing all the annotation names with where their date corresponds to the month. \n",
    "#   a. Save it following the json format, and load it again to check that everything is ok.\n",
    "#   b. Save it this time using Pickle.\n",
    "#   c. Instead of storing a list of all the annotation names happening that month, let's create for each annotation a dictionary with keys: name and date (using a datetime object).\n",
    "\n",
    "\n",
    "import json\n",
    "import pickle\n",
    "\n",
    "pattern = r'(\\d{8})_(\\d{6})_SN(\\d+)_QUICKVIEW_VISUAL_([\\d_]+)_([A-Za-z0-9\\-_.]+)\\.txt' \n",
    "annotations = glob.glob('session_4/annotations/*.txt')\n",
    "\n",
    "monthly_annotations = {}\n",
    "\n",
    "\n",
    "for annotation in annotations:\n",
    "    filename = os.path.basename(annotation)\n",
    "    match = re.match(pattern, filename)\n",
    "    if match:\n",
    "        date, time, _, _, _ = match.groups()\n",
    "        datetime_str = date + time\n",
    "        datetime_obj = datetime.strptime(datetime_str, \"%Y%m%d%H%M%S\")\n",
    "        \n",
    "        year_month = datetime_obj.strftime(\"%Y-%m\")\n",
    "        \n",
    "        if year_month not in monthly_annotations:\n",
    "            monthly_annotations[year_month] = []\n",
    "        monthly_annotations[year_month].append(filename)\n",
    "\n",
    "with open('monthly_annotations.json', 'w') as json_file:\n",
    "    json.dump(monthly_annotations, json_file)\n",
    "\n",
    "with open('monthly_annotations.json', 'r') as json_file:\n",
    "    loaded_json = json.load(json_file)\n",
    "print(\"JSON:\", loaded_json)\n",
    "\n",
    "with open('monthly_annotations.pkl', 'wb') as pickle_file:\n",
    "    pickle.dump(monthly_annotations, pickle_file)\n",
    "\n",
    "with open('monthly_annotations.pkl', 'rb') as pickle_file:\n",
    "    loaded_pickle = pickle.load(pickle_file)\n",
    "print(\"Pickle:\", loaded_pickle)\n",
    "\n",
    "monthly_annotations_detailed = {}\n",
    "for annotation in annotations:\n",
    "    filename = os.path.basename(annotation)\n",
    "    match = re.match(pattern, filename)\n",
    "    if match:\n",
    "        date, time, _, _, _ = match.groups()\n",
    "        datetime_str = date + time\n",
    "        datetime_obj = datetime.strptime(datetime_str, \"%Y%m%d%H%M%S\")\n",
    "        \n",
    "        year_month = datetime_obj.strftime(\"%Y-%m\")\n",
    "        \n",
    "        annotation_info = {\"name\": filename, \"date\": datetime_obj}\n",
    "        \n",
    "        if year_month not in monthly_annotations_detailed:\n",
    "            monthly_annotations_detailed[year_month] = []\n",
    "        monthly_annotations_detailed[year_month].append(annotation_info)\n",
    "\n",
    "print(\"Monthly Annotations:\", monthly_annotations_detailed)"
   ]
  },
  {
   "cell_type": "code",
   "execution_count": 74,
   "id": "2a4c9ac1",
   "metadata": {},
   "outputs": [
    {
     "data": {
      "text/plain": [
       "array([('20240623_215120_SN29_QUICKVIEW_VISUAL_1_7_0_SATL-2KM-10N_596_4134.txt', '2024-06-23T21:51:20'),\n",
       "       ('20240623_215102_SN43_QUICKVIEW_VISUAL_1_7_0_SATL-2KM-11N_384_3750.txt', '2024-06-23T21:51:02'),\n",
       "       ('20240623_193704_SN27_QUICKVIEW_VISUAL_1_7_0_SATL-2KM-11N_566_3734.txt', '2024-06-23T19:37:04'),\n",
       "       ('20240619_215556_SN29_QUICKVIEW_VISUAL_1_7_0_SATL-2KM-10N_742_4460.txt', '2024-06-19T21:55:56'),\n",
       "       ('20240619_185757_SN24_QUICKVIEW_VISUAL_1_7_0_SATL-2KM-11N_528_3700.txt', '2024-06-19T18:57:57'),\n",
       "       ('20240619_052401_SN30_QUICKVIEW_VISUAL_1_7_0_SATL-2KM-52N_368_4336.txt', '2024-06-19T05:24:01'),\n",
       "       ('20240618_215539_SN31_QUICKVIEW_VISUAL_1_7_0_SATL-2KM-11N_458_3756.txt', '2024-06-18T21:55:39'),\n",
       "       ('20240618_215539_SN31_QUICKVIEW_VISUAL_1_7_0_SATL-2KM-11N_452_3740.txt', '2024-06-18T21:55:39'),\n",
       "       ('20240618_193146_SN27_QUICKVIEW_VISUAL_1_7_0_SATL-2KM-11N_530_3682.txt', '2024-06-18T19:31:46'),\n",
       "       ('20240617_211350_SN29_QUICKVIEW_VISUAL_1_7_0_SATL-2KM-11N_724_3614.txt', '2024-06-17T21:13:50'),\n",
       "       ('20240617_184443_SN24_QUICKVIEW_VISUAL_1_7_0_SATL-2KM-11N_702_3566.txt', '2024-06-17T18:44:43'),\n",
       "       ('20240617_052859_SN29_QUICKVIEW_VISUAL_1_7_0_SATL-2KM-51N_730_4348.txt', '2024-06-17T05:28:59'),\n",
       "       ('20240616_213053_SN30_QUICKVIEW_VISUAL_1_7_0_SATL-2KM-11N_460_3792.txt', '2024-06-16T21:30:53'),\n",
       "       ('20240616_213047_SN30_QUICKVIEW_VISUAL_1_7_0_SATL-2KM-11N_466_3828.txt', '2024-06-16T21:30:47'),\n",
       "       ('20240616_213047_SN30_QUICKVIEW_VISUAL_1_7_0_SATL-2KM-11N_466_3826.txt', '2024-06-16T21:30:47'),\n",
       "       ('20240616_213047_SN30_QUICKVIEW_VISUAL_1_7_0_SATL-2KM-11N_464_3830.txt', '2024-06-16T21:30:47'),\n",
       "       ('20240616_213047_SN30_QUICKVIEW_VISUAL_1_7_0_SATL-2KM-11N_464_3828.txt', '2024-06-16T21:30:47'),\n",
       "       ('20240616_102144_SN28_QUICKVIEW_VISUAL_1_7_0_SATL-2KM-39N_560_2792.txt', '2024-06-16T10:21:44'),\n",
       "       ('20240616_102144_SN28_QUICKVIEW_VISUAL_1_7_0_SATL-2KM-39N_558_2794.txt', '2024-06-16T10:21:44'),\n",
       "       ('20240616_102144_SN28_QUICKVIEW_VISUAL_1_7_0_SATL-2KM-39N_556_2794.txt', '2024-06-16T10:21:44'),\n",
       "       ('20240616_081345_SN27_QUICKVIEW_VISUAL_1_7_0_SATL-2KM-39N_562_2794.txt', '2024-06-16T08:13:45'),\n",
       "       ('20240616_081345_SN27_QUICKVIEW_VISUAL_1_7_0_SATL-2KM-39N_562_2792.txt', '2024-06-16T08:13:45'),\n",
       "       ('20240616_081345_SN27_QUICKVIEW_VISUAL_1_7_0_SATL-2KM-39N_560_2794.txt', '2024-06-16T08:13:45'),\n",
       "       ('20240616_081345_SN27_QUICKVIEW_VISUAL_1_7_0_SATL-2KM-39N_560_2792.txt', '2024-06-16T08:13:45'),\n",
       "       ('20240615_173631_SN33_QUICKVIEW_VISUAL_1_7_0_SATL-2KM-11N_546_3742.txt', '2024-06-15T17:36:31'),\n",
       "       ('20240614_221436_SN31_QUICKVIEW_VISUAL_1_7_0_SATL-2KM-10N_558_4184.txt', '2024-06-14T22:14:36'),\n",
       "       ('20240613_214203_SN43_QUICKVIEW_VISUAL_1_7_0_SATL-2KM-11N_384_3750.txt', '2024-06-13T21:42:03'),\n",
       "       ('20240613_192217_SN26_QUICKVIEW_VISUAL_1_7_0_SATL-2KM-10N_560_4178.txt', '2024-06-13T19:22:17'),\n",
       "       ('20240613_053340_SN29_QUICKVIEW_VISUAL_1_7_0_SATL-2KM-51N_730_4342.txt', '2024-06-13T05:33:40'),\n",
       "       ('20240613_053340_SN29_QUICKVIEW_VISUAL_1_7_0_SATL-2KM-51N_728_4342.txt', '2024-06-13T05:33:40'),\n",
       "       ('20240612_185419_SN24_QUICKVIEW_VISUAL_1_7_0_SATL-2KM-11N_554_3610.txt', '2024-06-12T18:54:19'),\n",
       "       ('20240612_185400_SN24_QUICKVIEW_VISUAL_1_7_0_SATL-2KM-11N_578_3722.txt', '2024-06-12T18:54:00'),\n",
       "       ('20240612_185400_SN24_QUICKVIEW_VISUAL_1_7_0_SATL-2KM-11N_576_3720.txt', '2024-06-12T18:54:00'),\n",
       "       ('20240612_185400_SN24_QUICKVIEW_VISUAL_1_7_0_SATL-2KM-11N_574_3714.txt', '2024-06-12T18:54:00'),\n",
       "       ('20240612_053829_SN28_QUICKVIEW_VISUAL_1_7_0_SATL-2KM-51N_688_4420.txt', '2024-06-12T05:38:29'),\n",
       "       ('20240612_053829_SN28_QUICKVIEW_VISUAL_1_7_0_SATL-2KM-51N_686_4422.txt', '2024-06-12T05:38:29'),\n",
       "       ('20240611_215323_SN30_QUICKVIEW_VISUAL_1_7_0_SATL-2KM-10N_702_3948.txt', '2024-06-11T21:53:23'),\n",
       "       ('20240611_025943_SN26_QUICKVIEW_VISUAL_1_7_0_SATL-2KM-51N_748_4366.txt', '2024-06-11T02:59:43'),\n",
       "       ('20240611_025943_SN26_QUICKVIEW_VISUAL_1_7_0_SATL-2KM-51N_748_4364.txt', '2024-06-11T02:59:43'),\n",
       "       ('20240610_191018_SN26_QUICKVIEW_VISUAL_1_7_0_SATL-2KM-11N_384_3750.txt', '2024-06-10T19:10:18'),\n",
       "       ('20240609_214259_SN30_QUICKVIEW_VISUAL_1_7_0_SATL-2KM-11N_262_4052.txt', '2024-06-09T21:42:59'),\n",
       "       ('20240609_191959_SN27_QUICKVIEW_VISUAL_1_7_0_SATL-2KM-11N_702_3540.txt', '2024-06-09T19:19:59'),\n",
       "       ('20240609_191744_SN24_QUICKVIEW_VISUAL_1_7_0_SATL-2KM-10N_564_4194.txt', '2024-06-09T19:17:44'),\n",
       "       ('20240608_214614_SN29_QUICKVIEW_VISUAL_1_7_0_SATL-2KM-11N_248_4068.txt', '2024-06-08T21:46:14'),\n",
       "       ('20240607_200250_SN27_QUICKVIEW_VISUAL_1_7_0_SATL-2KM-10N_554_4172.txt', '2024-06-07T20:02:50'),\n",
       "       ('20240606_180251_SN33_QUICKVIEW_VISUAL_1_7_0_SATL-2KM-10N_556_4180.txt', '2024-06-06T18:02:51'),\n",
       "       ('20240605_212717_SN29_QUICKVIEW_VISUAL_1_7_0_SATL-2KM-11N_718_3608.txt', '2024-06-05T21:27:17'),\n",
       "       ('20240604_214955_SN29_QUICKVIEW_VISUAL_1_7_0_SATL-2KM-10N_594_4136.txt', '2024-06-04T21:49:55'),\n",
       "       ('20240603_215348_SN28_QUICKVIEW_VISUAL_1_6_0_SATL-2KM-11N_346_3786.txt', '2024-06-03T21:53:48'),\n",
       "       ('20240603_215226_SN28_QUICKVIEW_VISUAL_1_6_0_SATL-2KM-11N_248_4068.txt', '2024-06-03T21:52:26'),\n",
       "       ('20240602_215203_SN30_QUICKVIEW_VISUAL_1_6_0_SATL-2KM-10N_714_3948.txt', '2024-06-02T21:52:03'),\n",
       "       ('20240602_215203_SN30_QUICKVIEW_VISUAL_1_6_0_SATL-2KM-10N_712_3948.txt', '2024-06-02T21:52:03'),\n",
       "       ('20240528_191604_SN24_QUICKVIEW_VISUAL_1_6_0_SATL-2KM-11N_344_3836.txt', '2024-05-28T19:16:04'),\n",
       "       ('20240528_191448_SN24_QUICKVIEW_VISUAL_1_6_0_SATL-2KM-11N_248_4068.txt', '2024-05-28T19:14:48'),\n",
       "       ('20240524_213504_SN29_QUICKVIEW_VISUAL_1_6_0_SATL-2KM-11N_380_3724.txt', '2024-05-24T21:35:04'),\n",
       "       ('20240524_213504_SN29_QUICKVIEW_VISUAL_1_6_0_SATL-2KM-11N_378_3724.txt', '2024-05-24T21:35:04'),\n",
       "       ('20240521_101252_SN43_QUICKVIEW_VISUAL_1_6_0_SATL-2KM-39N_558_2796.txt', '2024-05-21T10:12:52'),\n",
       "       ('20240521_101252_SN43_QUICKVIEW_VISUAL_1_6_0_SATL-2KM-39N_556_2792.txt', '2024-05-21T10:12:52'),\n",
       "       ('20240521_052621_SN43_QUICKVIEW_VISUAL_1_6_0_SATL-2KM-51N_730_4342.txt', '2024-05-21T05:26:21'),\n",
       "       ('20240520_194539_SN27_QUICKVIEW_VISUAL_1_5_0_SATL-2KM-10N_638_4282.txt', '2024-05-20T19:45:39'),\n",
       "       ('20240520_194539_SN27_QUICKVIEW_VISUAL_1_5_0_SATL-2KM-10N_638_4280.txt', '2024-05-20T19:45:39'),\n",
       "       ('20240519_214917_SN31_QUICKVIEW_VISUAL_1_5_0_SATL-2KM-11N_500_3602.txt', '2024-05-19T21:49:17'),\n",
       "       ('20240519_214917_SN31_QUICKVIEW_VISUAL_1_5_0_SATL-2KM-11N_500_3600.txt', '2024-05-19T21:49:17'),\n",
       "       ('20240519_214917_SN31_QUICKVIEW_VISUAL_1_5_0_SATL-2KM-11N_500_3598.txt', '2024-05-19T21:49:17'),\n",
       "       ('20240519_191838_SN27_QUICKVIEW_VISUAL_1_5_0_SATL-2KM-11N_718_3608.txt', '2024-05-19T19:18:38'),\n",
       "       ('20240519_184534_SN24_QUICKVIEW_VISUAL_1_5_0_SATL-2KM-11N_658_3700.txt', '2024-05-19T18:45:34'),\n",
       "       ('20240516_211630_SN28_QUICKVIEW_VISUAL_1_5_0_SATL-2KM-11N_716_3848.txt', '2024-05-16T21:16:30'),\n",
       "       ('20240516_190328_SN24_QUICKVIEW_VISUAL_1_5_0_SATL-2KM-11N_262_4052.txt', '2024-05-16T19:03:28'),\n",
       "       ('20240514_052716_SN43_QUICKVIEW_VISUAL_1_5_0_SATL-2KM-51N_730_4342.txt', '2024-05-14T05:27:16'),\n",
       "       ('20240513_212022_SN29_QUICKVIEW_VISUAL_1_5_0_SATL-2KM-11N_630_3742.txt', '2024-05-13T21:20:22'),\n",
       "       ('20240510_191914_SN27_QUICKVIEW_VISUAL_1_5_0_SATL-2KM-11N_712_3566.txt', '2024-05-10T19:19:14'),\n",
       "       ('20240510_191908_SN27_QUICKVIEW_VISUAL_1_5_0_SATL-2KM-11N_718_3608.txt', '2024-05-10T19:19:08'),\n",
       "       ('20240509_212336_SN29_QUICKVIEW_VISUAL_1_5_0_SATL-2KM-11N_706_3778.txt', '2024-05-09T21:23:36'),\n",
       "       ('20240509_193206_SN26_QUICKVIEW_VISUAL_1_5_0_SATL-2KM-10N_562_4196.txt', '2024-05-09T19:32:06'),\n",
       "       ('20240508_194502_SN27_QUICKVIEW_VISUAL_1_5_0_SATL-2KM-11N_264_4022.txt', '2024-05-08T19:45:02'),\n",
       "       ('20240508_194502_SN27_QUICKVIEW_VISUAL_1_5_0_SATL-2KM-11N_262_4022.txt', '2024-05-08T19:45:02'),\n",
       "       ('20240507_191326_SN27_QUICKVIEW_VISUAL_1_5_0_SATL-2KM-11N_718_3608.txt', '2024-05-07T19:13:26'),\n",
       "       ('20240506_213507_SN43_QUICKVIEW_VISUAL_1_5_0_SATL-2KM-11N_384_3750.txt', '2024-05-06T21:35:07'),\n",
       "       ('20240506_192008_SN26_QUICKVIEW_VISUAL_1_5_0_SATL-2KM-10N_562_4178.txt', '2024-05-06T19:20:08'),\n",
       "       ('20240503_214759_SN28_QUICKVIEW_VISUAL_1_5_0_SATL-2KM-11N_376_3724.txt', '2024-05-03T21:47:59'),\n",
       "       ('20240428_215557_SN43_QUICKVIEW_VISUAL_1_5_0_SATL-2KM-10N_726_3862.txt', '2024-04-28T21:55:57'),\n",
       "       ('20240428_215426_SN43_QUICKVIEW_VISUAL_1_5_0_SATL-2KM-10N_634_4282.txt', '2024-04-28T21:54:26'),\n",
       "       ('20240428_215426_SN43_QUICKVIEW_VISUAL_1_5_0_SATL-2KM-10N_630_4264.txt', '2024-04-28T21:54:26'),\n",
       "       ('20240428_215426_SN43_QUICKVIEW_VISUAL_1_5_0_SATL-2KM-10N_630_4262.txt', '2024-04-28T21:54:26'),\n",
       "       ('20240428_191026_SN24_QUICKVIEW_VISUAL_1_5_0_SATL-2KM-11N_380_3722.txt', '2024-04-28T19:10:26'),\n",
       "       ('20240427_221308_SN31_QUICKVIEW_VISUAL_1_5_0_SATL-2KM-10N_722_3848.txt', '2024-04-27T22:13:08'),\n",
       "       ('20240426_215224_SN29_QUICKVIEW_VISUAL_1_5_0_SATL-2KM-11N_244_3818.txt', '2024-04-26T21:52:24'),\n",
       "       ('20240423_190101_SN26_QUICKVIEW_VISUAL_1_5_0_SATL-2KM-11N_418_3872.txt', '2024-04-23T19:01:01'),\n",
       "       ('20240423_190101_SN26_QUICKVIEW_VISUAL_1_5_0_SATL-2KM-11N_418_3864.txt', '2024-04-23T19:01:01'),\n",
       "       ('20240423_190101_SN26_QUICKVIEW_VISUAL_1_5_0_SATL-2KM-11N_418_3862.txt', '2024-04-23T19:01:01'),\n",
       "       ('20240423_190101_SN26_QUICKVIEW_VISUAL_1_5_0_SATL-2KM-11N_418_3860.txt', '2024-04-23T19:01:01'),\n",
       "       ('20240423_190101_SN26_QUICKVIEW_VISUAL_1_5_0_SATL-2KM-11N_416_3864.txt', '2024-04-23T19:01:01'),\n",
       "       ('20240423_190101_SN26_QUICKVIEW_VISUAL_1_5_0_SATL-2KM-11N_416_3862.txt', '2024-04-23T19:01:01'),\n",
       "       ('20240423_190101_SN26_QUICKVIEW_VISUAL_1_5_0_SATL-2KM-11N_414_3862.txt', '2024-04-23T19:01:01'),\n",
       "       ('20240402_215427_SN31_QUICKVIEW_VISUAL_1_2_0_SATL-2KM-11N_502_3600.txt', '2024-04-02T21:54:27'),\n",
       "       ('20240402_215421_SN31_QUICKVIEW_VISUAL_1_2_0_SATL-2KM-11N_500_3632.txt', '2024-04-02T21:54:21'),\n",
       "       ('20240402_184757_SN24_QUICKVIEW_VISUAL_1_2_0_SATL-2KM-11N_490_3638.txt', '2024-04-02T18:47:57'),\n",
       "       ('20240402_184757_SN24_QUICKVIEW_VISUAL_1_2_0_SATL-2KM-11N_488_3638.txt', '2024-04-02T18:47:57'),\n",
       "       ('20240402_184757_SN24_QUICKVIEW_VISUAL_1_2_0_SATL-2KM-11N_486_3636.txt', '2024-04-02T18:47:57'),\n",
       "       ('20240402_184757_SN24_QUICKVIEW_VISUAL_1_2_0_SATL-2KM-11N_486_3630.txt', '2024-04-02T18:47:57'),\n",
       "       ('20240401_221819_SN31_QUICKVIEW_VISUAL_1_2_0_SATL-2KM-10N_602_4148.txt', '2024-04-01T22:18:19'),\n",
       "       ('20240401_175925_SN33_QUICKVIEW_VISUAL_1_2_0_SATL-2KM-10N_542_4168.txt', '2024-04-01T17:59:25'),\n",
       "       ('20240401_175918_SN33_QUICKVIEW_VISUAL_1_2_0_SATL-2KM-10N_546_4206.txt', '2024-04-01T17:59:18'),\n",
       "       ('20240401_175918_SN33_QUICKVIEW_VISUAL_1_2_0_SATL-2KM-10N_542_4168.txt', '2024-04-01T17:59:18'),\n",
       "       ('20240401_032415_SN27_QUICKVIEW_VISUAL_1_2_0_SATL-2KM-51N_688_4420.txt', '2024-04-01T03:24:15'),\n",
       "       ('20240325_173936_SN33_QUICKVIEW_VISUAL_1_2_0_SATL-2KM-11N_378_3722.txt', '2024-03-25T17:39:36'),\n",
       "       ('20240324_180232_SN33_QUICKVIEW_VISUAL_1_2_0_SATL-2KM-10N_554_4172.txt', '2024-03-24T18:02:32'),\n",
       "       ('20240322_212516_SN28_QUICKVIEW_VISUAL_1_2_0_SATL-2KM-11N_502_3600.txt', '2024-03-22T21:25:16'),\n",
       "       ('20240322_184801_SN24_QUICKVIEW_VISUAL_1_2_0_SATL-2KM-11N_502_3632.txt', '2024-03-22T18:48:01'),\n",
       "       ('20240322_184801_SN24_QUICKVIEW_VISUAL_1_2_0_SATL-2KM-11N_500_3632.txt', '2024-03-22T18:48:01'),\n",
       "       ('20240321_220846_SN31_QUICKVIEW_VISUAL_1_2_0_SATL-2KM-10N_560_4178.txt', '2024-03-21T22:08:46'),\n",
       "       ('20240321_190819_SN27_QUICKVIEW_VISUAL_1_2_0_SATL-2KM-11N_714_3632.txt', '2024-03-21T19:08:19'),\n",
       "       ('20240317_221229_SN31_QUICKVIEW_VISUAL_1_2_0_SATL-2KM-10N_556_4176.txt', '2024-03-17T22:12:29'),\n",
       "       ('20240317_215115_SN28_QUICKVIEW_VISUAL_1_2_0_SATL-2KM-10N_554_4162.txt', '2024-03-17T21:51:15'),\n",
       "       ('20240317_215115_SN28_QUICKVIEW_VISUAL_1_2_0_SATL-2KM-10N_552_4164.txt', '2024-03-17T21:51:15'),\n",
       "       ('20240317_215115_SN28_QUICKVIEW_VISUAL_1_2_0_SATL-2KM-10N_552_4162.txt', '2024-03-17T21:51:15'),\n",
       "       ('20240316_191451_SN26_QUICKVIEW_VISUAL_1_2_0_SATL-2KM-11N_380_3764.txt', '2024-03-16T19:14:51'),\n",
       "       ('20240314_220020_SN30_QUICKVIEW_VISUAL_1_2_0_SATL-2KM-10N_550_4202.txt', '2024-03-14T22:00:20'),\n",
       "       ('20240314_220020_SN30_QUICKVIEW_VISUAL_1_2_0_SATL-2KM-10N_544_4186.txt', '2024-03-14T22:00:20'),\n",
       "       ('20240308_211248_SN29_QUICKVIEW_VISUAL_1_2_0_SATL-2KM-11N_718_3640.txt', '2024-03-08T21:12:48'),\n",
       "       ('20240308_191212_SN27_QUICKVIEW_VISUAL_1_2_0_SATL-2KM-11N_506_3614.txt', '2024-03-08T19:12:12'),\n",
       "       ('20240304_212824_SN30_QUICKVIEW_VISUAL_1_2_0_SATL-2KM-11N_378_3722.txt', '2024-03-04T21:28:24'),\n",
       "       ('20240228_213951_SN29_QUICKVIEW_VISUAL_1_1_10_SATL-2KM-11N_248_4068.txt', '2024-02-28T21:39:51'),\n",
       "       ('20240227_214218_SN30_QUICKVIEW_VISUAL_1_1_10_SATL-2KM-10N_562_4170.txt', '2024-02-27T21:42:18'),\n",
       "       ('20240224_214855_SN30_QUICKVIEW_VISUAL_1_1_10_SATL-2KM-10N_554_4162.txt', '2024-02-24T21:48:55'),\n",
       "       ('20240224_214855_SN30_QUICKVIEW_VISUAL_1_1_10_SATL-2KM-10N_552_4162.txt', '2024-02-24T21:48:55'),\n",
       "       ('20240223_025420_SN24_QUICKVIEW_VISUAL_1_1_10_SATL-2KM-51N_686_4422.txt', '2024-02-23T02:54:20'),\n",
       "       ('20240222_212250_SN30_QUICKVIEW_VISUAL_1_1_10_SATL-2KM-11N_382_3722.txt', '2024-02-22T21:22:50'),\n",
       "       ('20240222_074256_SN26_QUICKVIEW_VISUAL_1_1_10_SATL-2KM-39N_564_2790.txt', '2024-02-22T07:42:56'),\n",
       "       ('20240222_074155_SN26_QUICKVIEW_VISUAL_1_1_10_SATL-2KM-39N_562_2794.txt', '2024-02-22T07:41:55'),\n",
       "       ('20240222_074155_SN26_QUICKVIEW_VISUAL_1_1_10_SATL-2KM-39N_562_2792.txt', '2024-02-22T07:41:55'),\n",
       "       ('20240222_074155_SN26_QUICKVIEW_VISUAL_1_1_10_SATL-2KM-39N_560_2792.txt', '2024-02-22T07:41:55'),\n",
       "       ('20240222_074155_SN26_QUICKVIEW_VISUAL_1_1_10_SATL-2KM-39N_558_2794.txt', '2024-02-22T07:41:55'),\n",
       "       ('20240222_074155_SN26_QUICKVIEW_VISUAL_1_1_10_SATL-2KM-39N_556_2794.txt', '2024-02-22T07:41:55'),\n",
       "       ('20240222_074155_SN26_QUICKVIEW_VISUAL_1_1_10_SATL-2KM-39N_556_2792.txt', '2024-02-22T07:41:55'),\n",
       "       ('20240222_074151_SN26_QUICKVIEW_VISUAL_1_1_10_SATL-2KM-39N_562_2794.txt', '2024-02-22T07:41:51'),\n",
       "       ('20240222_074151_SN26_QUICKVIEW_VISUAL_1_1_10_SATL-2KM-39N_560_2796.txt', '2024-02-22T07:41:51'),\n",
       "       ('20240222_074151_SN26_QUICKVIEW_VISUAL_1_1_10_SATL-2KM-39N_560_2794.txt', '2024-02-22T07:41:51'),\n",
       "       ('20240222_074151_SN26_QUICKVIEW_VISUAL_1_1_10_SATL-2KM-39N_558_2796.txt', '2024-02-22T07:41:51'),\n",
       "       ('20240222_074151_SN26_QUICKVIEW_VISUAL_1_1_10_SATL-2KM-39N_556_2794.txt', '2024-02-22T07:41:51'),\n",
       "       ('20240221_190608_SN26_QUICKVIEW_VISUAL_1_1_10_SATL-2KM-11N_380_3764.txt', '2024-02-21T19:06:08'),\n",
       "       ('20240220_190455_SN27_QUICKVIEW_VISUAL_1_1_10_SATL-2KM-11N_718_3608.txt', '2024-02-20T19:04:55'),\n",
       "       ('20240219_214312_SN28_QUICKVIEW_VISUAL_1_1_10_SATL-2KM-11N_252_3954.txt', '2024-02-19T21:43:12'),\n",
       "       ('20240218_180121_SN33_QUICKVIEW_VISUAL_1_1_10_SATL-2KM-10N_568_4176.txt', '2024-02-18T18:01:21'),\n",
       "       ('20240216_213630_SN31_QUICKVIEW_VISUAL_1_1_10_SATL-2KM-11N_418_3724.txt', '2024-02-16T21:36:30'),\n",
       "       ('20240214_184340_SN24_QUICKVIEW_VISUAL_1_1_10_SATL-2KM-11N_688_3630.txt', '2024-02-14T18:43:40'),\n",
       "       ('20240213_212524_SN29_QUICKVIEW_VISUAL_1_1_10_SATL-2KM-11N_544_3742.txt', '2024-02-13T21:25:24'),\n",
       "       ('20240213_212524_SN29_QUICKVIEW_VISUAL_1_1_10_SATL-2KM-11N_542_3750.txt', '2024-02-13T21:25:24'),\n",
       "       ('20240213_212524_SN29_QUICKVIEW_VISUAL_1_1_10_SATL-2KM-11N_540_3748.txt', '2024-02-13T21:25:24'),\n",
       "       ('20240212_213506_SN31_QUICKVIEW_VISUAL_1_1_10_SATL-2KM-11N_408_3712.txt', '2024-02-12T21:35:06'),\n",
       "       ('20240211_211057_SN30_QUICKVIEW_VISUAL_1_1_10_SATL-2KM-11N_700_3690.txt', '2024-02-11T21:10:57'),\n",
       "       ('20240209_212744_SN29_QUICKVIEW_VISUAL_1_1_10_SATL-2KM-11N_380_3722.txt', '2024-02-09T21:27:44'),\n",
       "       ('20240208_184650_SN24_QUICKVIEW_VISUAL_1_1_10_SATL-2KM-11N_624_3632.txt', '2024-02-08T18:46:50'),\n",
       "       ('20240203_173953_SN33_QUICKVIEW_VISUAL_1_1_10_SATL-2KM-11N_368_3756.txt', '2024-02-03T17:39:53'),\n",
       "       ('20240203_173953_SN33_QUICKVIEW_VISUAL_1_1_10_SATL-2KM-11N_366_3756.txt', '2024-02-03T17:39:53'),\n",
       "       ('20240202_191114_SN27_QUICKVIEW_VISUAL_1_1_10_SATL-2KM-11N_718_3608.txt', '2024-02-02T19:11:14'),\n",
       "       ('20240202_184725_SN24_QUICKVIEW_VISUAL_1_1_10_SATL-2KM-11N_624_3630.txt', '2024-02-02T18:47:25'),\n",
       "       ('20240201_075143_SN26_QUICKVIEW_VISUAL_1_1_10_SATL-2KM-39N_562_2788.txt', '2024-02-01T07:51:43'),\n",
       "       ('20240201_075143_SN26_QUICKVIEW_VISUAL_1_1_10_SATL-2KM-39N_556_2792.txt', '2024-02-01T07:51:43'),\n",
       "       ('20240201_075140_SN26_QUICKVIEW_VISUAL_1_1_10_SATL-2KM-39N_562_2794.txt', '2024-02-01T07:51:40'),\n",
       "       ('20240201_075140_SN26_QUICKVIEW_VISUAL_1_1_10_SATL-2KM-39N_562_2792.txt', '2024-02-01T07:51:40'),\n",
       "       ('20240201_075140_SN26_QUICKVIEW_VISUAL_1_1_10_SATL-2KM-39N_560_2796.txt', '2024-02-01T07:51:40'),\n",
       "       ('20240201_075140_SN26_QUICKVIEW_VISUAL_1_1_10_SATL-2KM-39N_560_2794.txt', '2024-02-01T07:51:40'),\n",
       "       ('20240201_075140_SN26_QUICKVIEW_VISUAL_1_1_10_SATL-2KM-39N_560_2792.txt', '2024-02-01T07:51:40'),\n",
       "       ('20240201_075140_SN26_QUICKVIEW_VISUAL_1_1_10_SATL-2KM-39N_558_2794.txt', '2024-02-01T07:51:40'),\n",
       "       ('20240201_075140_SN26_QUICKVIEW_VISUAL_1_1_10_SATL-2KM-39N_556_2794.txt', '2024-02-01T07:51:40'),\n",
       "       ('20240201_075140_SN26_QUICKVIEW_VISUAL_1_1_10_SATL-2KM-39N_556_2792.txt', '2024-02-01T07:51:40'),\n",
       "       ('20240130_215036_SN31_QUICKVIEW_VISUAL_1_1_10_SATL-2KM-11N_366_3756.txt', '2024-01-30T21:50:36'),\n",
       "       ('20240130_173903_SN33_QUICKVIEW_VISUAL_1_1_10_SATL-2KM-11N_366_3756.txt', '2024-01-30T17:39:03'),\n",
       "       ('20240130_173903_SN33_QUICKVIEW_VISUAL_1_1_10_SATL-2KM-11N_364_3754.txt', '2024-01-30T17:39:03'),\n",
       "       ('20240130_173903_SN33_QUICKVIEW_VISUAL_1_1_10_SATL-2KM-11N_360_3748.txt', '2024-01-30T17:39:03'),\n",
       "       ('20240128_213258_SN29_QUICKVIEW_VISUAL_1_1_10_SATL-2KM-11N_418_3864.txt', '2024-01-28T21:32:58'),\n",
       "       ('20240128_213258_SN29_QUICKVIEW_VISUAL_1_1_10_SATL-2KM-11N_418_3862.txt', '2024-01-28T21:32:58'),\n",
       "       ('20240127_190620_SN27_QUICKVIEW_VISUAL_1_1_10_SATL-2KM-11N_502_3602.txt', '2024-01-27T19:06:20'),\n",
       "       ('20240127_190620_SN27_QUICKVIEW_VISUAL_1_1_10_SATL-2KM-11N_502_3600.txt', '2024-01-27T19:06:20'),\n",
       "       ('20240127_190620_SN27_QUICKVIEW_VISUAL_1_1_10_SATL-2KM-11N_500_3602.txt', '2024-01-27T19:06:20'),\n",
       "       ('20240127_190620_SN27_QUICKVIEW_VISUAL_1_1_10_SATL-2KM-11N_500_3600.txt', '2024-01-27T19:06:20'),\n",
       "       ('20240126_173752_SN33_QUICKVIEW_VISUAL_1_1_10_SATL-2KM-11N_386_3722.txt', '2024-01-26T17:37:52'),\n",
       "       ('20240115_213834_SN28_QUICKVIEW_VISUAL_1_1_10_SATL-2KM-11N_380_3724.txt', '2024-01-15T21:38:34'),\n",
       "       ('20240115_213834_SN28_QUICKVIEW_VISUAL_1_1_10_SATL-2KM-11N_376_3722.txt', '2024-01-15T21:38:34'),\n",
       "       ('20240112_192510_SN27_QUICKVIEW_VISUAL_1_1_10_SATL-2KM-11N_386_3750.txt', '2024-01-12T19:25:10'),\n",
       "       ('20240110_192002_SN27_QUICKVIEW_VISUAL_1_1_10_SATL-2KM-11N_380_3728.txt', '2024-01-10T19:20:02'),\n",
       "       ('20240104_220339_SN31_QUICKVIEW_VISUAL_1_1_10_SATL-2KM-10N_556_4178.txt', '2024-01-04T22:03:39'),\n",
       "       ('20240102_185954_SN24_QUICKVIEW_VISUAL_1_1_10_SATL-2KM-11N_414_3786.txt', '2024-01-02T18:59:54'),\n",
       "       ('20240102_185605_SN27_QUICKVIEW_VISUAL_1_1_10_SATL-2KM-11N_690_3572.txt', '2024-01-02T18:56:05'),\n",
       "       ('20240102_185527_SN27_QUICKVIEW_VISUAL_1_1_10_SATL-2KM-11N_740_3850.txt', '2024-01-02T18:55:27'),\n",
       "       ('20240101_213601_SN31_QUICKVIEW_VISUAL_1_1_10_SATL-2KM-11N_396_3752.txt', '2024-01-01T21:36:01'),\n",
       "       ('20240101_213601_SN31_QUICKVIEW_VISUAL_1_1_10_SATL-2KM-11N_392_3742.txt', '2024-01-01T21:36:01'),\n",
       "       ('20240101_213601_SN31_QUICKVIEW_VISUAL_1_1_10_SATL-2KM-11N_392_3740.txt', '2024-01-01T21:36:01'),\n",
       "       ('20240101_192856_SN24_QUICKVIEW_VISUAL_1_1_10_SATL-2KM-10N_554_4162.txt', '2024-01-01T19:28:56'),\n",
       "       ('20240101_192856_SN24_QUICKVIEW_VISUAL_1_1_10_SATL-2KM-10N_552_4164.txt', '2024-01-01T19:28:56'),\n",
       "       ('20240101_192856_SN24_QUICKVIEW_VISUAL_1_1_10_SATL-2KM-10N_552_4162.txt', '2024-01-01T19:28:56'),\n",
       "       ('20240101_174301_SN33_QUICKVIEW_VISUAL_1_1_10_SATL-2KM-11N_404_3772.txt', '2024-01-01T17:43:01'),\n",
       "       ('20240101_174301_SN33_QUICKVIEW_VISUAL_1_1_10_SATL-2KM-11N_404_3770.txt', '2024-01-01T17:43:01')],\n",
       "      dtype=[('name', '<U100'), ('date', '<M8[s]')])"
      ]
     },
     "execution_count": 74,
     "metadata": {},
     "output_type": "execute_result"
    }
   ],
   "source": [
    "#3. Print all the annotations from the oldest ones to the newest one during the seconf half of the 2024. \n",
    "#I printed the annotations from the oldest ones to the newest one during the first half of the 2024 because we don't have data from the second half\n",
    "\n",
    "pattern = r'(\\d{8})_(\\d{6})_SN(\\d+)_QUICKVIEW_VISUAL_([\\d_]+)_([A-Za-z0-9\\-_.]+)\\.txt' \n",
    "annotations = glob.glob('session_4/annotations/*.txt')\n",
    "\n",
    "ann_datetime=[]\n",
    "\n",
    "for annotation in annotations:\n",
    "        filename = os.path.basename(annotation)\n",
    "        match = re.match(pattern, filename)\n",
    "        if match:\n",
    "                date, time, _, _, _ = match.groups()\n",
    "                datetime_str = date + time\n",
    "                datetime_obj = datetime.strptime(datetime_str, \"%Y%m%d%H%M%S\")\n",
    "        \n",
    "                year_month = datetime_obj.strftime(\"%Y-%m\")\n",
    "                \n",
    "                ann_datetime.append((filename, datetime_obj))\n",
    "\n",
    "dtype= [('name', 'U100'),  ('date', 'datetime64[s]')]\n",
    "\n",
    "array_ann_datetime= np.array(ann_datetime, dtype=dtype)\n",
    "array_order= np.sort(array_ann_datetime, order=\"date\")[::-1]\n",
    "array_order\n"
   ]
  },
  {
   "cell_type": "code",
   "execution_count": 1,
   "id": "3a264925",
   "metadata": {},
   "outputs": [
    {
     "data": {
      "text/plain": [
       "array([], dtype=[('name', '<U100'), ('date', '<M8[s]')])"
      ]
     },
     "execution_count": 1,
     "metadata": {},
     "output_type": "execute_result"
    }
   ],
   "source": [
    "import glob\n",
    "import os\n",
    "import re\n",
    "import numpy as np\n",
    "from datetime import datetime \n",
    "pattern = r'(\\d{8})_(\\d{6})_SN(\\d+)_QUICKVIEW_VISUAL_([\\d_]+)_([A-Za-z0-9\\-_.]+)\\.txt' \n",
    "annotations = glob.glob('session_4/annotations/*.txt')\n",
    "\n",
    "ann_datetime=[]\n",
    "\n",
    "for annotation in annotations:\n",
    "        filename = os.path.basename(annotation)\n",
    "        match = re.match(pattern, filename)\n",
    "        if match:\n",
    "                date, time, _, _, _ = match.groups()\n",
    "                datetime_str = date + time\n",
    "                datetime_obj = datetime.strptime(datetime_str, \"%Y%m%d%H%M%S\")\n",
    "        \n",
    "                year_month = datetime_obj.strftime(\"%Y-%m\")\n",
    "ann_datetime.append((filename, datetime_obj))\n",
    "\n",
    "dtype= [('name', 'U100'),  ('date', 'datetime64[s]')]\n",
    "\n",
    "array_ann_datetime= np.array(ann_datetime, dtype=dtype)\n",
    "array_order= np.sort(array_ann_datetime, order=\"date\")[::-1]\n",
    "months_to_keep = {7, 8, 9, 10, 11, 12}\n",
    "filtered_array = array_order[np.array([datetime_obj['date'].astype('datetime64[s]').item().month in months_to_keep for datetime_obj in array_order])]\n",
    "\n",
    "filtered_array\n",
    "\n"
   ]
  },
  {
   "cell_type": "code",
   "execution_count": null,
   "id": "f24f2896",
   "metadata": {},
   "outputs": [],
   "source": []
  }
 ],
 "metadata": {
  "celltoolbar": "Slideshow",
  "kernelspec": {
   "display_name": "mi_entorno",
   "language": "python",
   "name": "python3"
  },
  "language_info": {
   "codemirror_mode": {
    "name": "ipython",
    "version": 3
   },
   "file_extension": ".py",
   "mimetype": "text/x-python",
   "name": "python",
   "nbconvert_exporter": "python",
   "pygments_lexer": "ipython3",
   "version": "3.12.7"
  }
 },
 "nbformat": 4,
 "nbformat_minor": 5
}
