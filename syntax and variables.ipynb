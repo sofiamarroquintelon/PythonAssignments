{
 "cells": [
  {
   "cell_type": "markdown",
   "id": "49147001-a0e4-407a-a8e0-6e2e4a7aaa2e",
   "metadata": {},
   "source": [
    "Exercise 1: Print a greeting\n"
   ]
  },
  {
   "cell_type": "code",
   "execution_count": 12,
   "id": "955be8b0-79cb-4eed-a929-848478af7772",
   "metadata": {},
   "outputs": [],
   "source": [
    "def greeting():\n",
    "    print('Hello Python!')"
   ]
  },
  {
   "cell_type": "code",
   "execution_count": 14,
   "id": "f419f145-2eaa-4fe4-bcd4-060f44a53d7b",
   "metadata": {},
   "outputs": [
    {
     "name": "stdout",
     "output_type": "stream",
     "text": [
      "Hello Python!\n"
     ]
    }
   ],
   "source": [
    "greeting()"
   ]
  },
  {
   "cell_type": "markdown",
   "id": "da0c0c9b-4d15-49e8-979d-3c2b0f74c941",
   "metadata": {},
   "source": [
    "Exercise 2: Basic Arithmetics\n",
    "Create a program that:\n",
    "Defines two variables, a and b, with numerical values\n",
    "Prints their sum, difference, product, and quotient\n"
   ]
  },
  {
   "cell_type": "code",
   "execution_count": 17,
   "id": "406b5642-1fd4-46f5-b7f8-08b4437d9ae1",
   "metadata": {},
   "outputs": [],
   "source": [
    "a= 3\n",
    "b= 6"
   ]
  },
  {
   "cell_type": "code",
   "execution_count": 19,
   "id": "f0c38083-f5ff-49cc-a2c8-2a7354952f93",
   "metadata": {},
   "outputs": [],
   "source": [
    "sum= (a+b) \n",
    "diff= (a-b)\n",
    "product= (a*b)\n",
    "quo = (a/b)\n"
   ]
  },
  {
   "cell_type": "code",
   "execution_count": 23,
   "id": "c9dfb6f4-7034-4cfc-9881-a017ba8b3f1a",
   "metadata": {},
   "outputs": [
    {
     "name": "stdout",
     "output_type": "stream",
     "text": [
      " Suma: 9\n",
      " Difference: -3\n",
      " Product: 18\n",
      " Quotient: 0.5\n"
     ]
    }
   ],
   "source": [
    "print (f\" Suma: {sum}\")\n",
    "print (f\" Difference: {diff}\")\n",
    "print (f\" Product: {product}\")\n",
    "print (f\" Quotient: {quo}\")"
   ]
  },
  {
   "cell_type": "markdown",
   "id": "bc5bd6a1-8703-4403-bfd2-1592c6678ed6",
   "metadata": {},
   "source": [
    "EXERCISE 3: String Manipulation\n",
    "Define a variable name and assign it your name. Write a program that prints a message saying \"Hello, [name]!\" where [name] is the value of the variable"
   ]
  },
  {
   "cell_type": "code",
   "execution_count": 26,
   "id": "1e5b298d-5e70-4098-9c12-8fbdfee1cb75",
   "metadata": {},
   "outputs": [],
   "source": [
    "name= \"Sofia\""
   ]
  },
  {
   "cell_type": "code",
   "execution_count": 28,
   "id": "d4c38220-25bd-4780-9c98-e85e31383545",
   "metadata": {},
   "outputs": [
    {
     "name": "stdout",
     "output_type": "stream",
     "text": [
      "Hello, Sofia!\n"
     ]
    }
   ],
   "source": [
    "print (f'Hello, {name}!')"
   ]
  }
 ],
 "metadata": {
  "kernelspec": {
   "display_name": "Python 3 (ipykernel)",
   "language": "python",
   "name": "python3"
  },
  "language_info": {
   "codemirror_mode": {
    "name": "ipython",
    "version": 3
   },
   "file_extension": ".py",
   "mimetype": "text/x-python",
   "name": "python",
   "nbconvert_exporter": "python",
   "pygments_lexer": "ipython3",
   "version": "3.12.4"
  }
 },
 "nbformat": 4,
 "nbformat_minor": 5
}
