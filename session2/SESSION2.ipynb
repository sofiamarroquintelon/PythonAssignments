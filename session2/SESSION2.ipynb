{
 "cells": [
  {
   "cell_type": "code",
   "execution_count": 11,
   "metadata": {},
   "outputs": [],
   "source": [
    "def fizzbuzz(n):\n",
    "        if (n %3 ==0) and (n %5 ==0):\n",
    "            print(f\"{n}: FizzBuzz\")\n",
    "        elif (n %3 ==0):\n",
    "            print(f\"{n}: Fizz\")\n",
    "        elif (n %5 == 0):\n",
    "            print(f\"{n}: Buzz\")"
   ]
  },
  {
   "cell_type": "code",
   "execution_count": 14,
   "metadata": {},
   "outputs": [
    {
     "name": "stdout",
     "output_type": "stream",
     "text": [
      "3: Fizz\n",
      "5: Buzz\n",
      "6: Fizz\n",
      "9: Fizz\n",
      "10: Buzz\n",
      "12: Fizz\n",
      "15: FizzBuzz\n",
      "18: Fizz\n",
      "20: Buzz\n"
     ]
    }
   ],
   "source": [
    "for i in range (1,21):\n",
    "    fizzbuzz(i)\n"
   ]
  },
  {
   "cell_type": "code",
   "execution_count": null,
   "metadata": {},
   "outputs": [],
   "source": []
  }
 ],
 "metadata": {
  "kernelspec": {
   "display_name": "mi_entorno",
   "language": "python",
   "name": "python3"
  },
  "language_info": {
   "codemirror_mode": {
    "name": "ipython",
    "version": 3
   },
   "file_extension": ".py",
   "mimetype": "text/x-python",
   "name": "python",
   "nbconvert_exporter": "python",
   "pygments_lexer": "ipython3",
   "version": "3.12.7"
  }
 },
 "nbformat": 4,
 "nbformat_minor": 2
}
