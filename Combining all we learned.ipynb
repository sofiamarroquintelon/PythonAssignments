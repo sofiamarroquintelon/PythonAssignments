{
 "cells": [
  {
   "cell_type": "markdown",
   "id": "f245d7ed-75c0-48fa-9cef-1b59c791a52a",
   "metadata": {},
   "source": [
    "Exercise 15: List Comprehension\n",
    "- Create a list of numbers from 1 to 10.\n",
    "- Use list comprehension to create a new list that contains the squares of these numbers.\n",
    "- Print the new list.\n"
   ]
  },
  {
   "cell_type": "code",
   "execution_count": 1,
   "id": "6ae1d747-acb6-48d6-b3b7-1afce106c080",
   "metadata": {},
   "outputs": [
    {
     "name": "stdout",
     "output_type": "stream",
     "text": [
      "[1, 4, 9, 16, 25, 36, 49, 64, 81, 100]\n"
     ]
    }
   ],
   "source": [
    "numbers= [1,2,3,4,5,6,7,8,9,10]\n",
    "squared_numbers = [number**2 for number in numbers]\n",
    "print (squared_numbers) "
   ]
  },
  {
   "cell_type": "markdown",
   "id": "bed0a72e-19ba-434b-8a9b-929db9945060",
   "metadata": {},
   "source": [
    "Exercise 16: Nested Data Structures\n",
    "- Create a dictionary where the keys are names of students and the values are lists of their grades.\n",
    "- Write a function that takes the dictionary and prints the average grade for each student.\n"
   ]
  },
  {
   "cell_type": "code",
   "execution_count": 15,
   "id": "71ab45cb-9df5-439f-b8d1-2184431aefbf",
   "metadata": {},
   "outputs": [
    {
     "name": "stdout",
     "output_type": "stream",
     "text": [
      "Lucia: Average grade = 87.66666666666667\n",
      "Sofia: Average grade = 81.0\n",
      "Raul: Average grade = 80.33333333333333\n",
      "None\n"
     ]
    }
   ],
   "source": [
    "grades= {'Lucia':[98, 78,87], \"Sofia\": [95,80, 68], \"Raul\":[79,64, 98]}\n",
    "def average_grade(grades_dict): \n",
    "    for student, grades in grades_dict.items(): \n",
    "        average = sum(grades)/len(grades) \n",
    "        print(f\"{student}: Average grade = {average}\")\n",
    "\n",
    "print (average_grade(grades))"
   ]
  },
  {
   "cell_type": "markdown",
   "id": "613a90eb-eabe-4130-b68f-3f08ac627e2f",
   "metadata": {},
   "source": [
    "Exercise 17: Simple Calculator\n",
    "- Write a program that:\n",
    "- Defines a function calculate which takes three parameters: two numbers and an operator (+, -, *, /).\n",
    "- Performs the operation and returns the result.\n",
    "- Ask the user for the two numbers and the operator, then call the function and print the result."
   ]
  },
  {
   "cell_type": "code",
   "execution_count": 36,
   "id": "a9ed7fc9-9e17-4e33-94f3-e3409948ffd3",
   "metadata": {},
   "outputs": [],
   "source": [
    "def calculate(a,b, op): \n",
    "    if op == \"+\": \n",
    "        return a+b\n",
    "    elif op == \"-\": \n",
    "        return a-b\n",
    "    elif op == \"*\":\n",
    "        return a*b\n",
    "    elif op -- \"/\": \n",
    "        if b > 0:\n",
    "            return a/n \n",
    "        else: \n",
    "            return \"no\" "
   ]
  },
  {
   "cell_type": "code",
   "execution_count": 58,
   "id": "de3306eb-075a-4ab1-a298-3a01150db419",
   "metadata": {},
   "outputs": [
    {
     "name": "stdin",
     "output_type": "stream",
     "text": [
      "First number: 4\n",
      "Second number:  3\n",
      "Operator (+, -, *, /):  +\n"
     ]
    }
   ],
   "source": [
    "a=float(input(\"First number:\"))\n",
    "b=float(input(\"Second number: \"))\n",
    "op =input(\"Operator (+, -, *, /): \")\n",
    "result = calculate(a,b,op) "
   ]
  },
  {
   "cell_type": "code",
   "execution_count": 60,
   "id": "c53425a4-3cc9-4c43-9811-bb12907b96f8",
   "metadata": {},
   "outputs": [
    {
     "name": "stdout",
     "output_type": "stream",
     "text": [
      "7.0\n"
     ]
    }
   ],
   "source": [
    "print(result)"
   ]
  },
  {
   "cell_type": "code",
   "execution_count": null,
   "id": "ca3a40f7-c103-4369-8166-19c505201c92",
   "metadata": {},
   "outputs": [],
   "source": []
  }
 ],
 "metadata": {
  "kernelspec": {
   "display_name": "Python 3 (ipykernel)",
   "language": "python",
   "name": "python3"
  },
  "language_info": {
   "codemirror_mode": {
    "name": "ipython",
    "version": 3
   },
   "file_extension": ".py",
   "mimetype": "text/x-python",
   "name": "python",
   "nbconvert_exporter": "python",
   "pygments_lexer": "ipython3",
   "version": "3.12.4"
  }
 },
 "nbformat": 4,
 "nbformat_minor": 5
}
