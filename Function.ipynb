{
 "cells": [
  {
   "cell_type": "markdown",
   "id": "af600937-7832-47b6-b44b-da3e7149b8fc",
   "metadata": {},
   "source": [
    "Exercise 12: Define a Function\n",
    "- Write a function called greet that takes a name as an argument and prints \"Hello, [name]!\".\n",
    "- Call the function with your own name.\n"
   ]
  },
  {
   "cell_type": "code",
   "execution_count": 18,
   "id": "e5825a64-b275-41a8-a3b1-7002850f9e62",
   "metadata": {},
   "outputs": [
    {
     "name": "stdout",
     "output_type": "stream",
     "text": [
      "Hello, Sofia\n"
     ]
    }
   ],
   "source": [
    "def greet(name):\n",
    "    print(f'Hello, {name}')\n",
    "\n",
    "greet(\"Sofia\")"
   ]
  },
  {
   "cell_type": "markdown",
   "id": "7ed4cda4-708f-4626-8dbb-55fe9d514f97",
   "metadata": {},
   "source": [
    "Exercise 13: Function with Return Value\n",
    "- Define a function called square that takes a number as an argument and returns its square.\n",
    "- Print the result of calling this function with different numbers.\n"
   ]
  },
  {
   "cell_type": "code",
   "execution_count": 26,
   "id": "fd00ae3b-9204-423a-91f4-009edf7ab806",
   "metadata": {},
   "outputs": [],
   "source": [
    "def square(number):\n",
    "    return number**2"
   ]
  },
  {
   "cell_type": "code",
   "execution_count": 28,
   "id": "ae5c0044-5613-4cb8-9cd5-8393b56fd57c",
   "metadata": {},
   "outputs": [
    {
     "data": {
      "text/plain": [
       "9"
      ]
     },
     "execution_count": 28,
     "metadata": {},
     "output_type": "execute_result"
    }
   ],
   "source": [
    "square(3)"
   ]
  },
  {
   "cell_type": "code",
   "execution_count": 30,
   "id": "7a90730f-a206-4db3-87cf-93dd92c07675",
   "metadata": {},
   "outputs": [
    {
     "data": {
      "text/plain": [
       "25"
      ]
     },
     "execution_count": 30,
     "metadata": {},
     "output_type": "execute_result"
    }
   ],
   "source": [
    "square(5)"
   ]
  },
  {
   "cell_type": "code",
   "execution_count": 32,
   "id": "998ae7b3-40b7-4501-b981-bc8bcd2ceb8e",
   "metadata": {},
   "outputs": [
    {
     "data": {
      "text/plain": [
       "81"
      ]
     },
     "execution_count": 32,
     "metadata": {},
     "output_type": "execute_result"
    }
   ],
   "source": [
    "square(9)"
   ]
  },
  {
   "cell_type": "markdown",
   "id": "40f1ef9b-3725-4070-97a9-ede133dde693",
   "metadata": {},
   "source": [
    "Exercise 14: Function with Default Parameters\n",
    "- Write a function called multiply that takes two parameters, a and b, and returns their product. Set a default value of 1 for the parameter b.\n",
    "- Test the function with and without providing the second argument."
   ]
  },
  {
   "cell_type": "code",
   "execution_count": 35,
   "id": "82479ca1-d0fe-49b4-ad87-35d83b8312d8",
   "metadata": {},
   "outputs": [],
   "source": [
    "def multiply(a, b=1):\n",
    "    return a*b"
   ]
  },
  {
   "cell_type": "code",
   "execution_count": 38,
   "id": "5d15ceb1-1af1-4c3d-9aa9-4cfc02fe4cde",
   "metadata": {},
   "outputs": [
    {
     "data": {
      "text/plain": [
       "4"
      ]
     },
     "execution_count": 38,
     "metadata": {},
     "output_type": "execute_result"
    }
   ],
   "source": [
    "multiply(4)"
   ]
  },
  {
   "cell_type": "code",
   "execution_count": 40,
   "id": "15fc0754-b01b-4711-b19d-3104e13a0707",
   "metadata": {},
   "outputs": [
    {
     "data": {
      "text/plain": [
       "7"
      ]
     },
     "execution_count": 40,
     "metadata": {},
     "output_type": "execute_result"
    }
   ],
   "source": [
    "multiply(7)"
   ]
  },
  {
   "cell_type": "code",
   "execution_count": null,
   "id": "ffd4624a-d90e-466d-aec0-69cde99fe777",
   "metadata": {},
   "outputs": [],
   "source": []
  }
 ],
 "metadata": {
  "kernelspec": {
   "display_name": "Python 3 (ipykernel)",
   "language": "python",
   "name": "python3"
  },
  "language_info": {
   "codemirror_mode": {
    "name": "ipython",
    "version": 3
   },
   "file_extension": ".py",
   "mimetype": "text/x-python",
   "name": "python",
   "nbconvert_exporter": "python",
   "pygments_lexer": "ipython3",
   "version": "3.12.4"
  }
 },
 "nbformat": 4,
 "nbformat_minor": 5
}
