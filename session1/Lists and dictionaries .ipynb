{
 "cells": [
  {
   "cell_type": "markdown",
   "id": "23965af2-70fa-40ca-b8f2-a06a4e3af00e",
   "metadata": {},
   "source": [
    "EXERCISE 4: Lists "
   ]
  },
  {
   "cell_type": "markdown",
   "id": "d523d404-7298-491b-af2d-eb58102a6730",
   "metadata": {},
   "source": [
    "- Create a list called universities with at least five different university names.\n",
    "- Print the entire list.\n",
    "- Print the first and last university in the list."
   ]
  },
  {
   "cell_type": "code",
   "execution_count": 9,
   "id": "68e691a6-354e-45e4-8448-5c8e35470653",
   "metadata": {},
   "outputs": [],
   "source": [
    "universities = [\"Complutense de Madrid\", \n",
    "                \"Harvard University\", \n",
    "                \"Universidad Ramon Llul\", \n",
    "                \"Berkeley\", \n",
    "                \"Universidad de Navarra\"]"
   ]
  },
  {
   "cell_type": "code",
   "execution_count": 33,
   "id": "b6096610-bed8-4f2c-bda7-f70de0dc53e6",
   "metadata": {},
   "outputs": [
    {
     "name": "stdout",
     "output_type": "stream",
     "text": [
      "['Complutense de Madrid', 'Harvard University', 'Universidad Ramon Llul', 'Berkeley', 'Universidad de Navarra']\n"
     ]
    }
   ],
   "source": [
    "print (universities)"
   ]
  },
  {
   "cell_type": "code",
   "execution_count": 23,
   "id": "2e090f4c-6e33-451e-abdb-ca7aa8459eee",
   "metadata": {},
   "outputs": [
    {
     "name": "stdout",
     "output_type": "stream",
     "text": [
      "Complutense de Madrid\n",
      "Universidad de Navarra\n"
     ]
    }
   ],
   "source": [
    "print (universities[0])\n",
    "print (universities [4])"
   ]
  },
  {
   "cell_type": "markdown",
   "id": "a9a8fa35-e276-40fb-92f5-0dffebdf02b3",
   "metadata": {},
   "source": [
    "EXERCISE 5: Dictionaries \n",
    "\n",
    "\n",
    "- Create a dictionary called student with keys: name, age, and grade, and assign appropiate values to each ke\n",
    "- Write a program that prints each key-value pair in the dictionary "
   ]
  },
  {
   "cell_type": "code",
   "execution_count": 49,
   "id": "29280ecd-1b64-4c84-8407-f4530b6ee09f",
   "metadata": {},
   "outputs": [],
   "source": [
    "student = {\n",
    "    \"Name\": \"Sofia\",\n",
    "    \"Age\": 23,\n",
    "    \"Grade\": \"Senior\"\n",
    "}"
   ]
  },
  {
   "cell_type": "code",
   "execution_count": 51,
   "id": "896f127b-dea8-4d55-9d1f-386a59e46864",
   "metadata": {},
   "outputs": [
    {
     "name": "stdout",
     "output_type": "stream",
     "text": [
      "Student information: \n",
      "Name:Sofia\n",
      "Age:23\n",
      "Grade:Senior\n"
     ]
    }
   ],
   "source": [
    "print (\"Student information: \")\n",
    "for key, value in student.items():\n",
    "    print(f'{key}:{value}')\n",
    "       "
   ]
  },
  {
   "cell_type": "code",
   "execution_count": null,
   "id": "d0277231-e31e-4c5f-ae29-63ad4a5de2ed",
   "metadata": {},
   "outputs": [],
   "source": []
  }
 ],
 "metadata": {
  "kernelspec": {
   "display_name": "Python 3 (ipykernel)",
   "language": "python",
   "name": "python3"
  },
  "language_info": {
   "codemirror_mode": {
    "name": "ipython",
    "version": 3
   },
   "file_extension": ".py",
   "mimetype": "text/x-python",
   "name": "python",
   "nbconvert_exporter": "python",
   "pygments_lexer": "ipython3",
   "version": "3.12.4"
  }
 },
 "nbformat": 4,
 "nbformat_minor": 5
}
