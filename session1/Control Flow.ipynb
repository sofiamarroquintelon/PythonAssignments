{
 "cells": [
  {
   "cell_type": "markdown",
   "id": "698540df-f28c-4dbe-a157-5788f0413301",
   "metadata": {},
   "source": [
    "Exercise 8: Conditional Statements\n",
    "- Write a program that:\n",
    "- Takes an input number from the user.\n",
    "- Checks if the number is positive, negative, or zero.\n",
    "- Prints an appropriate message based on the result.\n",
    "\n"
   ]
  },
  {
   "cell_type": "code",
   "execution_count": 18,
   "id": "67cbc19a-7132-440c-9800-016e1786a8b4",
   "metadata": {},
   "outputs": [
    {
     "name": "stdin",
     "output_type": "stream",
     "text": [
      "Input a number: 4\n"
     ]
    },
    {
     "name": "stdout",
     "output_type": "stream",
     "text": [
      "The number is positive\n"
     ]
    }
   ],
   "source": [
    "number = float(input('Input a number:'))\n",
    "if number > 0:\n",
    "    print ('The number is positive')\n",
    "else: \n",
    "    print('The number is negative')\n",
    "\n"
   ]
  },
  {
   "cell_type": "markdown",
   "id": "2aaa9f58-7ca5-459d-aad8-bf93c349b52a",
   "metadata": {},
   "source": [
    "Exercise 9: For Loop\n",
    "- Create a list of numbers from 1 to 5.\n",
    "- Use a for loop to iterate through the list and print each number.\n"
   ]
  },
  {
   "cell_type": "code",
   "execution_count": 22,
   "id": "df725991-f91e-426a-8f47-303f9c0e7d17",
   "metadata": {},
   "outputs": [
    {
     "name": "stdout",
     "output_type": "stream",
     "text": [
      "1\n",
      "4\n",
      "7\n",
      "9\n",
      "6\n",
      "Done\n"
     ]
    }
   ],
   "source": [
    "numbers= ['1','4','7','9','6']\n",
    "for number in numbers : \n",
    "    print(number) \n",
    "else: \n",
    "    print('Done')"
   ]
  },
  {
   "cell_type": "markdown",
   "id": "11bfaba2-ebd8-4891-b1e5-ca2c4807f00d",
   "metadata": {},
   "source": [
    "Exercise 10: While Loop\n",
    "- Write a program that uses a while loop to print numbers from 1 to 5.\n",
    "- Ensure the loop terminates correctly."
   ]
  },
  {
   "cell_type": "code",
   "execution_count": 30,
   "id": "83cc7d7e-fc7b-443c-a0b2-c2606ee1da77",
   "metadata": {},
   "outputs": [
    {
     "name": "stdout",
     "output_type": "stream",
     "text": [
      "1\n",
      "2\n",
      "3\n",
      "4\n",
      "5\n"
     ]
    }
   ],
   "source": [
    "counter = 1\n",
    "while counter <=5 :\n",
    "    print (counter)\n",
    "    counter +=1    "
   ]
  },
  {
   "cell_type": "markdown",
   "id": "c7463380-f24f-4b25-a5fd-dcbfef535960",
   "metadata": {},
   "source": [
    "Exercise 11: Match Statement (Python 3.10+)\n",
    "\n",
    "- Write a program that:\n",
    "- Asks the user to input a grade (e.g., \"A\", \"B\", \"C\", \"D\", or \"F\").\n",
    "- Use a match statement to print a corresponding message for each grade:\n",
    "- \"A\": \"Excellent!\"\n",
    "- \"B\": \"Good job!\"\n",
    "- \"C\": \"Fair.\"\n",
    "- \"D\": \"Needs improvement.\"\n",
    "- \"F\": \"Failing.\"\n",
    " \n",
    "Handle invalid input by printing a default message."
   ]
  },
  {
   "cell_type": "code",
   "execution_count": 51,
   "id": "14786c25-f01e-4961-a59f-3d9d4bc49323",
   "metadata": {},
   "outputs": [
    {
     "name": "stdin",
     "output_type": "stream",
     "text": [
      "Input a grade A\n"
     ]
    },
    {
     "name": "stdout",
     "output_type": "stream",
     "text": [
      "Excellent!\n"
     ]
    }
   ],
   "source": [
    "grade= input('Input a grade') \n",
    "\n",
    "match grade:\n",
    "   case \"A\":\n",
    "       print(\"Excellent!\")\n",
    "   case \"B\":\n",
    "       print(\"Good job!\")\n",
    "   case \"C\":\n",
    "       print(\"Fair\")\n",
    "   case \"D\":\n",
    "       print(\"Needs improvement\")\n",
    "   case \"F\":\n",
    "       print(\"Failing\")\n",
    "   case _:\n",
    "       print('Unknown command')"
   ]
  },
  {
   "cell_type": "code",
   "execution_count": null,
   "id": "e7b9731c-5d8e-454a-9458-52fc46052e4a",
   "metadata": {},
   "outputs": [],
   "source": []
  }
 ],
 "metadata": {
  "kernelspec": {
   "display_name": "Python 3 (ipykernel)",
   "language": "python",
   "name": "python3"
  },
  "language_info": {
   "codemirror_mode": {
    "name": "ipython",
    "version": 3
   },
   "file_extension": ".py",
   "mimetype": "text/x-python",
   "name": "python",
   "nbconvert_exporter": "python",
   "pygments_lexer": "ipython3",
   "version": "3.12.4"
  }
 },
 "nbformat": 4,
 "nbformat_minor": 5
}
