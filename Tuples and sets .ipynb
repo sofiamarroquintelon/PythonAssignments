{
 "cells": [
  {
   "cell_type": "markdown",
   "id": "ffe67417-586d-46e7-95e4-88bc62bcb221",
   "metadata": {},
   "source": [
    "Exercise 6: Tuples\n",
    "- Define a tuple called coordinates with two values representing a point in 2D space (e.g., (x, y))\n",
    "- Print the value of coordinates and access each element by its index."
   ]
  },
  {
   "cell_type": "code",
   "execution_count": 12,
   "id": "a894ded7-cb10-480d-8314-649f85be8808",
   "metadata": {},
   "outputs": [],
   "source": [
    "coordinates= (5,10)"
   ]
  },
  {
   "cell_type": "code",
   "execution_count": 14,
   "id": "fc13529b-83db-4b95-9c3f-dfa587f0a2e7",
   "metadata": {},
   "outputs": [
    {
     "name": "stdout",
     "output_type": "stream",
     "text": [
      "Coordinates: (5, 10)\n"
     ]
    }
   ],
   "source": [
    "print(\"Coordinates:\", coordinates)"
   ]
  },
  {
   "cell_type": "code",
   "execution_count": 16,
   "id": "34efaf0e-09f6-4186-b082-cfd95372ee08",
   "metadata": {},
   "outputs": [
    {
     "name": "stdout",
     "output_type": "stream",
     "text": [
      "X coordinate: 5\n",
      "Y coordinate: 10\n"
     ]
    }
   ],
   "source": [
    "print(\"X coordinate:\", coordinates[0]) \n",
    "print(\"Y coordinate:\", coordinates[1])"
   ]
  },
  {
   "cell_type": "markdown",
   "id": "3896bce8-7dca-41dc-8c84-cff59cd6eb0a",
   "metadata": {},
   "source": [
    "EXERCISE 7: Sets\n",
    "- Create a set called colors with the values: \"red\", \"green\", \"blue\".\n",
    "- Add another color to the set.\n",
    "- Try adding a duplicate color and observe what happens.\n",
    "- Print the set and remove one color from it.\n",
    "- Create another set named light_colors and merge colors and light_colors."
   ]
  },
  {
   "cell_type": "code",
   "execution_count": 46,
   "id": "de828aee-6d03-4672-a62c-733eba56ba48",
   "metadata": {},
   "outputs": [
    {
     "data": {
      "text/plain": [
       "{'blue', 'green', 'red'}"
      ]
     },
     "execution_count": 46,
     "metadata": {},
     "output_type": "execute_result"
    }
   ],
   "source": [
    "colors= {\"red\", \"green\", \"blue\"}\n",
    "colors"
   ]
  },
  {
   "cell_type": "code",
   "execution_count": 48,
   "id": "b9d9c3ac-1439-417c-ba91-9c978c160539",
   "metadata": {},
   "outputs": [
    {
     "data": {
      "text/plain": [
       "{'blue', 'green', 'purple', 'red'}"
      ]
     },
     "execution_count": 48,
     "metadata": {},
     "output_type": "execute_result"
    }
   ],
   "source": [
    "colors.add(\"purple\")\n",
    "colors"
   ]
  },
  {
   "cell_type": "code",
   "execution_count": 52,
   "id": "1d0f88ce-5a75-400e-9cc9-13a32dfa6e61",
   "metadata": {},
   "outputs": [
    {
     "data": {
      "text/plain": [
       "{'blue', 'green', 'purple', 'red'}"
      ]
     },
     "execution_count": 52,
     "metadata": {},
     "output_type": "execute_result"
    }
   ],
   "source": [
    "colors.add(\"red\")\n",
    "colors"
   ]
  },
  {
   "cell_type": "code",
   "execution_count": 54,
   "id": "ba918d2d-dde1-4775-b243-fa3421919e65",
   "metadata": {},
   "outputs": [
    {
     "name": "stdout",
     "output_type": "stream",
     "text": [
      "{'blue', 'green', 'purple', 'red'}\n"
     ]
    }
   ],
   "source": [
    "print(colors)"
   ]
  },
  {
   "cell_type": "code",
   "execution_count": 58,
   "id": "871741ce-d1ad-445b-bc99-47888c168e79",
   "metadata": {},
   "outputs": [],
   "source": [
    "colors.remove(\"green\")"
   ]
  },
  {
   "cell_type": "code",
   "execution_count": 60,
   "id": "5d47c9c6-5942-4a03-8b57-3734406abf4d",
   "metadata": {},
   "outputs": [
    {
     "data": {
      "text/plain": [
       "{'blue', 'purple', 'red'}"
      ]
     },
     "execution_count": 60,
     "metadata": {},
     "output_type": "execute_result"
    }
   ],
   "source": [
    "colors"
   ]
  },
  {
   "cell_type": "code",
   "execution_count": 62,
   "id": "2750429a-74f9-4949-96cd-ae120e0979e7",
   "metadata": {},
   "outputs": [],
   "source": [
    "light_colors = {\"pink\", \"lightblue\"} "
   ]
  },
  {
   "cell_type": "code",
   "execution_count": 64,
   "id": "43ded697-629f-48e9-881c-798c0d3f0ae1",
   "metadata": {},
   "outputs": [],
   "source": [
    "mergedcolors = colors.union(light_colors)"
   ]
  },
  {
   "cell_type": "code",
   "execution_count": 66,
   "id": "60a07709-eb52-4f5e-8e2d-96c43b94e763",
   "metadata": {},
   "outputs": [
    {
     "data": {
      "text/plain": [
       "{'blue', 'lightblue', 'pink', 'purple', 'red'}"
      ]
     },
     "execution_count": 66,
     "metadata": {},
     "output_type": "execute_result"
    }
   ],
   "source": [
    "mergedcolors"
   ]
  },
  {
   "cell_type": "code",
   "execution_count": null,
   "id": "0fd588dd-0b7f-4711-a168-9c24146cdecc",
   "metadata": {},
   "outputs": [],
   "source": []
  }
 ],
 "metadata": {
  "kernelspec": {
   "display_name": "Python 3 (ipykernel)",
   "language": "python",
   "name": "python3"
  },
  "language_info": {
   "codemirror_mode": {
    "name": "ipython",
    "version": 3
   },
   "file_extension": ".py",
   "mimetype": "text/x-python",
   "name": "python",
   "nbconvert_exporter": "python",
   "pygments_lexer": "ipython3",
   "version": "3.12.4"
  }
 },
 "nbformat": 4,
 "nbformat_minor": 5
}
